{
 "cells": [
  {
   "cell_type": "code",
   "execution_count": 1,
   "metadata": {
    "collapsed": true
   },
   "outputs": [],
   "source": [
    "import os\n",
    "import sys\n",
    "import numpy as np\n",
    "import json\n",
    "import matplotlib.pylab as plt\n",
    "import pandas as pd\n",
    "import getpass\n",
    "%matplotlib inline \n",
    "sys.path.append(\"..\") # go to parent dir\n",
    "import unicodecsv as csv"
   ]
  },
  {
   "cell_type": "markdown",
   "metadata": {},
   "source": [
    "Path Locations"
   ]
  },
  {
   "cell_type": "code",
   "execution_count": 2,
   "metadata": {
    "collapsed": true
   },
   "outputs": [],
   "source": [
    "username = getpass.getuser()\n",
    "if username == 'sdekel':\n",
    "    data_path = 'C:\\DataSets\\yelp_dataset\\processed_data'\n",
    "elif username == 'zahi':\n",
    "    data_path = 'D:\\\\users\\\\zahi\\\\OneDrive - Bar-Ilan University\\\\yelp_dataset_challenge_round9\\\\yelp2'\n",
    "else:\n",
    "    data_path = ''  ## TODO: PUT YOUR DATA PATH HERE"
   ]
  },
  {
   "cell_type": "markdown",
   "metadata": {},
   "source": [
    "Dataset Names"
   ]
  },
  {
   "cell_type": "code",
   "execution_count": 3,
   "metadata": {
    "collapsed": true
   },
   "outputs": [],
   "source": [
    "business_data_name = 'yelp_academic_dataset_business_with_Clustered_location_with_Binary_Categories_restaurants.csv'\n",
    "business_fullpath = os.path.join( data_path, business_data_name )"
   ]
  },
  {
   "cell_type": "markdown",
   "metadata": {},
   "source": [
    "Read DataFrame"
   ]
  },
  {
   "cell_type": "code",
   "execution_count": 4,
   "metadata": {
    "collapsed": true
   },
   "outputs": [],
   "source": [
    "business_data = pd.read_csv(business_fullpath, encoding='latin1')"
   ]
  },
  {
   "cell_type": "code",
   "execution_count": 9,
   "metadata": {
    "collapsed": false
   },
   "outputs": [
    {
     "data": {
      "text/html": [
       "<div>\n",
       "<table border=\"1\" class=\"dataframe\">\n",
       "  <thead>\n",
       "    <tr style=\"text-align: right;\">\n",
       "      <th></th>\n",
       "      <th>Unnamed: 0</th>\n",
       "      <th>Unnamed: 0.1</th>\n",
       "      <th>address</th>\n",
       "      <th>attribute_AcceptsInsurance</th>\n",
       "      <th>attribute_AgesAllowed</th>\n",
       "      <th>attribute_Alcohol</th>\n",
       "      <th>attribute_Ambience_casual</th>\n",
       "      <th>attribute_Ambience_classy</th>\n",
       "      <th>attribute_Ambience_divey</th>\n",
       "      <th>attribute_Ambience_hipster</th>\n",
       "      <th>...</th>\n",
       "      <th>Acupuncture</th>\n",
       "      <th>Kids Activities</th>\n",
       "      <th>Bagels</th>\n",
       "      <th>Pan Asian</th>\n",
       "      <th>Gay Bars</th>\n",
       "      <th>Opera &amp; Ballet</th>\n",
       "      <th>Financial Services</th>\n",
       "      <th>Pakistani</th>\n",
       "      <th>Oil Change Stations</th>\n",
       "      <th>Trainers</th>\n",
       "    </tr>\n",
       "  </thead>\n",
       "  <tbody>\n",
       "    <tr>\n",
       "      <th>0</th>\n",
       "      <td>0</td>\n",
       "      <td>0</td>\n",
       "      <td>979 Bloor Street W</td>\n",
       "      <td>False</td>\n",
       "      <td>False</td>\n",
       "      <td>none</td>\n",
       "      <td>False</td>\n",
       "      <td>False</td>\n",
       "      <td>False</td>\n",
       "      <td>False</td>\n",
       "      <td>...</td>\n",
       "      <td>0</td>\n",
       "      <td>0</td>\n",
       "      <td>0</td>\n",
       "      <td>0</td>\n",
       "      <td>0</td>\n",
       "      <td>0</td>\n",
       "      <td>0</td>\n",
       "      <td>0</td>\n",
       "      <td>0</td>\n",
       "      <td>0</td>\n",
       "    </tr>\n",
       "    <tr>\n",
       "      <th>1</th>\n",
       "      <td>1</td>\n",
       "      <td>1</td>\n",
       "      <td>11072 No Frank Lloyd Wright</td>\n",
       "      <td>False</td>\n",
       "      <td>False</td>\n",
       "      <td>none</td>\n",
       "      <td>False</td>\n",
       "      <td>False</td>\n",
       "      <td>False</td>\n",
       "      <td>False</td>\n",
       "      <td>...</td>\n",
       "      <td>0</td>\n",
       "      <td>0</td>\n",
       "      <td>0</td>\n",
       "      <td>0</td>\n",
       "      <td>0</td>\n",
       "      <td>0</td>\n",
       "      <td>0</td>\n",
       "      <td>0</td>\n",
       "      <td>0</td>\n",
       "      <td>0</td>\n",
       "    </tr>\n",
       "    <tr>\n",
       "      <th>2</th>\n",
       "      <td>2</td>\n",
       "      <td>2</td>\n",
       "      <td>1500 N Green Valley Pkwy, Ste 230</td>\n",
       "      <td>False</td>\n",
       "      <td>False</td>\n",
       "      <td>none</td>\n",
       "      <td>True</td>\n",
       "      <td>False</td>\n",
       "      <td>False</td>\n",
       "      <td>False</td>\n",
       "      <td>...</td>\n",
       "      <td>0</td>\n",
       "      <td>0</td>\n",
       "      <td>0</td>\n",
       "      <td>0</td>\n",
       "      <td>0</td>\n",
       "      <td>0</td>\n",
       "      <td>0</td>\n",
       "      <td>0</td>\n",
       "      <td>0</td>\n",
       "      <td>0</td>\n",
       "    </tr>\n",
       "    <tr>\n",
       "      <th>3</th>\n",
       "      <td>3</td>\n",
       "      <td>3</td>\n",
       "      <td>1052 Lionel-Daunais, Suite 302</td>\n",
       "      <td>False</td>\n",
       "      <td>False</td>\n",
       "      <td>False</td>\n",
       "      <td>False</td>\n",
       "      <td>False</td>\n",
       "      <td>False</td>\n",
       "      <td>False</td>\n",
       "      <td>...</td>\n",
       "      <td>0</td>\n",
       "      <td>0</td>\n",
       "      <td>0</td>\n",
       "      <td>0</td>\n",
       "      <td>0</td>\n",
       "      <td>0</td>\n",
       "      <td>0</td>\n",
       "      <td>0</td>\n",
       "      <td>0</td>\n",
       "      <td>0</td>\n",
       "    </tr>\n",
       "    <tr>\n",
       "      <th>4</th>\n",
       "      <td>4</td>\n",
       "      <td>4</td>\n",
       "      <td>2000 Mansfield Street, Suite 104</td>\n",
       "      <td>False</td>\n",
       "      <td>False</td>\n",
       "      <td>False</td>\n",
       "      <td>False</td>\n",
       "      <td>False</td>\n",
       "      <td>False</td>\n",
       "      <td>False</td>\n",
       "      <td>...</td>\n",
       "      <td>0</td>\n",
       "      <td>0</td>\n",
       "      <td>0</td>\n",
       "      <td>0</td>\n",
       "      <td>0</td>\n",
       "      <td>0</td>\n",
       "      <td>0</td>\n",
       "      <td>0</td>\n",
       "      <td>0</td>\n",
       "      <td>0</td>\n",
       "    </tr>\n",
       "  </tbody>\n",
       "</table>\n",
       "<p>5 rows × 893 columns</p>\n",
       "</div>"
      ],
      "text/plain": [
       "   Unnamed: 0  Unnamed: 0.1                            address  \\\n",
       "0           0             0                 979 Bloor Street W   \n",
       "1           1             1        11072 No Frank Lloyd Wright   \n",
       "2           2             2  1500 N Green Valley Pkwy, Ste 230   \n",
       "3           3             3     1052 Lionel-Daunais, Suite 302   \n",
       "4           4             4   2000 Mansfield Street, Suite 104   \n",
       "\n",
       "  attribute_AcceptsInsurance attribute_AgesAllowed attribute_Alcohol  \\\n",
       "0                      False                 False              none   \n",
       "1                      False                 False              none   \n",
       "2                      False                 False              none   \n",
       "3                      False                 False             False   \n",
       "4                      False                 False             False   \n",
       "\n",
       "  attribute_Ambience_casual attribute_Ambience_classy  \\\n",
       "0                     False                     False   \n",
       "1                     False                     False   \n",
       "2                      True                     False   \n",
       "3                     False                     False   \n",
       "4                     False                     False   \n",
       "\n",
       "  attribute_Ambience_divey attribute_Ambience_hipster    ...    Acupuncture  \\\n",
       "0                    False                      False    ...              0   \n",
       "1                    False                      False    ...              0   \n",
       "2                    False                      False    ...              0   \n",
       "3                    False                      False    ...              0   \n",
       "4                    False                      False    ...              0   \n",
       "\n",
       "   Kids Activities Bagels Pan Asian  Gay Bars  Opera & Ballet  \\\n",
       "0                0      0         0         0               0   \n",
       "1                0      0         0         0               0   \n",
       "2                0      0         0         0               0   \n",
       "3                0      0         0         0               0   \n",
       "4                0      0         0         0               0   \n",
       "\n",
       "   Financial Services  Pakistani  Oil Change Stations  Trainers  \n",
       "0                   0          0                    0         0  \n",
       "1                   0          0                    0         0  \n",
       "2                   0          0                    0         0  \n",
       "3                   0          0                    0         0  \n",
       "4                   0          0                    0         0  \n",
       "\n",
       "[5 rows x 893 columns]"
      ]
     },
     "execution_count": 9,
     "metadata": {},
     "output_type": "execute_result"
    }
   ],
   "source": [
    "business_data.head()"
   ]
  },
  {
   "cell_type": "code",
   "execution_count": 13,
   "metadata": {
    "collapsed": false
   },
   "outputs": [
    {
     "data": {
      "text/plain": [
       "Index(['Unnamed: 0', 'Unnamed: 0.1', 'address', 'attribute_AcceptsInsurance',\n",
       "       'attribute_AgesAllowed', 'attribute_Alcohol',\n",
       "       'attribute_Ambience_casual', 'attribute_Ambience_classy',\n",
       "       'attribute_Ambience_divey', 'attribute_Ambience_hipster',\n",
       "       ...\n",
       "       'Acupuncture', ' Kids Activities', 'Bagels', 'Pan Asian', ' Gay Bars',\n",
       "       ' Opera & Ballet', ' Financial Services', ' Pakistani',\n",
       "       ' Oil Change Stations', ' Trainers'],\n",
       "      dtype='object', length=893)"
      ]
     },
     "execution_count": 13,
     "metadata": {},
     "output_type": "execute_result"
    }
   ],
   "source": [
    "business_data.columns"
   ]
  },
  {
   "cell_type": "code",
   "execution_count": 14,
   "metadata": {
    "collapsed": false
   },
   "outputs": [
    {
     "name": "stdout",
     "output_type": "stream",
     "text": [
      "Number of columns = 893 \n"
     ]
    }
   ],
   "source": [
    "print('Number of columns = %d ' % len(business_data.columns))"
   ]
  },
  {
   "cell_type": "code",
   "execution_count": 15,
   "metadata": {
    "collapsed": false
   },
   "outputs": [
    {
     "name": "stdout",
     "output_type": "stream",
     "text": [
      "Number of columns = 892 \n"
     ]
    }
   ],
   "source": [
    "business_data.drop('Unnamed: 0',axis=1, inplace=True)\n",
    "print('Number of columns = %d ' % len(business_data.columns))"
   ]
  },
  {
   "cell_type": "code",
   "execution_count": 16,
   "metadata": {
    "collapsed": false
   },
   "outputs": [
    {
     "name": "stdout",
     "output_type": "stream",
     "text": [
      "Number of columns = 891 \n"
     ]
    }
   ],
   "source": [
    "business_data.drop('Unnamed: 0.1',axis=1, inplace=True)\n",
    "print('Number of columns = %d ' % len(business_data.columns))"
   ]
  },
  {
   "cell_type": "code",
   "execution_count": 17,
   "metadata": {
    "collapsed": false
   },
   "outputs": [
    {
     "name": "stdout",
     "output_type": "stream",
     "text": [
      "Number of columns = 890 \n"
     ]
    }
   ],
   "source": [
    "business_data.drop('address',axis=1, inplace=True)\n",
    "print('Number of columns = %d ' % len(business_data.columns))"
   ]
  },
  {
   "cell_type": "code",
   "execution_count": 18,
   "metadata": {
    "collapsed": false
   },
   "outputs": [
    {
     "name": "stdout",
     "output_type": "stream",
     "text": [
      "Number of columns = 889 \n"
     ]
    }
   ],
   "source": [
    "business_data.drop('city',axis=1,inplace=True )\n",
    "print('Number of columns = %d ' % len(business_data.columns))"
   ]
  },
  {
   "cell_type": "code",
   "execution_count": 19,
   "metadata": {
    "collapsed": false
   },
   "outputs": [
    {
     "name": "stdout",
     "output_type": "stream",
     "text": [
      "Number of columns = 888 \n"
     ]
    }
   ],
   "source": [
    "business_data.drop('name',axis=1,inplace=True )\n",
    "print('Number of columns = %d ' % len(business_data.columns))"
   ]
  },
  {
   "cell_type": "code",
   "execution_count": 20,
   "metadata": {
    "collapsed": false
   },
   "outputs": [
    {
     "name": "stdout",
     "output_type": "stream",
     "text": [
      "Number of columns = 887 \n"
     ]
    }
   ],
   "source": [
    "business_data.drop('neighborhood',axis=1,inplace=True )\n",
    "print('Number of columns = %d ' % len(business_data.columns))"
   ]
  },
  {
   "cell_type": "code",
   "execution_count": 21,
   "metadata": {
    "collapsed": false
   },
   "outputs": [
    {
     "name": "stdout",
     "output_type": "stream",
     "text": [
      "Number of columns = 886 \n"
     ]
    }
   ],
   "source": [
    "business_data.drop('state',axis=1,inplace=True )\n",
    "print('Number of columns = %d ' % len(business_data.columns))"
   ]
  },
  {
   "cell_type": "code",
   "execution_count": 22,
   "metadata": {
    "collapsed": false
   },
   "outputs": [
    {
     "name": "stdout",
     "output_type": "stream",
     "text": [
      "Number of columns = 885 \n"
     ]
    }
   ],
   "source": [
    "business_data.drop('type',axis=1,inplace=True )\n",
    "print('Number of columns = %d ' % len(business_data.columns))"
   ]
  },
  {
   "cell_type": "code",
   "execution_count": 23,
   "metadata": {
    "collapsed": false
   },
   "outputs": [
    {
     "data": {
      "text/html": [
       "<div>\n",
       "<table border=\"1\" class=\"dataframe\">\n",
       "  <thead>\n",
       "    <tr style=\"text-align: right;\">\n",
       "      <th></th>\n",
       "      <th>attribute_AcceptsInsurance</th>\n",
       "      <th>attribute_AgesAllowed</th>\n",
       "      <th>attribute_Alcohol</th>\n",
       "      <th>attribute_Ambience_casual</th>\n",
       "      <th>attribute_Ambience_classy</th>\n",
       "      <th>attribute_Ambience_divey</th>\n",
       "      <th>attribute_Ambience_hipster</th>\n",
       "      <th>attribute_Ambience_intimate</th>\n",
       "      <th>attribute_Ambience_romantic</th>\n",
       "      <th>attribute_Ambience_touristy</th>\n",
       "      <th>...</th>\n",
       "      <th>Acupuncture</th>\n",
       "      <th>Kids Activities</th>\n",
       "      <th>Bagels</th>\n",
       "      <th>Pan Asian</th>\n",
       "      <th>Gay Bars</th>\n",
       "      <th>Opera &amp; Ballet</th>\n",
       "      <th>Financial Services</th>\n",
       "      <th>Pakistani</th>\n",
       "      <th>Oil Change Stations</th>\n",
       "      <th>Trainers</th>\n",
       "    </tr>\n",
       "  </thead>\n",
       "  <tbody>\n",
       "    <tr>\n",
       "      <th>0</th>\n",
       "      <td>False</td>\n",
       "      <td>False</td>\n",
       "      <td>none</td>\n",
       "      <td>False</td>\n",
       "      <td>False</td>\n",
       "      <td>False</td>\n",
       "      <td>False</td>\n",
       "      <td>False</td>\n",
       "      <td>False</td>\n",
       "      <td>False</td>\n",
       "      <td>...</td>\n",
       "      <td>0</td>\n",
       "      <td>0</td>\n",
       "      <td>0</td>\n",
       "      <td>0</td>\n",
       "      <td>0</td>\n",
       "      <td>0</td>\n",
       "      <td>0</td>\n",
       "      <td>0</td>\n",
       "      <td>0</td>\n",
       "      <td>0</td>\n",
       "    </tr>\n",
       "    <tr>\n",
       "      <th>1</th>\n",
       "      <td>False</td>\n",
       "      <td>False</td>\n",
       "      <td>none</td>\n",
       "      <td>False</td>\n",
       "      <td>False</td>\n",
       "      <td>False</td>\n",
       "      <td>False</td>\n",
       "      <td>False</td>\n",
       "      <td>False</td>\n",
       "      <td>False</td>\n",
       "      <td>...</td>\n",
       "      <td>0</td>\n",
       "      <td>0</td>\n",
       "      <td>0</td>\n",
       "      <td>0</td>\n",
       "      <td>0</td>\n",
       "      <td>0</td>\n",
       "      <td>0</td>\n",
       "      <td>0</td>\n",
       "      <td>0</td>\n",
       "      <td>0</td>\n",
       "    </tr>\n",
       "    <tr>\n",
       "      <th>2</th>\n",
       "      <td>False</td>\n",
       "      <td>False</td>\n",
       "      <td>none</td>\n",
       "      <td>True</td>\n",
       "      <td>False</td>\n",
       "      <td>False</td>\n",
       "      <td>False</td>\n",
       "      <td>False</td>\n",
       "      <td>False</td>\n",
       "      <td>False</td>\n",
       "      <td>...</td>\n",
       "      <td>0</td>\n",
       "      <td>0</td>\n",
       "      <td>0</td>\n",
       "      <td>0</td>\n",
       "      <td>0</td>\n",
       "      <td>0</td>\n",
       "      <td>0</td>\n",
       "      <td>0</td>\n",
       "      <td>0</td>\n",
       "      <td>0</td>\n",
       "    </tr>\n",
       "    <tr>\n",
       "      <th>3</th>\n",
       "      <td>False</td>\n",
       "      <td>False</td>\n",
       "      <td>False</td>\n",
       "      <td>False</td>\n",
       "      <td>False</td>\n",
       "      <td>False</td>\n",
       "      <td>False</td>\n",
       "      <td>False</td>\n",
       "      <td>False</td>\n",
       "      <td>False</td>\n",
       "      <td>...</td>\n",
       "      <td>0</td>\n",
       "      <td>0</td>\n",
       "      <td>0</td>\n",
       "      <td>0</td>\n",
       "      <td>0</td>\n",
       "      <td>0</td>\n",
       "      <td>0</td>\n",
       "      <td>0</td>\n",
       "      <td>0</td>\n",
       "      <td>0</td>\n",
       "    </tr>\n",
       "    <tr>\n",
       "      <th>4</th>\n",
       "      <td>False</td>\n",
       "      <td>False</td>\n",
       "      <td>False</td>\n",
       "      <td>False</td>\n",
       "      <td>False</td>\n",
       "      <td>False</td>\n",
       "      <td>False</td>\n",
       "      <td>False</td>\n",
       "      <td>False</td>\n",
       "      <td>False</td>\n",
       "      <td>...</td>\n",
       "      <td>0</td>\n",
       "      <td>0</td>\n",
       "      <td>0</td>\n",
       "      <td>0</td>\n",
       "      <td>0</td>\n",
       "      <td>0</td>\n",
       "      <td>0</td>\n",
       "      <td>0</td>\n",
       "      <td>0</td>\n",
       "      <td>0</td>\n",
       "    </tr>\n",
       "  </tbody>\n",
       "</table>\n",
       "<p>5 rows × 885 columns</p>\n",
       "</div>"
      ],
      "text/plain": [
       "  attribute_AcceptsInsurance attribute_AgesAllowed attribute_Alcohol  \\\n",
       "0                      False                 False              none   \n",
       "1                      False                 False              none   \n",
       "2                      False                 False              none   \n",
       "3                      False                 False             False   \n",
       "4                      False                 False             False   \n",
       "\n",
       "  attribute_Ambience_casual attribute_Ambience_classy  \\\n",
       "0                     False                     False   \n",
       "1                     False                     False   \n",
       "2                      True                     False   \n",
       "3                     False                     False   \n",
       "4                     False                     False   \n",
       "\n",
       "  attribute_Ambience_divey attribute_Ambience_hipster  \\\n",
       "0                    False                      False   \n",
       "1                    False                      False   \n",
       "2                    False                      False   \n",
       "3                    False                      False   \n",
       "4                    False                      False   \n",
       "\n",
       "  attribute_Ambience_intimate attribute_Ambience_romantic  \\\n",
       "0                       False                       False   \n",
       "1                       False                       False   \n",
       "2                       False                       False   \n",
       "3                       False                       False   \n",
       "4                       False                       False   \n",
       "\n",
       "  attribute_Ambience_touristy    ...    Acupuncture  Kids Activities Bagels  \\\n",
       "0                       False    ...              0                0      0   \n",
       "1                       False    ...              0                0      0   \n",
       "2                       False    ...              0                0      0   \n",
       "3                       False    ...              0                0      0   \n",
       "4                       False    ...              0                0      0   \n",
       "\n",
       "  Pan Asian  Gay Bars  Opera & Ballet  Financial Services  Pakistani  \\\n",
       "0         0         0               0                   0          0   \n",
       "1         0         0               0                   0          0   \n",
       "2         0         0               0                   0          0   \n",
       "3         0         0               0                   0          0   \n",
       "4         0         0               0                   0          0   \n",
       "\n",
       "   Oil Change Stations  Trainers  \n",
       "0                    0         0  \n",
       "1                    0         0  \n",
       "2                    0         0  \n",
       "3                    0         0  \n",
       "4                    0         0  \n",
       "\n",
       "[5 rows x 885 columns]"
      ]
     },
     "execution_count": 23,
     "metadata": {},
     "output_type": "execute_result"
    }
   ],
   "source": [
    "business_data.head()"
   ]
  },
  {
   "cell_type": "markdown",
   "metadata": {},
   "source": [
    "Save to new CSV"
   ]
  },
  {
   "cell_type": "code",
   "execution_count": 24,
   "metadata": {
    "collapsed": true
   },
   "outputs": [],
   "source": [
    "business_data_name_to_save = 'yelp_academic_dataset_business_with_Clustered_location_with_Binary_Categories_clean_restaurants.csv'\n",
    "business_fullpath = os.path.join( data_path, business_data_name_to_save )\n",
    "business_data.to_csv(business_fullpath )"
   ]
  }
 ],
 "metadata": {
  "kernelspec": {
   "display_name": "Python 3",
   "language": "python",
   "name": "python3"
  },
  "language_info": {
   "codemirror_mode": {
    "name": "ipython",
    "version": 3
   },
   "file_extension": ".py",
   "mimetype": "text/x-python",
   "name": "python",
   "nbconvert_exporter": "python",
   "pygments_lexer": "ipython3",
   "version": "3.6.1"
  }
 },
 "nbformat": 4,
 "nbformat_minor": 2
}
