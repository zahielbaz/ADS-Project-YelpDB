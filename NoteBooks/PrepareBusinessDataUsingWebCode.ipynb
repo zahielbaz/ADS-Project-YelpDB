{
 "cells": [
  {
   "cell_type": "markdown",
   "metadata": {},
   "source": [
    "# Create a CSV file for business features using web code"
   ]
  },
  {
   "cell_type": "code",
   "execution_count": 104,
   "metadata": {
    "collapsed": true
   },
   "outputs": [],
   "source": [
    "import os\n",
    "import sys\n",
    "import numpy as np\n",
    "import json\n",
    "import matplotlib.pylab as plt\n",
    "import pandas as pd\n",
    "import getpass\n",
    "%matplotlib inline \n",
    "sys.path.append(\"..\") # go to parent dir\n",
    "import Code.DataReviewFunctions as DataReviewUtils\n",
    "import Code.DataCollect as DataCollectUtils\n",
    "from __future__ import print_function\n",
    "from tqdm import tqdm\n",
    "import unicodecsv as csv\n",
    "import ast\n",
    "from collections import defaultdict\n",
    "from datetime import datetime"
   ]
  },
  {
   "cell_type": "markdown",
   "metadata": {},
   "source": [
    "Path Locations"
   ]
  },
  {
   "cell_type": "code",
   "execution_count": 105,
   "metadata": {
    "collapsed": true
   },
   "outputs": [],
   "source": [
    "username = getpass.getuser()\n",
    "if username == 'sdekel':\n",
    "    data_path = 'C:\\DataSets\\yelp_dataset\\dataset_restaurants'\n",
    "    data_path_to_save = 'C:\\DataSets\\yelp_dataset\\processed_data'\n",
    "elif username == 'zahi':\n",
    "    data_path = 'D:\\\\users\\\\zahi\\\\OneDrive - Bar-Ilan University\\\\yelp_dataset_challenge_round9\\\\yelp2'\n",
    "    data_path_to_save = '' ##TODO: Add your path for the processed data\n",
    "else:\n",
    "    data_path = ''  ## TODO: PUT YOUR DATA PATH HERE"
   ]
  },
  {
   "cell_type": "markdown",
   "metadata": {},
   "source": [
    "Dataset Names"
   ]
  },
  {
   "cell_type": "code",
   "execution_count": 106,
   "metadata": {
    "collapsed": true
   },
   "outputs": [],
   "source": [
    "business_data_name = 'yelp_academic_dataset_business_restaurants.json'\n",
    "business_data_name_to_save = 'yelp_academic_dataset_business_restaurants.csv'"
   ]
  },
  {
   "cell_type": "code",
   "execution_count": 107,
   "metadata": {
    "collapsed": true
   },
   "outputs": [],
   "source": [
    "business_fullpath = os.path.join( data_path, business_data_name )\n",
    "business_fullpath_to_save = os.path.join( data_path_to_save, business_data_name_to_save )"
   ]
  },
  {
   "cell_type": "code",
   "execution_count": 108,
   "metadata": {
    "collapsed": true
   },
   "outputs": [],
   "source": [
    "data_business = pd.read_json(business_fullpath, lines=True )"
   ]
  },
  {
   "cell_type": "code",
   "execution_count": 109,
   "metadata": {
    "collapsed": false
   },
   "outputs": [
    {
     "data": {
      "text/plain": [
       "Index(['address', 'attributes', 'business_id', 'categories', 'city', 'hours',\n",
       "       'is_open', 'latitude', 'longitude', 'name', 'neighborhood',\n",
       "       'postal_code', 'review_count', 'stars', 'state', 'type'],\n",
       "      dtype='object')"
      ]
     },
     "execution_count": 109,
     "metadata": {},
     "output_type": "execute_result"
    }
   ],
   "source": [
    "data_business.columns"
   ]
  },
  {
   "cell_type": "code",
   "execution_count": 110,
   "metadata": {
    "collapsed": false
   },
   "outputs": [
    {
     "data": {
      "text/html": [
       "<div>\n",
       "<table border=\"1\" class=\"dataframe\">\n",
       "  <thead>\n",
       "    <tr style=\"text-align: right;\">\n",
       "      <th></th>\n",
       "      <th>address</th>\n",
       "      <th>attributes</th>\n",
       "      <th>business_id</th>\n",
       "      <th>categories</th>\n",
       "      <th>city</th>\n",
       "      <th>hours</th>\n",
       "      <th>is_open</th>\n",
       "      <th>latitude</th>\n",
       "      <th>longitude</th>\n",
       "      <th>name</th>\n",
       "      <th>neighborhood</th>\n",
       "      <th>postal_code</th>\n",
       "      <th>review_count</th>\n",
       "      <th>stars</th>\n",
       "      <th>state</th>\n",
       "      <th>type</th>\n",
       "    </tr>\n",
       "  </thead>\n",
       "  <tbody>\n",
       "    <tr>\n",
       "      <th>0</th>\n",
       "      <td>979 Bloor Street W</td>\n",
       "      <td>[Alcohol: none, Ambience: {'romantic': False, ...</td>\n",
       "      <td>EDqCEAGXVGCH4FJXgqtjqg</td>\n",
       "      <td>[Restaurants, Pizza, Chicken Wings, Italian]</td>\n",
       "      <td>Toronto</td>\n",
       "      <td>[Monday 11:0-2:0, Tuesday 11:0-2:0, Wednesday ...</td>\n",
       "      <td>1</td>\n",
       "      <td>43.661054</td>\n",
       "      <td>-79.429089</td>\n",
       "      <td>Pizza Pizza</td>\n",
       "      <td>Dufferin Grove</td>\n",
       "      <td>M6H 1L5</td>\n",
       "      <td>7</td>\n",
       "      <td>2.5</td>\n",
       "      <td>ON</td>\n",
       "      <td>business</td>\n",
       "    </tr>\n",
       "    <tr>\n",
       "      <th>1</th>\n",
       "      <td>11072 No Frank Lloyd Wright</td>\n",
       "      <td>[Alcohol: none, Ambience: {'romantic': False, ...</td>\n",
       "      <td>GDnbt3isfhd57T1QqU6flg</td>\n",
       "      <td>[Tex-Mex, Mexican, Fast Food, Restaurants]</td>\n",
       "      <td>Scottsdale</td>\n",
       "      <td>[Monday 10:0-22:0, Tuesday 10:0-22:0, Wednesda...</td>\n",
       "      <td>1</td>\n",
       "      <td>33.586710</td>\n",
       "      <td>-111.835410</td>\n",
       "      <td>Taco Bell</td>\n",
       "      <td></td>\n",
       "      <td>85259</td>\n",
       "      <td>9</td>\n",
       "      <td>2.5</td>\n",
       "      <td>AZ</td>\n",
       "      <td>business</td>\n",
       "    </tr>\n",
       "  </tbody>\n",
       "</table>\n",
       "</div>"
      ],
      "text/plain": [
       "                       address  \\\n",
       "0           979 Bloor Street W   \n",
       "1  11072 No Frank Lloyd Wright   \n",
       "\n",
       "                                          attributes             business_id  \\\n",
       "0  [Alcohol: none, Ambience: {'romantic': False, ...  EDqCEAGXVGCH4FJXgqtjqg   \n",
       "1  [Alcohol: none, Ambience: {'romantic': False, ...  GDnbt3isfhd57T1QqU6flg   \n",
       "\n",
       "                                     categories        city  \\\n",
       "0  [Restaurants, Pizza, Chicken Wings, Italian]     Toronto   \n",
       "1    [Tex-Mex, Mexican, Fast Food, Restaurants]  Scottsdale   \n",
       "\n",
       "                                               hours  is_open   latitude  \\\n",
       "0  [Monday 11:0-2:0, Tuesday 11:0-2:0, Wednesday ...        1  43.661054   \n",
       "1  [Monday 10:0-22:0, Tuesday 10:0-22:0, Wednesda...        1  33.586710   \n",
       "\n",
       "    longitude         name    neighborhood postal_code  review_count  stars  \\\n",
       "0  -79.429089  Pizza Pizza  Dufferin Grove     M6H 1L5             7    2.5   \n",
       "1 -111.835410    Taco Bell                       85259             9    2.5   \n",
       "\n",
       "  state      type  \n",
       "0    ON  business  \n",
       "1    AZ  business  "
      ]
     },
     "execution_count": 110,
     "metadata": {},
     "output_type": "execute_result"
    }
   ],
   "source": [
    "data_business.head(2)"
   ]
  },
  {
   "cell_type": "code",
   "execution_count": 111,
   "metadata": {
    "collapsed": false
   },
   "outputs": [
    {
     "name": "stdout",
     "output_type": "stream",
     "text": [
      "Reading data from JSON...\n"
     ]
    }
   ],
   "source": [
    "print(\"Reading data from JSON...\")\n",
    "data = list()\n",
    "with open(business_fullpath,encoding=\"utf8\") as f:\n",
    "    for line in f:\n",
    "        data.append(json.loads(line))"
   ]
  },
  {
   "cell_type": "code",
   "execution_count": 112,
   "metadata": {
    "collapsed": false
   },
   "outputs": [
    {
     "name": "stdout",
     "output_type": "stream",
     "text": [
      "Calculating all categories represented in the data...\n",
      "Number of categories 607\n"
     ]
    }
   ],
   "source": [
    "print(\"Calculating all categories represented in the data...\")\n",
    "all_categories = []\n",
    "for row in data:\n",
    "    if row['categories']:\n",
    "        all_categories += row['categories']\n",
    "all_categories = set(all_categories)\n",
    "print( 'Number of categories %d' % len(all_categories))"
   ]
  },
  {
   "cell_type": "code",
   "execution_count": 113,
   "metadata": {
    "collapsed": false
   },
   "outputs": [
    {
     "name": "stdout",
     "output_type": "stream",
     "text": [
      "Calculating all attributes represented in the data...\n",
      "Found these attributes with sub-attributes:\n",
      "Ambience: romantic, divey, classy, intimate, touristy, trendy, upscale, hipster, casual\n",
      "BusinessParking: lot, garage, validated, valet, street\n",
      "GoodForMeal: latenight, dessert, dinner, brunch, breakfast, lunch\n",
      "BestNights: sunday, monday, saturday, wednesday, tuesday, friday, thursday\n",
      "Music: background_music, no_music, video, jukebox, live, karaoke, dj\n",
      "DietaryRestrictions: kosher, halal, vegan, gluten-free, dairy-free, vegetarian, soy-free\n",
      "HairSpecializesIn: perms, africanamerican, asian, coloring, kids, straightperms, extensions, curly\n"
     ]
    }
   ],
   "source": [
    "print(\"Calculating all attributes represented in the data...\")\n",
    "all_attributes = []\n",
    "attributes_with_subattributes = defaultdict(lambda: set())\n",
    "for row in data:\n",
    "    if row['attributes']:\n",
    "        for attribute_string in row['attributes']:\n",
    "            attribute = attribute_string.split(':')[0]\n",
    "            value = ':'.join(attribute_string.split(':')[1:])\n",
    "            value = value.strip()\n",
    "            all_attributes.append(attribute)\n",
    "            if '{' in value:\n",
    "                attribute_data = ast.literal_eval(value)\n",
    "                for subattribute, v in attribute_data.items():\n",
    "                    attributes_with_subattributes[attribute].add(subattribute)                \n",
    "all_attributes = set(all_attributes)\n",
    "print(\"Found these attributes with sub-attributes:\")\n",
    "for attribute, subattributes in attributes_with_subattributes.items():\n",
    "    print('%s: %s' % (attribute, ', '.join(subattributes)))"
   ]
  },
  {
   "cell_type": "code",
   "execution_count": 114,
   "metadata": {
    "collapsed": false
   },
   "outputs": [
    {
     "name": "stdout",
     "output_type": "stream",
     "text": [
      "Writing attributes to file...\n",
      "Writing categories to file...\n"
     ]
    }
   ],
   "source": [
    "print(\"Writing attributes to file...\")\n",
    "with open('yelp_academic_dataset_business-attributes.txt', 'w') as f:\n",
    "    f.write('\\n'.join(sorted(list(all_attributes))))\n",
    "\n",
    "print(\"Writing categories to file...\")\n",
    "with open('yelp_academic_dataset_business-categories.txt', 'w') as f:\n",
    "    f.write('\\n'.join(sorted(list(all_categories))))"
   ]
  },
  {
   "cell_type": "code",
   "execution_count": 115,
   "metadata": {
    "collapsed": false
   },
   "outputs": [
    {
     "name": "stdout",
     "output_type": "stream",
     "text": [
      "time1: 20:0 , time2: 11:0, delta = 12.000000\n"
     ]
    }
   ],
   "source": [
    "# differnt between times example\n",
    "def DifferntBetweenTimes(data_in):\n",
    "    time_str = data_in['hours'][1][0].split( ' ')[1]\n",
    "    time_splt = time_str.split('-')\n",
    "    s0 = time_splt[0]\n",
    "    s1 = time_splt[1]\n",
    "    FMT = '%H:%M'\n",
    "    tdelta = datetime.strptime(s1, FMT) - datetime.strptime(s0, FMT)\n",
    "    return tdelta\n",
    "\n",
    "tdelta = DifferntBetweenTimes(data_business)\n",
    "print('time1: %s , time2: %s, delta = %f' % (s1,s0, tdelta.seconds/3600.0))"
   ]
  },
  {
   "cell_type": "code",
   "execution_count": 116,
   "metadata": {
    "collapsed": false
   },
   "outputs": [
    {
     "name": "stdout",
     "output_type": "stream",
     "text": [
      "Processing data...\n"
     ]
    },
    {
     "name": "stderr",
     "output_type": "stream",
     "text": [
      "100%|██████████████████████████████████| 48485/48485 [00:16<00:00, 3011.49it/s]\n"
     ]
    }
   ],
   "source": [
    "print(\"Processing data...\")\n",
    "new_data = list()\n",
    "FMT = '%H:%M'\n",
    "for row in tqdm(data):\n",
    "    new_row = {}\n",
    "    for k, v in row.items():\n",
    "        if k not in ['hours', 'categories', 'attributes']:\n",
    "            new_row[k] = v\n",
    "        else:\n",
    "            if k == 'hours' and row['hours']:\n",
    "                for hour in row['hours']:\n",
    "                    day, time_string = hour.split(' ')\n",
    "                    time_splt = time_string.split('-')\n",
    "                    s0 = time_splt[0]\n",
    "                    s1 = time_splt[1]  \n",
    "                    tdelta = datetime.strptime(s1, FMT) - datetime.strptime(s0, FMT)\n",
    "                    new_row['hours_' + day] = tdelta.seconds/3600.0\n",
    "            elif k == 'attributes' and row['attributes']:\n",
    "                attributes = defaultdict(lambda: dict())\n",
    "                for attribute_string in row['attributes']:\n",
    "                    attribute = attribute_string.split(':')[0]\n",
    "                    value = ':'.join(attribute_string.split(':')[1:])\n",
    "                    value = value.strip()\n",
    "                    if '{' in value:\n",
    "                        data = ast.literal_eval(value)\n",
    "                        for subattribute, subattribute_value in data.items():\n",
    "                            attributes[attribute][subattribute] = subattribute_value\n",
    "                    else:\n",
    "                        attributes[attribute] = value\n",
    "                for attribute in all_attributes:\n",
    "                    if attribute in attributes_with_subattributes:\n",
    "                        for subattribute in attributes_with_subattributes[attribute]:\n",
    "                            subattributes = attributes.get(attribute, dict())\n",
    "                            new_row['attribute_' + attribute + '_' + subattribute] = subattributes.get(subattribute, False)\n",
    "                    else:\n",
    "                        new_row['attribute_' + attribute] = attributes.get(attribute, False)\n",
    "            elif k == 'categories' and row['categories']:\n",
    "                new_row['categories'] = ', '.join(sorted(row['categories']))\n",
    "#                for category in all_categories:\n",
    "#                    new_row['category_' + category] = (category in row['categories'])\n",
    "    new_data.append(new_row)"
   ]
  },
  {
   "cell_type": "code",
   "execution_count": 117,
   "metadata": {
    "collapsed": false
   },
   "outputs": [
    {
     "name": "stdout",
     "output_type": "stream",
     "text": [
      "Writing data to CSV file...\n"
     ]
    }
   ],
   "source": [
    "print(\"Writing data to CSV file...\")\n",
    "with open(business_fullpath_to_save, 'wb') as f:\n",
    "    fieldnames = sorted(new_data[0].keys())\n",
    "    dw = csv.DictWriter(f, fieldnames=fieldnames, encoding='UTF-8')\n",
    "    dw.writeheader()\n",
    "    dw.writerows(new_data)"
   ]
  },
  {
   "cell_type": "code",
   "execution_count": 118,
   "metadata": {
    "collapsed": true
   },
   "outputs": [],
   "source": [
    "business_data = pd.read_csv(business_fullpath_to_save)"
   ]
  },
  {
   "cell_type": "code",
   "execution_count": 119,
   "metadata": {
    "collapsed": false,
    "scrolled": true
   },
   "outputs": [
    {
     "data": {
      "text/html": [
       "<div>\n",
       "<table border=\"1\" class=\"dataframe\">\n",
       "  <thead>\n",
       "    <tr style=\"text-align: right;\">\n",
       "      <th></th>\n",
       "      <th>address</th>\n",
       "      <th>attribute_AcceptsInsurance</th>\n",
       "      <th>attribute_AgesAllowed</th>\n",
       "      <th>attribute_Alcohol</th>\n",
       "      <th>attribute_Ambience_casual</th>\n",
       "      <th>attribute_Ambience_classy</th>\n",
       "      <th>attribute_Ambience_divey</th>\n",
       "      <th>attribute_Ambience_hipster</th>\n",
       "      <th>attribute_Ambience_intimate</th>\n",
       "      <th>attribute_Ambience_romantic</th>\n",
       "      <th>...</th>\n",
       "      <th>is_open</th>\n",
       "      <th>latitude</th>\n",
       "      <th>longitude</th>\n",
       "      <th>name</th>\n",
       "      <th>neighborhood</th>\n",
       "      <th>postal_code</th>\n",
       "      <th>review_count</th>\n",
       "      <th>stars</th>\n",
       "      <th>state</th>\n",
       "      <th>type</th>\n",
       "    </tr>\n",
       "  </thead>\n",
       "  <tbody>\n",
       "    <tr>\n",
       "      <th>0</th>\n",
       "      <td>979 Bloor Street W</td>\n",
       "      <td>False</td>\n",
       "      <td>False</td>\n",
       "      <td>none</td>\n",
       "      <td>False</td>\n",
       "      <td>False</td>\n",
       "      <td>False</td>\n",
       "      <td>False</td>\n",
       "      <td>False</td>\n",
       "      <td>False</td>\n",
       "      <td>...</td>\n",
       "      <td>1</td>\n",
       "      <td>43.661054</td>\n",
       "      <td>-79.429089</td>\n",
       "      <td>Pizza Pizza</td>\n",
       "      <td>Dufferin Grove</td>\n",
       "      <td>M6H 1L5</td>\n",
       "      <td>7</td>\n",
       "      <td>2.5</td>\n",
       "      <td>ON</td>\n",
       "      <td>business</td>\n",
       "    </tr>\n",
       "    <tr>\n",
       "      <th>1</th>\n",
       "      <td>11072 No Frank Lloyd Wright</td>\n",
       "      <td>False</td>\n",
       "      <td>False</td>\n",
       "      <td>none</td>\n",
       "      <td>False</td>\n",
       "      <td>False</td>\n",
       "      <td>False</td>\n",
       "      <td>False</td>\n",
       "      <td>False</td>\n",
       "      <td>False</td>\n",
       "      <td>...</td>\n",
       "      <td>1</td>\n",
       "      <td>33.586710</td>\n",
       "      <td>-111.835410</td>\n",
       "      <td>Taco Bell</td>\n",
       "      <td>NaN</td>\n",
       "      <td>85259</td>\n",
       "      <td>9</td>\n",
       "      <td>2.5</td>\n",
       "      <td>AZ</td>\n",
       "      <td>business</td>\n",
       "    </tr>\n",
       "    <tr>\n",
       "      <th>2</th>\n",
       "      <td>1500 N Green Valley Pkwy, Ste 230</td>\n",
       "      <td>False</td>\n",
       "      <td>False</td>\n",
       "      <td>none</td>\n",
       "      <td>True</td>\n",
       "      <td>False</td>\n",
       "      <td>False</td>\n",
       "      <td>False</td>\n",
       "      <td>False</td>\n",
       "      <td>False</td>\n",
       "      <td>...</td>\n",
       "      <td>0</td>\n",
       "      <td>36.029596</td>\n",
       "      <td>-115.085821</td>\n",
       "      <td>Ohana Hawaiian BBQ</td>\n",
       "      <td>NaN</td>\n",
       "      <td>89074</td>\n",
       "      <td>38</td>\n",
       "      <td>4.0</td>\n",
       "      <td>NV</td>\n",
       "      <td>business</td>\n",
       "    </tr>\n",
       "    <tr>\n",
       "      <th>3</th>\n",
       "      <td>1052 Lionel-Daunais, Suite 302</td>\n",
       "      <td>False</td>\n",
       "      <td>False</td>\n",
       "      <td>False</td>\n",
       "      <td>False</td>\n",
       "      <td>False</td>\n",
       "      <td>False</td>\n",
       "      <td>False</td>\n",
       "      <td>False</td>\n",
       "      <td>False</td>\n",
       "      <td>...</td>\n",
       "      <td>1</td>\n",
       "      <td>45.590227</td>\n",
       "      <td>-73.430235</td>\n",
       "      <td>Chez Lionel</td>\n",
       "      <td>NaN</td>\n",
       "      <td>J4B 0B2</td>\n",
       "      <td>7</td>\n",
       "      <td>3.5</td>\n",
       "      <td>QC</td>\n",
       "      <td>business</td>\n",
       "    </tr>\n",
       "    <tr>\n",
       "      <th>4</th>\n",
       "      <td>2000 Mansfield Street, Suite 104</td>\n",
       "      <td>False</td>\n",
       "      <td>False</td>\n",
       "      <td>False</td>\n",
       "      <td>False</td>\n",
       "      <td>False</td>\n",
       "      <td>False</td>\n",
       "      <td>False</td>\n",
       "      <td>False</td>\n",
       "      <td>False</td>\n",
       "      <td>...</td>\n",
       "      <td>1</td>\n",
       "      <td>45.502346</td>\n",
       "      <td>-73.573807</td>\n",
       "      <td>La Prep</td>\n",
       "      <td>Ville-Marie</td>\n",
       "      <td>H3A 2Z6</td>\n",
       "      <td>3</td>\n",
       "      <td>4.0</td>\n",
       "      <td>QC</td>\n",
       "      <td>business</td>\n",
       "    </tr>\n",
       "  </tbody>\n",
       "</table>\n",
       "<p>5 rows × 102 columns</p>\n",
       "</div>"
      ],
      "text/plain": [
       "                             address attribute_AcceptsInsurance  \\\n",
       "0                 979 Bloor Street W                      False   \n",
       "1        11072 No Frank Lloyd Wright                      False   \n",
       "2  1500 N Green Valley Pkwy, Ste 230                      False   \n",
       "3     1052 Lionel-Daunais, Suite 302                      False   \n",
       "4   2000 Mansfield Street, Suite 104                      False   \n",
       "\n",
       "  attribute_AgesAllowed attribute_Alcohol attribute_Ambience_casual  \\\n",
       "0                 False              none                     False   \n",
       "1                 False              none                     False   \n",
       "2                 False              none                      True   \n",
       "3                 False             False                     False   \n",
       "4                 False             False                     False   \n",
       "\n",
       "  attribute_Ambience_classy attribute_Ambience_divey  \\\n",
       "0                     False                    False   \n",
       "1                     False                    False   \n",
       "2                     False                    False   \n",
       "3                     False                    False   \n",
       "4                     False                    False   \n",
       "\n",
       "  attribute_Ambience_hipster attribute_Ambience_intimate  \\\n",
       "0                      False                       False   \n",
       "1                      False                       False   \n",
       "2                      False                       False   \n",
       "3                      False                       False   \n",
       "4                      False                       False   \n",
       "\n",
       "  attribute_Ambience_romantic    ...    is_open   latitude   longitude  \\\n",
       "0                       False    ...          1  43.661054  -79.429089   \n",
       "1                       False    ...          1  33.586710 -111.835410   \n",
       "2                       False    ...          0  36.029596 -115.085821   \n",
       "3                       False    ...          1  45.590227  -73.430235   \n",
       "4                       False    ...          1  45.502346  -73.573807   \n",
       "\n",
       "                 name    neighborhood postal_code review_count stars state  \\\n",
       "0         Pizza Pizza  Dufferin Grove     M6H 1L5            7   2.5    ON   \n",
       "1           Taco Bell             NaN       85259            9   2.5    AZ   \n",
       "2  Ohana Hawaiian BBQ             NaN       89074           38   4.0    NV   \n",
       "3         Chez Lionel             NaN     J4B 0B2            7   3.5    QC   \n",
       "4             La Prep     Ville-Marie     H3A 2Z6            3   4.0    QC   \n",
       "\n",
       "       type  \n",
       "0  business  \n",
       "1  business  \n",
       "2  business  \n",
       "3  business  \n",
       "4  business  \n",
       "\n",
       "[5 rows x 102 columns]"
      ]
     },
     "execution_count": 119,
     "metadata": {},
     "output_type": "execute_result"
    }
   ],
   "source": [
    "business_data.head()"
   ]
  },
  {
   "cell_type": "code",
   "execution_count": 120,
   "metadata": {
    "collapsed": false
   },
   "outputs": [
    {
     "data": {
      "text/plain": [
       "<bound method IndexOpsMixin.item of Index(['address', 'attribute_AcceptsInsurance', 'attribute_AgesAllowed',\n",
       "       'attribute_Alcohol', 'attribute_Ambience_casual',\n",
       "       'attribute_Ambience_classy', 'attribute_Ambience_divey',\n",
       "       'attribute_Ambience_hipster', 'attribute_Ambience_intimate',\n",
       "       'attribute_Ambience_romantic',\n",
       "       ...\n",
       "       'is_open', 'latitude', 'longitude', 'name', 'neighborhood',\n",
       "       'postal_code', 'review_count', 'stars', 'state', 'type'],\n",
       "      dtype='object', length=102)>"
      ]
     },
     "execution_count": 120,
     "metadata": {},
     "output_type": "execute_result"
    }
   ],
   "source": [
    "business_data.columns.item"
   ]
  },
  {
   "cell_type": "code",
   "execution_count": 121,
   "metadata": {
    "collapsed": true
   },
   "outputs": [],
   "source": [
    "save_json = False\n",
    "if save_json:\n",
    "    business_data_name_to_save = 'yelp_academic_dataset_business_resteraunts_prepared.json'\n",
    "    business_fullpath = os.path.join( data_path, business_data_name_to_save )\n",
    "    business_data.to_json(business_fullpath, orient='split')"
   ]
  },
  {
   "cell_type": "code",
   "execution_count": null,
   "metadata": {
    "collapsed": true
   },
   "outputs": [],
   "source": [
    ""
   ]
  }
 ],
 "metadata": {
  "kernelspec": {
   "display_name": "Python 3",
   "language": "python",
   "name": "python3"
  },
  "language_info": {
   "codemirror_mode": {
    "name": "ipython",
    "version": 3.0
   },
   "file_extension": ".py",
   "mimetype": "text/x-python",
   "name": "python",
   "nbconvert_exporter": "python",
   "pygments_lexer": "ipython3",
   "version": "3.6.1"
  }
 },
 "nbformat": 4,
 "nbformat_minor": 0
}