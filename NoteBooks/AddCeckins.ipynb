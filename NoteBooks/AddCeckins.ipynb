{
 "cells": [
  {
   "cell_type": "markdown",
   "metadata": {
    "collapsed": true
   },
   "source": [
    "# This notebook adds a table of the number of checkins to busineeses on every hour at week"
   ]
  },
  {
   "cell_type": "code",
   "execution_count": null,
   "metadata": {
    "collapsed": true
   },
   "outputs": [],
   "source": [
    "import os\n",
    "import sys\n",
    "import numpy as np\n",
    "import json\n",
    "import matplotlib.pylab as plt\n",
    "import pandas as pd\n",
    "import getpass\n",
    "%matplotlib inline \n",
    "sys.path.append(\"..\") # go to parent dir\n",
    "import unicodecsv as csv"
   ]
  },
  {
   "cell_type": "markdown",
   "metadata": {},
   "source": [
    "Path Locations"
   ]
  },
  {
   "cell_type": "code",
   "execution_count": 2,
   "metadata": {
    "collapsed": true
   },
   "outputs": [],
   "source": [
    "username = getpass.getuser()\n",
    "if username == 'sdekel':\n",
    "    data_path = 'C:\\DataSets\\yelp_dataset\\processed_data'\n",
    "    checkin_path = 'C:\\DataSets\\yelp_dataset\\dataset_restaurants'\n",
    "elif username == 'zahi':\n",
    "    data_path = 'D:\\\\users\\\\zahi\\\\OneDrive - Bar-Ilan University\\\\yelp_dataset_challenge_round9\\\\yelp2'\n",
    "else:\n",
    "    data_path = ''  ## TODO: PUT YOUR DATA PATH HERE"
   ]
  },
  {
   "cell_type": "markdown",
   "metadata": {},
   "source": [
    "Dataset Names"
   ]
  },
  {
   "cell_type": "code",
   "execution_count": 3,
   "metadata": {
    "collapsed": true
   },
   "outputs": [],
   "source": [
    "business_data_name = 'yelp_academic_dataset_business_with_Clustered_location_with_Binary_Categories_clean_restaurants.csv'\n",
    "business_fullpath = os.path.join( data_path, business_data_name )\n",
    "checkin_data_name = 'yelp_academic_dataset_checkin_restaurants.json'\n",
    "checkin_fullpath = os.path.join( checkin_path, checkin_data_name )"
   ]
  },
  {
   "cell_type": "markdown",
   "metadata": {},
   "source": [
    "Read DataFrame"
   ]
  },
  {
   "cell_type": "code",
   "execution_count": 4,
   "metadata": {},
   "outputs": [
    {
     "name": "stdout",
     "output_type": "stream",
     "text": [
      "Number of columns = 886 \n"
     ]
    }
   ],
   "source": [
    "business_data = pd.read_csv(business_fullpath, encoding='latin1')\n",
    "checkins= pd.read_json(checkin_fullpath, lines=True)\n",
    "print('Number of columns = %d ' % len(business_data.columns))"
   ]
  },
  {
   "cell_type": "markdown",
   "metadata": {},
   "source": [
    "Usefull functions"
   ]
  },
  {
   "cell_type": "code",
   "execution_count": 5,
   "metadata": {
    "collapsed": true
   },
   "outputs": [],
   "source": [
    "def chekinByDaysNP(ch):     #gets a checkin list, inputs numpy array\n",
    "    days = [\"Sun\", \"Mon\", \"Tue\", \"Wed\", \"Thu\", \"Fri\", \"Sat\"]\n",
    "    ins = np.zeros(7 * 24)\n",
    "    for i in ch:\n",
    "        temp = i.split(\"-\")\n",
    "        day = temp[0]\n",
    "        temp2 = temp[1].split(\":\")\n",
    "        hour = temp2[0]\n",
    "        num = temp2[1]\n",
    "        ins[days.index(day) * 24 + int(hour)] = num\n",
    "    return ins\n",
    "\n",
    "\n",
    "def chekinByDaysList(ch):       #gets a checkin list, inputs list\n",
    "    days = [\"Sun\", \"Mon\", \"Tue\", \"Wed\", \"Thu\", \"Fri\", \"Sat\"]\n",
    "    ins = [0] * (7 * 24)\n",
    "    for i in ch:\n",
    "        temp = i.split(\"-\")\n",
    "        day = temp[0]\n",
    "        temp2 = temp[1].split(\":\")\n",
    "        hour = temp2[0]\n",
    "        num = temp2[1]\n",
    "        ins[days.index(day) * 24 + int(hour)] = num\n",
    "    return ins\n",
    "\n",
    "\n",
    "def chekinByDaysFrame(checkin):     #gets checkin dataframe, adds columns to every hour with num of checkins\n",
    "    timeVector = checkin[\"time\"].apply(lambda x: chekinByDaysList(x))\n",
    "    times = pd.DataFrame()\n",
    "    times = pd.DataFrame([t for t in timeVector])\n",
    "    times.columns=[\"hour_\"+str(value) for value in times.columns]\n",
    "    return pd.concat([checkin, times], axis=1)"
   ]
  },
  {
   "cell_type": "markdown",
   "metadata": {},
   "source": [
    "Transform checkins to binary data"
   ]
  },
  {
   "cell_type": "code",
   "execution_count": 6,
   "metadata": {
    "collapsed": true
   },
   "outputs": [],
   "source": [
    "checkin_binary = chekinByDaysFrame(checkins)"
   ]
  },
  {
   "cell_type": "markdown",
   "metadata": {},
   "source": [
    "Merge business data and checkins"
   ]
  },
  {
   "cell_type": "code",
   "execution_count": 7,
   "metadata": {
    "collapsed": true
   },
   "outputs": [],
   "source": [
    "business_data_and_checkins = pd.merge(business_data, checkin_binary, on=\"business_id\")\n",
    "business_data_and_checkins = business_data_and_checkins.drop(axis=1,labels=[\"time\",\"type\"])"
   ]
  },
  {
   "cell_type": "markdown",
   "metadata": {},
   "source": [
    "Show head"
   ]
  },
  {
   "cell_type": "code",
   "execution_count": 8,
   "metadata": {},
   "outputs": [
    {
     "data": {
      "text/html": [
       "<div>\n",
       "<table border=\"1\" class=\"dataframe\">\n",
       "  <thead>\n",
       "    <tr style=\"text-align: right;\">\n",
       "      <th></th>\n",
       "      <th>Unnamed: 0</th>\n",
       "      <th>attribute_AcceptsInsurance</th>\n",
       "      <th>attribute_AgesAllowed</th>\n",
       "      <th>attribute_Alcohol</th>\n",
       "      <th>attribute_Ambience_casual</th>\n",
       "      <th>attribute_Ambience_classy</th>\n",
       "      <th>attribute_Ambience_divey</th>\n",
       "      <th>attribute_Ambience_hipster</th>\n",
       "      <th>attribute_Ambience_intimate</th>\n",
       "      <th>attribute_Ambience_romantic</th>\n",
       "      <th>...</th>\n",
       "      <th>hour_158</th>\n",
       "      <th>hour_159</th>\n",
       "      <th>hour_160</th>\n",
       "      <th>hour_161</th>\n",
       "      <th>hour_162</th>\n",
       "      <th>hour_163</th>\n",
       "      <th>hour_164</th>\n",
       "      <th>hour_165</th>\n",
       "      <th>hour_166</th>\n",
       "      <th>hour_167</th>\n",
       "    </tr>\n",
       "  </thead>\n",
       "  <tbody>\n",
       "    <tr>\n",
       "      <th>0</th>\n",
       "      <td>0</td>\n",
       "      <td>False</td>\n",
       "      <td>False</td>\n",
       "      <td>none</td>\n",
       "      <td>False</td>\n",
       "      <td>False</td>\n",
       "      <td>False</td>\n",
       "      <td>False</td>\n",
       "      <td>False</td>\n",
       "      <td>False</td>\n",
       "      <td>...</td>\n",
       "      <td>0</td>\n",
       "      <td>0</td>\n",
       "      <td>0</td>\n",
       "      <td>0</td>\n",
       "      <td>2</td>\n",
       "      <td>0</td>\n",
       "      <td>0</td>\n",
       "      <td>0</td>\n",
       "      <td>0</td>\n",
       "      <td>0</td>\n",
       "    </tr>\n",
       "    <tr>\n",
       "      <th>1</th>\n",
       "      <td>1</td>\n",
       "      <td>False</td>\n",
       "      <td>False</td>\n",
       "      <td>none</td>\n",
       "      <td>False</td>\n",
       "      <td>False</td>\n",
       "      <td>False</td>\n",
       "      <td>False</td>\n",
       "      <td>False</td>\n",
       "      <td>False</td>\n",
       "      <td>...</td>\n",
       "      <td>0</td>\n",
       "      <td>0</td>\n",
       "      <td>0</td>\n",
       "      <td>1</td>\n",
       "      <td>2</td>\n",
       "      <td>0</td>\n",
       "      <td>0</td>\n",
       "      <td>2</td>\n",
       "      <td>0</td>\n",
       "      <td>1</td>\n",
       "    </tr>\n",
       "    <tr>\n",
       "      <th>2</th>\n",
       "      <td>2</td>\n",
       "      <td>False</td>\n",
       "      <td>False</td>\n",
       "      <td>none</td>\n",
       "      <td>True</td>\n",
       "      <td>False</td>\n",
       "      <td>False</td>\n",
       "      <td>False</td>\n",
       "      <td>False</td>\n",
       "      <td>False</td>\n",
       "      <td>...</td>\n",
       "      <td>0</td>\n",
       "      <td>0</td>\n",
       "      <td>0</td>\n",
       "      <td>1</td>\n",
       "      <td>1</td>\n",
       "      <td>3</td>\n",
       "      <td>7</td>\n",
       "      <td>3</td>\n",
       "      <td>4</td>\n",
       "      <td>5</td>\n",
       "    </tr>\n",
       "    <tr>\n",
       "      <th>3</th>\n",
       "      <td>3</td>\n",
       "      <td>False</td>\n",
       "      <td>False</td>\n",
       "      <td>False</td>\n",
       "      <td>False</td>\n",
       "      <td>False</td>\n",
       "      <td>False</td>\n",
       "      <td>False</td>\n",
       "      <td>False</td>\n",
       "      <td>False</td>\n",
       "      <td>...</td>\n",
       "      <td>0</td>\n",
       "      <td>1</td>\n",
       "      <td>1</td>\n",
       "      <td>0</td>\n",
       "      <td>0</td>\n",
       "      <td>0</td>\n",
       "      <td>0</td>\n",
       "      <td>0</td>\n",
       "      <td>0</td>\n",
       "      <td>0</td>\n",
       "    </tr>\n",
       "    <tr>\n",
       "      <th>4</th>\n",
       "      <td>4</td>\n",
       "      <td>False</td>\n",
       "      <td>False</td>\n",
       "      <td>False</td>\n",
       "      <td>False</td>\n",
       "      <td>False</td>\n",
       "      <td>False</td>\n",
       "      <td>False</td>\n",
       "      <td>False</td>\n",
       "      <td>False</td>\n",
       "      <td>...</td>\n",
       "      <td>0</td>\n",
       "      <td>0</td>\n",
       "      <td>0</td>\n",
       "      <td>0</td>\n",
       "      <td>0</td>\n",
       "      <td>0</td>\n",
       "      <td>0</td>\n",
       "      <td>0</td>\n",
       "      <td>0</td>\n",
       "      <td>0</td>\n",
       "    </tr>\n",
       "  </tbody>\n",
       "</table>\n",
       "<p>5 rows × 1054 columns</p>\n",
       "</div>"
      ],
      "text/plain": [
       "   Unnamed: 0 attribute_AcceptsInsurance attribute_AgesAllowed  \\\n",
       "0           0                      False                 False   \n",
       "1           1                      False                 False   \n",
       "2           2                      False                 False   \n",
       "3           3                      False                 False   \n",
       "4           4                      False                 False   \n",
       "\n",
       "  attribute_Alcohol attribute_Ambience_casual attribute_Ambience_classy  \\\n",
       "0              none                     False                     False   \n",
       "1              none                     False                     False   \n",
       "2              none                      True                     False   \n",
       "3             False                     False                     False   \n",
       "4             False                     False                     False   \n",
       "\n",
       "  attribute_Ambience_divey attribute_Ambience_hipster  \\\n",
       "0                    False                      False   \n",
       "1                    False                      False   \n",
       "2                    False                      False   \n",
       "3                    False                      False   \n",
       "4                    False                      False   \n",
       "\n",
       "  attribute_Ambience_intimate attribute_Ambience_romantic   ...    hour_158  \\\n",
       "0                       False                       False   ...           0   \n",
       "1                       False                       False   ...           0   \n",
       "2                       False                       False   ...           0   \n",
       "3                       False                       False   ...           0   \n",
       "4                       False                       False   ...           0   \n",
       "\n",
       "  hour_159 hour_160 hour_161 hour_162 hour_163 hour_164 hour_165 hour_166  \\\n",
       "0        0        0        0        2        0        0        0        0   \n",
       "1        0        0        1        2        0        0        2        0   \n",
       "2        0        0        1        1        3        7        3        4   \n",
       "3        1        1        0        0        0        0        0        0   \n",
       "4        0        0        0        0        0        0        0        0   \n",
       "\n",
       "  hour_167  \n",
       "0        0  \n",
       "1        1  \n",
       "2        5  \n",
       "3        0  \n",
       "4        0  \n",
       "\n",
       "[5 rows x 1054 columns]"
      ]
     },
     "execution_count": 8,
     "metadata": {},
     "output_type": "execute_result"
    }
   ],
   "source": [
    "business_data_and_checkins.head()"
   ]
  },
  {
   "cell_type": "code",
   "execution_count": 9,
   "metadata": {},
   "outputs": [
    {
     "name": "stdout",
     "output_type": "stream",
     "text": [
      "Number of columns = 1054 \n"
     ]
    }
   ],
   "source": [
    "print('Number of columns = %d ' % len(business_data_and_checkins.columns))"
   ]
  },
  {
   "cell_type": "markdown",
   "metadata": {},
   "source": [
    "Save to CSV:"
   ]
  },
  {
   "cell_type": "code",
   "execution_count": 10,
   "metadata": {
    "collapsed": true
   },
   "outputs": [],
   "source": [
    "business_data_name_to_save = 'yelp_academic_dataset_business_with_Clustered_location_with_Binary_Categories_with_checkins_clean_restaurants.csv'\n",
    "business_fullpath = os.path.join( data_path, business_data_name_to_save )\n",
    "business_data_and_checkins.to_csv(business_fullpath )"
   ]
  }
 ],
 "metadata": {
  "kernelspec": {
   "display_name": "Python 3",
   "language": "python",
   "name": "python3"
  },
  "language_info": {
   "codemirror_mode": {
    "name": "ipython",
    "version": 3
   },
   "file_extension": ".py",
   "mimetype": "text/x-python",
   "name": "python",
   "nbconvert_exporter": "python",
   "pygments_lexer": "ipython3",
   "version": "3.5.3"
  }
 },
 "nbformat": 4,
 "nbformat_minor": 1
}
