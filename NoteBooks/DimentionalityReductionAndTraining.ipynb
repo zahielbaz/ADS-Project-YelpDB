{
 "cells": [
  {
   "cell_type": "markdown",
   "metadata": {
    "collapsed": true
   },
   "source": [
    "# This notebook uses PCA method to reduce the dimention, and uses various prediction models to predict business stars from data"
   ]
  },
  {
   "cell_type": "code",
   "execution_count": null,
   "metadata": {
    "collapsed": true
   },
   "outputs": [],
   "source": [
    "import os\n",
    "import sys\n",
    "import numpy as np\n",
    "import json\n",
    "import matplotlib.pylab as plt\n",
    "import pandas as pd\n",
    "import getpass\n",
    "%matplotlib inline \n",
    "sys.path.append(\"..\") # go to parent dir\n",
    "import unicodecsv as csv\n",
    "from sklearn.decomposition import PCA\n",
    "import math\n",
    "import seaborn as sns"
   ]
  },
  {
   "cell_type": "markdown",
   "metadata": {},
   "source": [
    "Path Locations"
   ]
  },
  {
   "cell_type": "code",
   "execution_count": 9,
   "metadata": {
    "collapsed": true
   },
   "outputs": [],
   "source": [
    "username = getpass.getuser()\n",
    "if username == 'sdekel':\n",
    "    data_path = 'C:\\DataSets\\yelp_dataset\\processed_data'\n",
    "elif username == 'zahi':\n",
    "    data_path = 'D:\\\\users\\\\zahi\\\\OneDrive - Bar-Ilan University\\\\yelp_dataset_challenge_round9\\\\yelp2'\n",
    "else:\n",
    "    data_path = ''  ## TODO: PUT YOUR DATA PATH HERE"
   ]
  },
  {
   "cell_type": "markdown",
   "metadata": {},
   "source": [
    "Dataset Names"
   ]
  },
  {
   "cell_type": "code",
   "execution_count": 10,
   "metadata": {
    "collapsed": true
   },
   "outputs": [],
   "source": [
    "business_data_name = 'yelp_academic_dataset_business_with_Clustered_location_with_Binary_Categories_andAttributes_with_checkins_reviewsScore_clean_restaurants.csv'\n",
    "business_fullpath = os.path.join( data_path, business_data_name )"
   ]
  },
  {
   "cell_type": "markdown",
   "metadata": {},
   "source": [
    "Read DataFrame"
   ]
  },
  {
   "cell_type": "code",
   "execution_count": 11,
   "metadata": {
    "collapsed": true
   },
   "outputs": [],
   "source": [
    "business_data = pd.read_csv(business_fullpath, encoding='latin1')\n",
    "#business_data.review_count.max()"
   ]
  },
  {
   "cell_type": "code",
   "execution_count": 12,
   "metadata": {
    "collapsed": false
   },
   "outputs": [
    {
     "data": {
      "text/html": [
       "<div>\n",
       "<table border=\"1\" class=\"dataframe\">\n",
       "  <thead>\n",
       "    <tr style=\"text-align: right;\">\n",
       "      <th></th>\n",
       "      <th>hours_Friday</th>\n",
       "      <th>hours_Monday</th>\n",
       "      <th>hours_Saturday</th>\n",
       "      <th>hours_Sunday</th>\n",
       "      <th>hours_Thursday</th>\n",
       "      <th>hours_Tuesday</th>\n",
       "      <th>hours_Wednesday</th>\n",
       "      <th>is_open</th>\n",
       "      <th>review_count</th>\n",
       "      <th>Clustered_location_0</th>\n",
       "      <th>...</th>\n",
       "      <th>attribute_RestaurantsPriceRange2_3</th>\n",
       "      <th>attribute_RestaurantsPriceRange2_4</th>\n",
       "      <th>attribute_RestaurantsAttire_casual</th>\n",
       "      <th>attribute_RestaurantsAttire_dressy</th>\n",
       "      <th>attribute_RestaurantsAttire_formal</th>\n",
       "      <th>attribute_NoiseLevel_quiet</th>\n",
       "      <th>attribute_NoiseLevel_loud</th>\n",
       "      <th>attribute_NoiseLevel_average</th>\n",
       "      <th>attribute_NoiseLevel_very_loud</th>\n",
       "      <th>ScoresAvg</th>\n",
       "    </tr>\n",
       "  </thead>\n",
       "  <tbody>\n",
       "    <tr>\n",
       "      <th>0</th>\n",
       "      <td>16.0</td>\n",
       "      <td>15.0</td>\n",
       "      <td>16.0</td>\n",
       "      <td>15.0</td>\n",
       "      <td>16.0</td>\n",
       "      <td>15.0</td>\n",
       "      <td>15.0</td>\n",
       "      <td>1</td>\n",
       "      <td>7</td>\n",
       "      <td>0</td>\n",
       "      <td>...</td>\n",
       "      <td>False</td>\n",
       "      <td>False</td>\n",
       "      <td>True</td>\n",
       "      <td>False</td>\n",
       "      <td>False</td>\n",
       "      <td>True</td>\n",
       "      <td>False</td>\n",
       "      <td>False</td>\n",
       "      <td>False</td>\n",
       "      <td>1.928571</td>\n",
       "    </tr>\n",
       "    <tr>\n",
       "      <th>1</th>\n",
       "      <td>12.0</td>\n",
       "      <td>12.0</td>\n",
       "      <td>12.0</td>\n",
       "      <td>12.0</td>\n",
       "      <td>12.0</td>\n",
       "      <td>12.0</td>\n",
       "      <td>12.0</td>\n",
       "      <td>1</td>\n",
       "      <td>9</td>\n",
       "      <td>0</td>\n",
       "      <td>...</td>\n",
       "      <td>False</td>\n",
       "      <td>False</td>\n",
       "      <td>True</td>\n",
       "      <td>False</td>\n",
       "      <td>False</td>\n",
       "      <td>True</td>\n",
       "      <td>False</td>\n",
       "      <td>False</td>\n",
       "      <td>False</td>\n",
       "      <td>2.333333</td>\n",
       "    </tr>\n",
       "    <tr>\n",
       "      <th>2</th>\n",
       "      <td>10.5</td>\n",
       "      <td>10.5</td>\n",
       "      <td>10.5</td>\n",
       "      <td>9.5</td>\n",
       "      <td>10.5</td>\n",
       "      <td>10.5</td>\n",
       "      <td>10.5</td>\n",
       "      <td>0</td>\n",
       "      <td>38</td>\n",
       "      <td>0</td>\n",
       "      <td>...</td>\n",
       "      <td>False</td>\n",
       "      <td>False</td>\n",
       "      <td>True</td>\n",
       "      <td>False</td>\n",
       "      <td>False</td>\n",
       "      <td>True</td>\n",
       "      <td>False</td>\n",
       "      <td>False</td>\n",
       "      <td>False</td>\n",
       "      <td>4.078947</td>\n",
       "    </tr>\n",
       "    <tr>\n",
       "      <th>3</th>\n",
       "      <td>0.0</td>\n",
       "      <td>0.0</td>\n",
       "      <td>0.0</td>\n",
       "      <td>0.0</td>\n",
       "      <td>0.0</td>\n",
       "      <td>0.0</td>\n",
       "      <td>0.0</td>\n",
       "      <td>1</td>\n",
       "      <td>7</td>\n",
       "      <td>0</td>\n",
       "      <td>...</td>\n",
       "      <td>False</td>\n",
       "      <td>False</td>\n",
       "      <td>True</td>\n",
       "      <td>False</td>\n",
       "      <td>False</td>\n",
       "      <td>False</td>\n",
       "      <td>False</td>\n",
       "      <td>False</td>\n",
       "      <td>False</td>\n",
       "      <td>0.428571</td>\n",
       "    </tr>\n",
       "    <tr>\n",
       "      <th>4</th>\n",
       "      <td>10.5</td>\n",
       "      <td>10.5</td>\n",
       "      <td>0.0</td>\n",
       "      <td>0.0</td>\n",
       "      <td>10.5</td>\n",
       "      <td>10.5</td>\n",
       "      <td>10.5</td>\n",
       "      <td>1</td>\n",
       "      <td>3</td>\n",
       "      <td>0</td>\n",
       "      <td>...</td>\n",
       "      <td>False</td>\n",
       "      <td>False</td>\n",
       "      <td>False</td>\n",
       "      <td>False</td>\n",
       "      <td>False</td>\n",
       "      <td>False</td>\n",
       "      <td>False</td>\n",
       "      <td>False</td>\n",
       "      <td>False</td>\n",
       "      <td>5.333333</td>\n",
       "    </tr>\n",
       "  </tbody>\n",
       "</table>\n",
       "<p>5 rows × 1070 columns</p>\n",
       "</div>"
      ],
      "text/plain": [
       "   hours_Friday  hours_Monday  hours_Saturday  hours_Sunday  hours_Thursday  \\\n",
       "0          16.0          15.0            16.0          15.0            16.0   \n",
       "1          12.0          12.0            12.0          12.0            12.0   \n",
       "2          10.5          10.5            10.5           9.5            10.5   \n",
       "3           0.0           0.0             0.0           0.0             0.0   \n",
       "4          10.5          10.5             0.0           0.0            10.5   \n",
       "\n",
       "   hours_Tuesday  hours_Wednesday  is_open  review_count  \\\n",
       "0           15.0             15.0        1             7   \n",
       "1           12.0             12.0        1             9   \n",
       "2           10.5             10.5        0            38   \n",
       "3            0.0              0.0        1             7   \n",
       "4           10.5             10.5        1             3   \n",
       "\n",
       "   Clustered_location_0    ...      attribute_RestaurantsPriceRange2_3  \\\n",
       "0                     0    ...                                   False   \n",
       "1                     0    ...                                   False   \n",
       "2                     0    ...                                   False   \n",
       "3                     0    ...                                   False   \n",
       "4                     0    ...                                   False   \n",
       "\n",
       "   attribute_RestaurantsPriceRange2_4  attribute_RestaurantsAttire_casual  \\\n",
       "0                               False                                True   \n",
       "1                               False                                True   \n",
       "2                               False                                True   \n",
       "3                               False                                True   \n",
       "4                               False                               False   \n",
       "\n",
       "   attribute_RestaurantsAttire_dressy  attribute_RestaurantsAttire_formal  \\\n",
       "0                               False                               False   \n",
       "1                               False                               False   \n",
       "2                               False                               False   \n",
       "3                               False                               False   \n",
       "4                               False                               False   \n",
       "\n",
       "   attribute_NoiseLevel_quiet  attribute_NoiseLevel_loud  \\\n",
       "0                        True                      False   \n",
       "1                        True                      False   \n",
       "2                        True                      False   \n",
       "3                       False                      False   \n",
       "4                       False                      False   \n",
       "\n",
       "   attribute_NoiseLevel_average  attribute_NoiseLevel_very_loud  ScoresAvg  \n",
       "0                         False                           False   1.928571  \n",
       "1                         False                           False   2.333333  \n",
       "2                         False                           False   4.078947  \n",
       "3                         False                           False   0.428571  \n",
       "4                         False                           False   5.333333  \n",
       "\n",
       "[5 rows x 1070 columns]"
      ]
     },
     "execution_count": 12,
     "metadata": {},
     "output_type": "execute_result"
    }
   ],
   "source": [
    "stars=business_data[\"stars\"]\n",
    "business_data=business_data.drop([\"business_id\",\"postal_code\",\"Unnamed: 0\",\"Unnamed: 0.1\",\"Unnamed: 0.1.1\",\"stars\"],axis=1)\n",
    "business_data.head()"
   ]
  },
  {
   "cell_type": "markdown",
   "metadata": {},
   "source": [
    "Normalize Data"
   ]
  },
  {
   "cell_type": "code",
   "execution_count": 13,
   "metadata": {
    "collapsed": true
   },
   "outputs": [],
   "source": [
    "from sklearn.preprocessing import StandardScaler"
   ]
  },
  {
   "cell_type": "code",
   "execution_count": 14,
   "metadata": {
    "collapsed": true
   },
   "outputs": [],
   "source": [
    "scaler = StandardScaler()\n",
    "scaler.fit(business_data)\n",
    "StandardScaler(copy=True, with_mean=True, with_std=True)\n",
    "scaled_data = scaler.transform(business_data)"
   ]
  },
  {
   "cell_type": "markdown",
   "metadata": {
    "collapsed": true
   },
   "source": [
    "PCA"
   ]
  },
  {
   "cell_type": "code",
   "execution_count": 15,
   "metadata": {
    "collapsed": true
   },
   "outputs": [],
   "source": [
    "pca=PCA(n_components=150)\n",
    "business_data_lowD=pca.fit_transform(scaled_data)"
   ]
  },
  {
   "cell_type": "code",
   "execution_count": 16,
   "metadata": {
    "collapsed": false
   },
   "outputs": [
    {
     "data": {
      "text/plain": [
       "[<matplotlib.lines.Line2D at 0x99a5691630>]"
      ]
     },
     "execution_count": 16,
     "metadata": {},
     "output_type": "execute_result"
    },
    {
     "data": {
      "image/png": "[encoded data removed]",
      "text/plain": [
       "<matplotlib.figure.Figure at 0x999f1a6f60>"
      ]
     },
     "metadata": {},
     "output_type": "display_data"
    }
   ],
   "source": [
    "plt.plot(pca.explained_variance_[:150])"
   ]
  },
  {
   "cell_type": "code",
   "execution_count": 17,
   "metadata": {
    "collapsed": false
   },
   "outputs": [
    {
     "data": {
      "text/html": [
       "<div>\n",
       "<table border=\"1\" class=\"dataframe\">\n",
       "  <thead>\n",
       "    <tr style=\"text-align: right;\">\n",
       "      <th></th>\n",
       "      <th>0</th>\n",
       "      <th>1</th>\n",
       "      <th>2</th>\n",
       "      <th>3</th>\n",
       "      <th>4</th>\n",
       "      <th>5</th>\n",
       "      <th>6</th>\n",
       "      <th>7</th>\n",
       "      <th>8</th>\n",
       "      <th>9</th>\n",
       "      <th>...</th>\n",
       "      <th>140</th>\n",
       "      <th>141</th>\n",
       "      <th>142</th>\n",
       "      <th>143</th>\n",
       "      <th>144</th>\n",
       "      <th>145</th>\n",
       "      <th>146</th>\n",
       "      <th>147</th>\n",
       "      <th>148</th>\n",
       "      <th>149</th>\n",
       "    </tr>\n",
       "  </thead>\n",
       "  <tbody>\n",
       "    <tr>\n",
       "      <th>0</th>\n",
       "      <td>-2.141617</td>\n",
       "      <td>0.208881</td>\n",
       "      <td>0.632233</td>\n",
       "      <td>-0.154323</td>\n",
       "      <td>0.040022</td>\n",
       "      <td>-0.057821</td>\n",
       "      <td>-0.188244</td>\n",
       "      <td>2.412387</td>\n",
       "      <td>-2.566052</td>\n",
       "      <td>1.129751</td>\n",
       "      <td>...</td>\n",
       "      <td>-0.394883</td>\n",
       "      <td>-0.269813</td>\n",
       "      <td>-0.672298</td>\n",
       "      <td>-0.152301</td>\n",
       "      <td>-0.397384</td>\n",
       "      <td>-0.107114</td>\n",
       "      <td>-0.304626</td>\n",
       "      <td>0.259861</td>\n",
       "      <td>-0.445487</td>\n",
       "      <td>0.167421</td>\n",
       "    </tr>\n",
       "    <tr>\n",
       "      <th>1</th>\n",
       "      <td>-1.794454</td>\n",
       "      <td>-0.077108</td>\n",
       "      <td>0.186317</td>\n",
       "      <td>1.198828</td>\n",
       "      <td>-1.010996</td>\n",
       "      <td>-0.094830</td>\n",
       "      <td>-0.197041</td>\n",
       "      <td>1.758604</td>\n",
       "      <td>-1.737404</td>\n",
       "      <td>0.775927</td>\n",
       "      <td>...</td>\n",
       "      <td>-0.126044</td>\n",
       "      <td>1.451989</td>\n",
       "      <td>-0.651764</td>\n",
       "      <td>1.113430</td>\n",
       "      <td>0.381701</td>\n",
       "      <td>-0.040138</td>\n",
       "      <td>0.243174</td>\n",
       "      <td>-0.042771</td>\n",
       "      <td>-0.292422</td>\n",
       "      <td>0.492900</td>\n",
       "    </tr>\n",
       "    <tr>\n",
       "      <th>2</th>\n",
       "      <td>3.161187</td>\n",
       "      <td>-2.568135</td>\n",
       "      <td>-0.195136</td>\n",
       "      <td>1.629966</td>\n",
       "      <td>-1.360298</td>\n",
       "      <td>-0.172387</td>\n",
       "      <td>-0.322218</td>\n",
       "      <td>3.050343</td>\n",
       "      <td>-0.815516</td>\n",
       "      <td>0.370534</td>\n",
       "      <td>...</td>\n",
       "      <td>0.225542</td>\n",
       "      <td>2.336830</td>\n",
       "      <td>1.084248</td>\n",
       "      <td>-0.156516</td>\n",
       "      <td>-0.454542</td>\n",
       "      <td>1.722100</td>\n",
       "      <td>-1.607076</td>\n",
       "      <td>0.519586</td>\n",
       "      <td>0.734439</td>\n",
       "      <td>-0.237041</td>\n",
       "    </tr>\n",
       "    <tr>\n",
       "      <th>3</th>\n",
       "      <td>-2.769754</td>\n",
       "      <td>0.722165</td>\n",
       "      <td>0.835674</td>\n",
       "      <td>2.202623</td>\n",
       "      <td>-1.612728</td>\n",
       "      <td>-0.009254</td>\n",
       "      <td>0.156260</td>\n",
       "      <td>-2.441285</td>\n",
       "      <td>1.337949</td>\n",
       "      <td>-0.637999</td>\n",
       "      <td>...</td>\n",
       "      <td>0.203778</td>\n",
       "      <td>-0.754274</td>\n",
       "      <td>0.795693</td>\n",
       "      <td>0.139696</td>\n",
       "      <td>-0.009582</td>\n",
       "      <td>-0.145340</td>\n",
       "      <td>-0.668691</td>\n",
       "      <td>0.535145</td>\n",
       "      <td>0.769459</td>\n",
       "      <td>-0.194719</td>\n",
       "    </tr>\n",
       "    <tr>\n",
       "      <th>4</th>\n",
       "      <td>-2.791682</td>\n",
       "      <td>0.657934</td>\n",
       "      <td>0.623222</td>\n",
       "      <td>1.375193</td>\n",
       "      <td>-0.916490</td>\n",
       "      <td>0.067272</td>\n",
       "      <td>0.186682</td>\n",
       "      <td>-1.226684</td>\n",
       "      <td>0.412534</td>\n",
       "      <td>-0.041853</td>\n",
       "      <td>...</td>\n",
       "      <td>-0.236031</td>\n",
       "      <td>-0.657500</td>\n",
       "      <td>0.245501</td>\n",
       "      <td>-0.029218</td>\n",
       "      <td>-0.618626</td>\n",
       "      <td>-0.063870</td>\n",
       "      <td>0.398951</td>\n",
       "      <td>-0.381460</td>\n",
       "      <td>0.496694</td>\n",
       "      <td>0.002883</td>\n",
       "    </tr>\n",
       "  </tbody>\n",
       "</table>\n",
       "<p>5 rows × 150 columns</p>\n",
       "</div>"
      ],
      "text/plain": [
       "        0         1         2         3         4         5         6    \\\n",
       "0 -2.141617  0.208881  0.632233 -0.154323  0.040022 -0.057821 -0.188244   \n",
       "1 -1.794454 -0.077108  0.186317  1.198828 -1.010996 -0.094830 -0.197041   \n",
       "2  3.161187 -2.568135 -0.195136  1.629966 -1.360298 -0.172387 -0.322218   \n",
       "3 -2.769754  0.722165  0.835674  2.202623 -1.612728 -0.009254  0.156260   \n",
       "4 -2.791682  0.657934  0.623222  1.375193 -0.916490  0.067272  0.186682   \n",
       "\n",
       "        7         8         9      ...          140       141       142  \\\n",
       "0  2.412387 -2.566052  1.129751    ...    -0.394883 -0.269813 -0.672298   \n",
       "1  1.758604 -1.737404  0.775927    ...    -0.126044  1.451989 -0.651764   \n",
       "2  3.050343 -0.815516  0.370534    ...     0.225542  2.336830  1.084248   \n",
       "3 -2.441285  1.337949 -0.637999    ...     0.203778 -0.754274  0.795693   \n",
       "4 -1.226684  0.412534 -0.041853    ...    -0.236031 -0.657500  0.245501   \n",
       "\n",
       "        143       144       145       146       147       148       149  \n",
       "0 -0.152301 -0.397384 -0.107114 -0.304626  0.259861 -0.445487  0.167421  \n",
       "1  1.113430  0.381701 -0.040138  0.243174 -0.042771 -0.292422  0.492900  \n",
       "2 -0.156516 -0.454542  1.722100 -1.607076  0.519586  0.734439 -0.237041  \n",
       "3  0.139696 -0.009582 -0.145340 -0.668691  0.535145  0.769459 -0.194719  \n",
       "4 -0.029218 -0.618626 -0.063870  0.398951 -0.381460  0.496694  0.002883  \n",
       "\n",
       "[5 rows x 150 columns]"
      ]
     },
     "execution_count": 17,
     "metadata": {},
     "output_type": "execute_result"
    }
   ],
   "source": [
    "pd.DataFrame(business_data_lowD).head()"
   ]
  },
  {
   "cell_type": "markdown",
   "metadata": {},
   "source": [
    "# Training"
   ]
  },
  {
   "cell_type": "markdown",
   "metadata": {},
   "source": [
    "Decision Tree"
   ]
  },
  {
   "cell_type": "code",
   "execution_count": 18,
   "metadata": {
    "collapsed": true
   },
   "outputs": [],
   "source": [
    "from sklearn.model_selection import train_test_split\n",
    "X_train, X_test, y_train, y_test = train_test_split(scaled_data, stars, test_size=0.30, random_state=101)"
   ]
  },
  {
   "cell_type": "code",
   "execution_count": 31,
   "metadata": {
    "collapsed": false
   },
   "outputs": [
    {
     "name": "stdout",
     "output_type": "stream",
     "text": [
      "Mean Absolute Error\n",
      "0.409466368962\n"
     ]
    }
   ],
   "source": [
    "from sklearn.tree import DecisionTreeClassifier, DecisionTreeRegressor\n",
    "dtree = DecisionTreeRegressor(max_depth=6, random_state=101)\n",
    "dtree.fit(X_train,y_train)\n",
    "predictions_dtree = dtree.predict(X_test)\n",
    "#predictions=np.clip(predictions,a_max=5,a_min=1)\n",
    "error_dtree=np.abs(np.array(y_test)-predictions_dtree)\n",
    "print(\"Mean Absolute Error\")\n",
    "print(np.sum(error_dtree)/predictions_dtree.shape[0])"
   ]
  },
  {
   "cell_type": "markdown",
   "metadata": {},
   "source": [
    "Draw Tree"
   ]
  },
  {
   "cell_type": "code",
   "execution_count": 20,
   "metadata": {
    "collapsed": true
   },
   "outputs": [],
   "source": [
    "from sklearn import tree\n",
    "tree.export_graphviz(dtree, out_file='tree.dot')"
   ]
  },
  {
   "cell_type": "markdown",
   "metadata": {},
   "source": [
    "Random Forest"
   ]
  },
  {
   "cell_type": "code",
   "execution_count": 21,
   "metadata": {
    "collapsed": false
   },
   "outputs": [
    {
     "name": "stdout",
     "output_type": "stream",
     "text": [
      "Number of trees 50 and score= 0.388919\n"
     ]
    }
   ],
   "source": [
    "from sklearn.ensemble import RandomForestRegressor\n",
    "dtree = RandomForestRegressor(n_estimators=50,max_depth=19, random_state=101)\n",
    "dtree.fit(X_train,y_train)\n",
    "predictions_random_forest = dtree.predict(X_test)\n",
    "error_random_forest=np.abs(np.array(y_test)-predictions_random_forest)\n",
    "score = np.sum(np.abs(error_random_forest))/predictions_random_forest.shape[0]\n",
    "print( 'Number of trees %d and score= %f'% (50,score))"
   ]
  },
  {
   "cell_type": "markdown",
   "metadata": {},
   "source": [
    "Linear Regression"
   ]
  },
  {
   "cell_type": "code",
   "execution_count": 22,
   "metadata": {
    "collapsed": false
   },
   "outputs": [
    {
     "name": "stdout",
     "output_type": "stream",
     "text": [
      "0.419471463972\n"
     ]
    }
   ],
   "source": [
    "from sklearn.linear_model import LinearRegression\n",
    "lm = LinearRegression(normalize=False)\n",
    "lm.fit(X_train,y_train)\n",
    "predictions = lm.predict( X_test)\n",
    "predictions_lr=np.clip(predictions,a_max=5,a_min=1)\n",
    "error_lr=np.abs(np.array(y_test)-predictions_lr)\n",
    "print(np.sum(error_lr)/predictions_lr.shape[0])"
   ]
  },
  {
   "cell_type": "markdown",
   "metadata": {},
   "source": [
    "Show Histogram of Results"
   ]
  },
  {
   "cell_type": "code",
   "execution_count": 32,
   "metadata": {
    "collapsed": false
   },
   "outputs": [
    {
     "data": {
      "text/plain": [
       "(array([  8.12000000e+03,   4.01100000e+03,   1.31400000e+03,\n",
       "          3.34000000e+02,   8.60000000e+01,   2.10000000e+01,\n",
       "          1.20000000e+01,   1.80000000e+01,   7.00000000e+00,\n",
       "          3.00000000e+00]),\n",
       " array([ 0. ,  0.4,  0.8,  1.2,  1.6,  2. ,  2.4,  2.8,  3.2,  3.6,  4. ]),\n",
       " <a list of 10 Patch objects>)"
      ]
     },
     "execution_count": 32,
     "metadata": {},
     "output_type": "execute_result"
    },
    {
     "data": {
      "image/png": "[encoded data removed]",
      "text/plain": [
       "<matplotlib.figure.Figure at 0x999d008b70>"
      ]
     },
     "metadata": {},
     "output_type": "display_data"
    }
   ],
   "source": [
    "plt.figure(figsize=(16,9))\n",
    "plt.subplot(3,1,1)\n",
    "plt.hist(np.abs(predictions_dtree-np.array(y_test)),bins=20)\n",
    "plt.subplot(3,1,2)\n",
    "plt.hist(np.abs(predictions_random_forest-np.array(y_test)))\n",
    "plt.subplot(3,1,3)\n",
    "plt.hist(np.abs(predictions_lr-np.array(y_test)))"
   ]
  },
  {
   "cell_type": "code",
   "execution_count": 25,
   "metadata": {
    "collapsed": false
   },
   "outputs": [
    {
     "name": "stdout",
     "output_type": "stream",
     "text": [
      "Train on 32491 samples, validate on 13926 samples\n",
      "Epoch 1/100\n",
      "32491/32491 [==============================] - 17s - loss: 1.0796 - mean_absolute_error: 0.5514 - val_loss: 0.3662 - val_mean_absolute_error: 0.4439\n",
      "Epoch 2/100\n",
      "32491/32491 [==============================] - 14s - loss: 0.3610 - mean_absolute_error: 0.4390 - val_loss: 0.3755 - val_mean_absolute_error: 0.4453\n",
      "Epoch 3/100\n",
      "32491/32491 [==============================] - 14s - loss: 0.3436 - mean_absolute_error: 0.4281 - val_loss: 0.3218 - val_mean_absolute_error: 0.4148\n",
      "Epoch 4/100\n",
      "32491/32491 [==============================] - 14s - loss: 0.3346 - mean_absolute_error: 0.4234 - val_loss: 0.3426 - val_mean_absolute_error: 0.4285\n",
      "Epoch 5/100\n",
      "32491/32491 [==============================] - 14s - loss: 0.3300 - mean_absolute_error: 0.4206 - val_loss: 0.3532 - val_mean_absolute_error: 0.4360\n",
      "Epoch 6/100\n",
      "32491/32491 [==============================] - 14s - loss: 0.3274 - mean_absolute_error: 0.4199 - val_loss: 0.3553 - val_mean_absolute_error: 0.4436\n",
      "Epoch 7/100\n",
      "32491/32491 [==============================] - 14s - loss: 0.3268 - mean_absolute_error: 0.4190 - val_loss: 0.3079 - val_mean_absolute_error: 0.4049\n",
      "Epoch 8/100\n",
      "32491/32491 [==============================] - 14s - loss: 0.3249 - mean_absolute_error: 0.4180 - val_loss: 0.3328 - val_mean_absolute_error: 0.4232\n",
      "Epoch 9/100\n",
      "32491/32491 [==============================] - 14s - loss: 0.3248 - mean_absolute_error: 0.4180 - val_loss: 0.3070 - val_mean_absolute_error: 0.4045\n",
      "Epoch 10/100\n",
      "32491/32491 [==============================] - 14s - loss: 0.3222 - mean_absolute_error: 0.4156 - val_loss: 0.3172 - val_mean_absolute_error: 0.4133\n",
      "Epoch 11/100\n",
      "32491/32491 [==============================] - 14s - loss: 0.3247 - mean_absolute_error: 0.4170 - val_loss: 0.3159 - val_mean_absolute_error: 0.4091\n",
      "Epoch 12/100\n",
      "32491/32491 [==============================] - 14s - loss: 0.3230 - mean_absolute_error: 0.4168 - val_loss: 0.3620 - val_mean_absolute_error: 0.4421\n",
      "Epoch 13/100\n",
      "32491/32491 [==============================] - 14s - loss: 0.3223 - mean_absolute_error: 0.4162 - val_loss: 0.3209 - val_mean_absolute_error: 0.4133\n",
      "Epoch 14/100\n",
      "32491/32491 [==============================] - 14s - loss: 0.3200 - mean_absolute_error: 0.4151 - val_loss: 0.3113 - val_mean_absolute_error: 0.4088\n",
      "Epoch 15/100\n",
      "32491/32491 [==============================] - 14s - loss: 0.3215 - mean_absolute_error: 0.4152 - val_loss: 0.3168 - val_mean_absolute_error: 0.4122\n",
      "Epoch 16/100\n",
      "32491/32491 [==============================] - 14s - loss: 0.3204 - mean_absolute_error: 0.4149 - val_loss: 0.3457 - val_mean_absolute_error: 0.4303\n",
      "Epoch 17/100\n",
      "32491/32491 [==============================] - 14s - loss: 0.3194 - mean_absolute_error: 0.4143 - val_loss: 0.3144 - val_mean_absolute_error: 0.4099\n",
      "Epoch 18/100\n",
      "32491/32491 [==============================] - 14s - loss: 0.3189 - mean_absolute_error: 0.4140 - val_loss: 0.3083 - val_mean_absolute_error: 0.4074\n",
      "Epoch 19/100\n",
      "32491/32491 [==============================] - 14s - loss: 0.3179 - mean_absolute_error: 0.4143 - val_loss: 0.3177 - val_mean_absolute_error: 0.4090\n",
      "Epoch 20/100\n",
      "32491/32491 [==============================] - 14s - loss: 0.3184 - mean_absolute_error: 0.4140 - val_loss: 0.4586 - val_mean_absolute_error: 0.4907\n",
      "Epoch 21/100\n",
      "32491/32491 [==============================] - 14s - loss: 0.3183 - mean_absolute_error: 0.4140 - val_loss: 0.3153 - val_mean_absolute_error: 0.4143\n",
      "Epoch 22/100\n",
      "32491/32491 [==============================] - 14s - loss: 0.3176 - mean_absolute_error: 0.4128 - val_loss: 0.3175 - val_mean_absolute_error: 0.4163\n",
      "Epoch 23/100\n",
      "32491/32491 [==============================] - 14s - loss: 0.3170 - mean_absolute_error: 0.4136 - val_loss: 0.3149 - val_mean_absolute_error: 0.4087\n",
      "Epoch 24/100\n",
      "32491/32491 [==============================] - 14s - loss: 0.3158 - mean_absolute_error: 0.4129 - val_loss: 0.3621 - val_mean_absolute_error: 0.4407\n",
      "Epoch 25/100\n",
      "32491/32491 [==============================] - 18s - loss: 0.3171 - mean_absolute_error: 0.4134 - val_loss: 0.3106 - val_mean_absolute_error: 0.4094\n",
      "Epoch 26/100\n",
      "32491/32491 [==============================] - 14s - loss: 0.3170 - mean_absolute_error: 0.4138 - val_loss: 0.3229 - val_mean_absolute_error: 0.4158\n",
      "Epoch 27/100\n",
      "32491/32491 [==============================] - 14s - loss: 0.3160 - mean_absolute_error: 0.4124 - val_loss: 0.3055 - val_mean_absolute_error: 0.4056\n",
      "Epoch 28/100\n",
      "32491/32491 [==============================] - 14s - loss: 0.3174 - mean_absolute_error: 0.4141 - val_loss: 0.3241 - val_mean_absolute_error: 0.4172\n",
      "Epoch 29/100\n",
      "32491/32491 [==============================] - 14s - loss: 0.3158 - mean_absolute_error: 0.4134 - val_loss: 0.3114 - val_mean_absolute_error: 0.4086\n",
      "Epoch 30/100\n",
      "32491/32491 [==============================] - 14s - loss: 0.3160 - mean_absolute_error: 0.4130 - val_loss: 0.3070 - val_mean_absolute_error: 0.4064\n",
      "Epoch 31/100\n",
      "32491/32491 [==============================] - 14s - loss: 0.3148 - mean_absolute_error: 0.4128 - val_loss: 0.3433 - val_mean_absolute_error: 0.4335\n",
      "Epoch 32/100\n",
      "32491/32491 [==============================] - 14s - loss: 0.3156 - mean_absolute_error: 0.4128 - val_loss: 0.3136 - val_mean_absolute_error: 0.4101\n",
      "Epoch 33/100\n",
      "32491/32491 [==============================] - 14s - loss: 0.3165 - mean_absolute_error: 0.4133 - val_loss: 0.3022 - val_mean_absolute_error: 0.4044\n",
      "Epoch 34/100\n",
      "32491/32491 [==============================] - 14s - loss: 0.3158 - mean_absolute_error: 0.4137 - val_loss: 0.3100 - val_mean_absolute_error: 0.4096\n",
      "Epoch 35/100\n",
      "32491/32491 [==============================] - 14s - loss: 0.3145 - mean_absolute_error: 0.4126 - val_loss: 0.3170 - val_mean_absolute_error: 0.4164\n",
      "Epoch 36/100\n",
      "32491/32491 [==============================] - 14s - loss: 0.3143 - mean_absolute_error: 0.4128 - val_loss: 0.3005 - val_mean_absolute_error: 0.4023\n",
      "Epoch 37/100\n",
      "32491/32491 [==============================] - 14s - loss: 0.3145 - mean_absolute_error: 0.4122 - val_loss: 0.3740 - val_mean_absolute_error: 0.4475\n",
      "Epoch 38/100\n",
      "32491/32491 [==============================] - 14s - loss: 0.3151 - mean_absolute_error: 0.4132 - val_loss: 0.3049 - val_mean_absolute_error: 0.4059\n",
      "Epoch 39/100\n",
      "32491/32491 [==============================] - 14s - loss: 0.3157 - mean_absolute_error: 0.4133 - val_loss: 0.3138 - val_mean_absolute_error: 0.4103\n",
      "Epoch 40/100\n",
      "32491/32491 [==============================] - 14s - loss: 0.3150 - mean_absolute_error: 0.4130 - val_loss: 0.3069 - val_mean_absolute_error: 0.4080\n",
      "Epoch 41/100\n",
      "32491/32491 [==============================] - 14s - loss: 0.3156 - mean_absolute_error: 0.4143 - val_loss: 0.3916 - val_mean_absolute_error: 0.4626\n",
      "Epoch 42/100\n",
      "32491/32491 [==============================] - 14s - loss: 0.3135 - mean_absolute_error: 0.4121 - val_loss: 0.3307 - val_mean_absolute_error: 0.4232\n",
      "Epoch 43/100\n",
      "32491/32491 [==============================] - 14s - loss: 0.3154 - mean_absolute_error: 0.4133 - val_loss: 0.3401 - val_mean_absolute_error: 0.4282\n",
      "Epoch 44/100\n",
      "32491/32491 [==============================] - 14s - loss: 0.3127 - mean_absolute_error: 0.4126 - val_loss: 0.3022 - val_mean_absolute_error: 0.4048\n",
      "Epoch 45/100\n",
      "32491/32491 [==============================] - 14s - loss: 0.3118 - mean_absolute_error: 0.4117 - val_loss: 0.3125 - val_mean_absolute_error: 0.4119\n",
      "Epoch 46/100\n",
      "32491/32491 [==============================] - 14s - loss: 0.3133 - mean_absolute_error: 0.4136 - val_loss: 0.3176 - val_mean_absolute_error: 0.4130\n",
      "Epoch 47/100\n",
      "32491/32491 [==============================] - 14s - loss: 0.3135 - mean_absolute_error: 0.4129 - val_loss: 0.3015 - val_mean_absolute_error: 0.4046\n",
      "Epoch 48/100\n",
      "32491/32491 [==============================] - 14s - loss: 0.3138 - mean_absolute_error: 0.4133 - val_loss: 0.3077 - val_mean_absolute_error: 0.4090\n",
      "Epoch 49/100\n",
      "32491/32491 [==============================] - 14s - loss: 0.3142 - mean_absolute_error: 0.4142 - val_loss: 0.3237 - val_mean_absolute_error: 0.4188\n",
      "Epoch 50/100\n",
      "32491/32491 [==============================] - 14s - loss: 0.3148 - mean_absolute_error: 0.4140 - val_loss: 0.3122 - val_mean_absolute_error: 0.4145\n",
      "Epoch 51/100\n",
      "32491/32491 [==============================] - 14s - loss: 0.3136 - mean_absolute_error: 0.4129 - val_loss: 0.3307 - val_mean_absolute_error: 0.4270\n",
      "Epoch 52/100\n",
      "32491/32491 [==============================] - 14s - loss: 0.3118 - mean_absolute_error: 0.4118 - val_loss: 0.3074 - val_mean_absolute_error: 0.4106\n",
      "Epoch 53/100\n",
      "32491/32491 [==============================] - 14s - loss: 0.3116 - mean_absolute_error: 0.4116 - val_loss: 0.3089 - val_mean_absolute_error: 0.4097\n",
      "Epoch 54/100\n",
      "32491/32491 [==============================] - 14s - loss: 0.3129 - mean_absolute_error: 0.4135 - val_loss: 0.3265 - val_mean_absolute_error: 0.4193\n",
      "Epoch 55/100\n",
      "32491/32491 [==============================] - 14s - loss: 0.3143 - mean_absolute_error: 0.4146 - val_loss: 0.2962 - val_mean_absolute_error: 0.4008\n",
      "Epoch 56/100\n",
      "32491/32491 [==============================] - 14s - loss: 0.3117 - mean_absolute_error: 0.4123 - val_loss: 0.3004 - val_mean_absolute_error: 0.4060\n",
      "Epoch 57/100\n",
      "32491/32491 [==============================] - 14s - loss: 0.3115 - mean_absolute_error: 0.4122 - val_loss: 0.3101 - val_mean_absolute_error: 0.4133\n",
      "Epoch 58/100\n",
      "32491/32491 [==============================] - 14s - loss: 0.3119 - mean_absolute_error: 0.4121 - val_loss: 0.3099 - val_mean_absolute_error: 0.4112\n",
      "Epoch 59/100\n",
      "32491/32491 [==============================] - 14s - loss: 0.3109 - mean_absolute_error: 0.4128 - val_loss: 0.3211 - val_mean_absolute_error: 0.4201\n",
      "Epoch 60/100\n",
      "32491/32491 [==============================] - 14s - loss: 0.3134 - mean_absolute_error: 0.4132 - val_loss: 0.3048 - val_mean_absolute_error: 0.4070\n",
      "Epoch 61/100\n",
      "32491/32491 [==============================] - 14s - loss: 0.3114 - mean_absolute_error: 0.4120 - val_loss: 0.3018 - val_mean_absolute_error: 0.4069\n",
      "Epoch 62/100\n",
      "32491/32491 [==============================] - 14s - loss: 0.3112 - mean_absolute_error: 0.4124 - val_loss: 0.3470 - val_mean_absolute_error: 0.4299\n",
      "Epoch 63/100\n",
      "32491/32491 [==============================] - 14s - loss: 0.3103 - mean_absolute_error: 0.4120 - val_loss: 0.3065 - val_mean_absolute_error: 0.4109\n",
      "Epoch 64/100\n",
      "32491/32491 [==============================] - 14s - loss: 0.3116 - mean_absolute_error: 0.4125 - val_loss: 0.3062 - val_mean_absolute_error: 0.4098\n",
      "Epoch 65/100\n",
      "32491/32491 [==============================] - 14s - loss: 0.3111 - mean_absolute_error: 0.4120 - val_loss: 0.2966 - val_mean_absolute_error: 0.4021\n",
      "Epoch 66/100\n",
      "32491/32491 [==============================] - 14s - loss: 0.3103 - mean_absolute_error: 0.4123 - val_loss: 0.3067 - val_mean_absolute_error: 0.4074\n",
      "Epoch 67/100\n",
      "32491/32491 [==============================] - 14s - loss: 0.3113 - mean_absolute_error: 0.4123 - val_loss: 0.3127 - val_mean_absolute_error: 0.4147\n",
      "Epoch 68/100\n",
      "32491/32491 [==============================] - 14s - loss: 0.3130 - mean_absolute_error: 0.4134 - val_loss: 0.4232 - val_mean_absolute_error: 0.4786\n",
      "Epoch 69/100\n",
      "32491/32491 [==============================] - 14s - loss: 0.3101 - mean_absolute_error: 0.4117 - val_loss: 0.4438 - val_mean_absolute_error: 0.4872\n",
      "Epoch 70/100\n",
      "14670/32491 [============>.................] - ETA: 6s - loss: 0.3112 - mean_absolute_error: 0.4123"
     ]
    },
    {
     "ename": "KeyboardInterrupt",
     "evalue": "",
     "output_type": "error",
     "traceback": [
      "\u001b[1;31m---------------------------------------------------------------------------\u001b[0m",
      "\u001b[1;31mKeyboardInterrupt\u001b[0m                         Traceback (most recent call last)",
      "\u001b[1;32m<ipython-input-25-acfbd9d9d02c>\u001b[0m in \u001b[0;36m<module>\u001b[1;34m()\u001b[0m\n\u001b[0;32m     15\u001b[0m \u001b[0my_test_np\u001b[0m\u001b[1;33m=\u001b[0m\u001b[0mnp\u001b[0m\u001b[1;33m.\u001b[0m\u001b[0marray\u001b[0m\u001b[1;33m(\u001b[0m\u001b[0my_test\u001b[0m\u001b[1;33m)\u001b[0m\u001b[1;33m\u001b[0m\u001b[0m\n\u001b[0;32m     16\u001b[0m \u001b[0my_train_np\u001b[0m\u001b[1;33m=\u001b[0m\u001b[0mnp\u001b[0m\u001b[1;33m.\u001b[0m\u001b[0marray\u001b[0m\u001b[1;33m(\u001b[0m\u001b[0my_train\u001b[0m\u001b[1;33m)\u001b[0m\u001b[1;33m\u001b[0m\u001b[0m\n\u001b[1;32m---> 17\u001b[1;33m \u001b[0mresults\u001b[0m\u001b[1;33m=\u001b[0m\u001b[0mnet\u001b[0m\u001b[1;33m.\u001b[0m\u001b[0mfit\u001b[0m\u001b[1;33m(\u001b[0m\u001b[0mbatch_size\u001b[0m\u001b[1;33m=\u001b[0m\u001b[1;36m10\u001b[0m\u001b[1;33m,\u001b[0m\u001b[0mepochs\u001b[0m\u001b[1;33m=\u001b[0m\u001b[1;36m100\u001b[0m\u001b[1;33m,\u001b[0m\u001b[0mvalidation_data\u001b[0m\u001b[1;33m=\u001b[0m\u001b[1;33m(\u001b[0m\u001b[0mX_test_np\u001b[0m\u001b[1;33m,\u001b[0m\u001b[0my_test_np\u001b[0m\u001b[1;33m)\u001b[0m\u001b[1;33m,\u001b[0m\u001b[0mx\u001b[0m\u001b[1;33m=\u001b[0m\u001b[0mX_train_np\u001b[0m\u001b[1;33m,\u001b[0m\u001b[0my\u001b[0m\u001b[1;33m=\u001b[0m\u001b[0my_train_np\u001b[0m\u001b[1;33m,\u001b[0m \u001b[0mcallbacks\u001b[0m\u001b[1;33m=\u001b[0m\u001b[0mcallback\u001b[0m\u001b[1;33m)\u001b[0m\u001b[1;33m\u001b[0m\u001b[0m\n\u001b[0m",
      "\u001b[1;32mc:\\users\\zahi\\appdata\\local\\programs\\python\\python35\\lib\\site-packages\\keras\\models.py\u001b[0m in \u001b[0;36mfit\u001b[1;34m(self, x, y, batch_size, epochs, verbose, callbacks, validation_split, validation_data, shuffle, class_weight, sample_weight, initial_epoch, **kwargs)\u001b[0m\n\u001b[0;32m    843\u001b[0m                               \u001b[0mclass_weight\u001b[0m\u001b[1;33m=\u001b[0m\u001b[0mclass_weight\u001b[0m\u001b[1;33m,\u001b[0m\u001b[1;33m\u001b[0m\u001b[0m\n\u001b[0;32m    844\u001b[0m                               \u001b[0msample_weight\u001b[0m\u001b[1;33m=\u001b[0m\u001b[0msample_weight\u001b[0m\u001b[1;33m,\u001b[0m\u001b[1;33m\u001b[0m\u001b[0m\n\u001b[1;32m--> 845\u001b[1;33m                               initial_epoch=initial_epoch)\n\u001b[0m\u001b[0;32m    846\u001b[0m \u001b[1;33m\u001b[0m\u001b[0m\n\u001b[0;32m    847\u001b[0m     def evaluate(self, x, y, batch_size=32, verbose=1,\n",
      "\u001b[1;32mc:\\users\\zahi\\appdata\\local\\programs\\python\\python35\\lib\\site-packages\\keras\\engine\\training.py\u001b[0m in \u001b[0;36mfit\u001b[1;34m(self, x, y, batch_size, epochs, verbose, callbacks, validation_split, validation_data, shuffle, class_weight, sample_weight, initial_epoch, **kwargs)\u001b[0m\n\u001b[0;32m   1483\u001b[0m                               \u001b[0mval_f\u001b[0m\u001b[1;33m=\u001b[0m\u001b[0mval_f\u001b[0m\u001b[1;33m,\u001b[0m \u001b[0mval_ins\u001b[0m\u001b[1;33m=\u001b[0m\u001b[0mval_ins\u001b[0m\u001b[1;33m,\u001b[0m \u001b[0mshuffle\u001b[0m\u001b[1;33m=\u001b[0m\u001b[0mshuffle\u001b[0m\u001b[1;33m,\u001b[0m\u001b[1;33m\u001b[0m\u001b[0m\n\u001b[0;32m   1484\u001b[0m                               \u001b[0mcallback_metrics\u001b[0m\u001b[1;33m=\u001b[0m\u001b[0mcallback_metrics\u001b[0m\u001b[1;33m,\u001b[0m\u001b[1;33m\u001b[0m\u001b[0m\n\u001b[1;32m-> 1485\u001b[1;33m                               initial_epoch=initial_epoch)\n\u001b[0m\u001b[0;32m   1486\u001b[0m \u001b[1;33m\u001b[0m\u001b[0m\n\u001b[0;32m   1487\u001b[0m     \u001b[1;32mdef\u001b[0m \u001b[0mevaluate\u001b[0m\u001b[1;33m(\u001b[0m\u001b[0mself\u001b[0m\u001b[1;33m,\u001b[0m \u001b[0mx\u001b[0m\u001b[1;33m,\u001b[0m \u001b[0my\u001b[0m\u001b[1;33m,\u001b[0m \u001b[0mbatch_size\u001b[0m\u001b[1;33m=\u001b[0m\u001b[1;36m32\u001b[0m\u001b[1;33m,\u001b[0m \u001b[0mverbose\u001b[0m\u001b[1;33m=\u001b[0m\u001b[1;36m1\u001b[0m\u001b[1;33m,\u001b[0m \u001b[0msample_weight\u001b[0m\u001b[1;33m=\u001b[0m\u001b[1;32mNone\u001b[0m\u001b[1;33m)\u001b[0m\u001b[1;33m:\u001b[0m\u001b[1;33m\u001b[0m\u001b[0m\n",
      "\u001b[1;32mc:\\users\\zahi\\appdata\\local\\programs\\python\\python35\\lib\\site-packages\\keras\\engine\\training.py\u001b[0m in \u001b[0;36m_fit_loop\u001b[1;34m(self, f, ins, out_labels, batch_size, epochs, verbose, callbacks, val_f, val_ins, shuffle, callback_metrics, initial_epoch)\u001b[0m\n\u001b[0;32m   1144\u001b[0m                     \u001b[0mbatch_logs\u001b[0m\u001b[1;33m[\u001b[0m\u001b[0ml\u001b[0m\u001b[1;33m]\u001b[0m \u001b[1;33m=\u001b[0m \u001b[0mo\u001b[0m\u001b[1;33m\u001b[0m\u001b[0m\n\u001b[0;32m   1145\u001b[0m \u001b[1;33m\u001b[0m\u001b[0m\n\u001b[1;32m-> 1146\u001b[1;33m                 \u001b[0mcallbacks\u001b[0m\u001b[1;33m.\u001b[0m\u001b[0mon_batch_end\u001b[0m\u001b[1;33m(\u001b[0m\u001b[0mbatch_index\u001b[0m\u001b[1;33m,\u001b[0m \u001b[0mbatch_logs\u001b[0m\u001b[1;33m)\u001b[0m\u001b[1;33m\u001b[0m\u001b[0m\n\u001b[0m\u001b[0;32m   1147\u001b[0m \u001b[1;33m\u001b[0m\u001b[0m\n\u001b[0;32m   1148\u001b[0m                 \u001b[1;32mif\u001b[0m \u001b[0mbatch_index\u001b[0m \u001b[1;33m==\u001b[0m \u001b[0mlen\u001b[0m\u001b[1;33m(\u001b[0m\u001b[0mbatches\u001b[0m\u001b[1;33m)\u001b[0m \u001b[1;33m-\u001b[0m \u001b[1;36m1\u001b[0m\u001b[1;33m:\u001b[0m  \u001b[1;31m# last batch\u001b[0m\u001b[1;33m\u001b[0m\u001b[0m\n",
      "\u001b[1;32mc:\\users\\zahi\\appdata\\local\\programs\\python\\python35\\lib\\site-packages\\keras\\callbacks.py\u001b[0m in \u001b[0;36mon_batch_end\u001b[1;34m(self, batch, logs)\u001b[0m\n\u001b[0;32m    109\u001b[0m         \u001b[0mt_before_callbacks\u001b[0m \u001b[1;33m=\u001b[0m \u001b[0mtime\u001b[0m\u001b[1;33m.\u001b[0m\u001b[0mtime\u001b[0m\u001b[1;33m(\u001b[0m\u001b[1;33m)\u001b[0m\u001b[1;33m\u001b[0m\u001b[0m\n\u001b[0;32m    110\u001b[0m         \u001b[1;32mfor\u001b[0m \u001b[0mcallback\u001b[0m \u001b[1;32min\u001b[0m \u001b[0mself\u001b[0m\u001b[1;33m.\u001b[0m\u001b[0mcallbacks\u001b[0m\u001b[1;33m:\u001b[0m\u001b[1;33m\u001b[0m\u001b[0m\n\u001b[1;32m--> 111\u001b[1;33m             \u001b[0mcallback\u001b[0m\u001b[1;33m.\u001b[0m\u001b[0mon_batch_end\u001b[0m\u001b[1;33m(\u001b[0m\u001b[0mbatch\u001b[0m\u001b[1;33m,\u001b[0m \u001b[0mlogs\u001b[0m\u001b[1;33m)\u001b[0m\u001b[1;33m\u001b[0m\u001b[0m\n\u001b[0m\u001b[0;32m    112\u001b[0m         \u001b[0mself\u001b[0m\u001b[1;33m.\u001b[0m\u001b[0m_delta_ts_batch_end\u001b[0m\u001b[1;33m.\u001b[0m\u001b[0mappend\u001b[0m\u001b[1;33m(\u001b[0m\u001b[0mtime\u001b[0m\u001b[1;33m.\u001b[0m\u001b[0mtime\u001b[0m\u001b[1;33m(\u001b[0m\u001b[1;33m)\u001b[0m \u001b[1;33m-\u001b[0m \u001b[0mt_before_callbacks\u001b[0m\u001b[1;33m)\u001b[0m\u001b[1;33m\u001b[0m\u001b[0m\n\u001b[0;32m    113\u001b[0m         \u001b[0mdelta_t_median\u001b[0m \u001b[1;33m=\u001b[0m \u001b[0mnp\u001b[0m\u001b[1;33m.\u001b[0m\u001b[0mmedian\u001b[0m\u001b[1;33m(\u001b[0m\u001b[0mself\u001b[0m\u001b[1;33m.\u001b[0m\u001b[0m_delta_ts_batch_end\u001b[0m\u001b[1;33m)\u001b[0m\u001b[1;33m\u001b[0m\u001b[0m\n",
      "\u001b[1;32mc:\\users\\zahi\\appdata\\local\\programs\\python\\python35\\lib\\site-packages\\keras\\callbacks.py\u001b[0m in \u001b[0;36mon_batch_end\u001b[1;34m(self, batch, logs)\u001b[0m\n\u001b[0;32m    282\u001b[0m         \u001b[1;31m# will be handled by on_epoch_end.\u001b[0m\u001b[1;33m\u001b[0m\u001b[1;33m\u001b[0m\u001b[0m\n\u001b[0;32m    283\u001b[0m         \u001b[1;32mif\u001b[0m \u001b[0mself\u001b[0m\u001b[1;33m.\u001b[0m\u001b[0mverbose\u001b[0m \u001b[1;32mand\u001b[0m \u001b[0mself\u001b[0m\u001b[1;33m.\u001b[0m\u001b[0mseen\u001b[0m \u001b[1;33m<\u001b[0m \u001b[0mself\u001b[0m\u001b[1;33m.\u001b[0m\u001b[0mtarget\u001b[0m\u001b[1;33m:\u001b[0m\u001b[1;33m\u001b[0m\u001b[0m\n\u001b[1;32m--> 284\u001b[1;33m             \u001b[0mself\u001b[0m\u001b[1;33m.\u001b[0m\u001b[0mprogbar\u001b[0m\u001b[1;33m.\u001b[0m\u001b[0mupdate\u001b[0m\u001b[1;33m(\u001b[0m\u001b[0mself\u001b[0m\u001b[1;33m.\u001b[0m\u001b[0mseen\u001b[0m\u001b[1;33m,\u001b[0m \u001b[0mself\u001b[0m\u001b[1;33m.\u001b[0m\u001b[0mlog_values\u001b[0m\u001b[1;33m)\u001b[0m\u001b[1;33m\u001b[0m\u001b[0m\n\u001b[0m\u001b[0;32m    285\u001b[0m \u001b[1;33m\u001b[0m\u001b[0m\n\u001b[0;32m    286\u001b[0m     \u001b[1;32mdef\u001b[0m \u001b[0mon_epoch_end\u001b[0m\u001b[1;33m(\u001b[0m\u001b[0mself\u001b[0m\u001b[1;33m,\u001b[0m \u001b[0mepoch\u001b[0m\u001b[1;33m,\u001b[0m \u001b[0mlogs\u001b[0m\u001b[1;33m=\u001b[0m\u001b[1;32mNone\u001b[0m\u001b[1;33m)\u001b[0m\u001b[1;33m:\u001b[0m\u001b[1;33m\u001b[0m\u001b[0m\n",
      "\u001b[1;32mc:\\users\\zahi\\appdata\\local\\programs\\python\\python35\\lib\\site-packages\\keras\\utils\\generic_utils.py\u001b[0m in \u001b[0;36mupdate\u001b[1;34m(self, current, values, force)\u001b[0m\n\u001b[0;32m    300\u001b[0m \u001b[1;33m\u001b[0m\u001b[0m\n\u001b[0;32m    301\u001b[0m             \u001b[0msys\u001b[0m\u001b[1;33m.\u001b[0m\u001b[0mstdout\u001b[0m\u001b[1;33m.\u001b[0m\u001b[0mwrite\u001b[0m\u001b[1;33m(\u001b[0m\u001b[0minfo\u001b[0m\u001b[1;33m)\u001b[0m\u001b[1;33m\u001b[0m\u001b[0m\n\u001b[1;32m--> 302\u001b[1;33m             \u001b[0msys\u001b[0m\u001b[1;33m.\u001b[0m\u001b[0mstdout\u001b[0m\u001b[1;33m.\u001b[0m\u001b[0mflush\u001b[0m\u001b[1;33m(\u001b[0m\u001b[1;33m)\u001b[0m\u001b[1;33m\u001b[0m\u001b[0m\n\u001b[0m\u001b[0;32m    303\u001b[0m \u001b[1;33m\u001b[0m\u001b[0m\n\u001b[0;32m    304\u001b[0m             \u001b[1;32mif\u001b[0m \u001b[0mcurrent\u001b[0m \u001b[1;33m>=\u001b[0m \u001b[0mself\u001b[0m\u001b[1;33m.\u001b[0m\u001b[0mtarget\u001b[0m\u001b[1;33m:\u001b[0m\u001b[1;33m\u001b[0m\u001b[0m\n",
      "\u001b[1;32mc:\\users\\zahi\\appdata\\local\\programs\\python\\python35\\lib\\site-packages\\ipykernel\\iostream.py\u001b[0m in \u001b[0;36mflush\u001b[1;34m(self)\u001b[0m\n\u001b[0;32m    319\u001b[0m             \u001b[0mevt\u001b[0m \u001b[1;33m=\u001b[0m \u001b[0mthreading\u001b[0m\u001b[1;33m.\u001b[0m\u001b[0mEvent\u001b[0m\u001b[1;33m(\u001b[0m\u001b[1;33m)\u001b[0m\u001b[1;33m\u001b[0m\u001b[0m\n\u001b[0;32m    320\u001b[0m             \u001b[0mself\u001b[0m\u001b[1;33m.\u001b[0m\u001b[0mpub_thread\u001b[0m\u001b[1;33m.\u001b[0m\u001b[0mschedule\u001b[0m\u001b[1;33m(\u001b[0m\u001b[0mevt\u001b[0m\u001b[1;33m.\u001b[0m\u001b[0mset\u001b[0m\u001b[1;33m)\u001b[0m\u001b[1;33m\u001b[0m\u001b[0m\n\u001b[1;32m--> 321\u001b[1;33m             \u001b[0mevt\u001b[0m\u001b[1;33m.\u001b[0m\u001b[0mwait\u001b[0m\u001b[1;33m(\u001b[0m\u001b[1;33m)\u001b[0m\u001b[1;33m\u001b[0m\u001b[0m\n\u001b[0m\u001b[0;32m    322\u001b[0m         \u001b[1;32melse\u001b[0m\u001b[1;33m:\u001b[0m\u001b[1;33m\u001b[0m\u001b[0m\n\u001b[0;32m    323\u001b[0m             \u001b[0mself\u001b[0m\u001b[1;33m.\u001b[0m\u001b[0m_flush\u001b[0m\u001b[1;33m(\u001b[0m\u001b[1;33m)\u001b[0m\u001b[1;33m\u001b[0m\u001b[0m\n",
      "\u001b[1;32mc:\\users\\zahi\\appdata\\local\\programs\\python\\python35\\lib\\threading.py\u001b[0m in \u001b[0;36mwait\u001b[1;34m(self, timeout)\u001b[0m\n\u001b[0;32m    547\u001b[0m             \u001b[0msignaled\u001b[0m \u001b[1;33m=\u001b[0m \u001b[0mself\u001b[0m\u001b[1;33m.\u001b[0m\u001b[0m_flag\u001b[0m\u001b[1;33m\u001b[0m\u001b[0m\n\u001b[0;32m    548\u001b[0m             \u001b[1;32mif\u001b[0m \u001b[1;32mnot\u001b[0m \u001b[0msignaled\u001b[0m\u001b[1;33m:\u001b[0m\u001b[1;33m\u001b[0m\u001b[0m\n\u001b[1;32m--> 549\u001b[1;33m                 \u001b[0msignaled\u001b[0m \u001b[1;33m=\u001b[0m \u001b[0mself\u001b[0m\u001b[1;33m.\u001b[0m\u001b[0m_cond\u001b[0m\u001b[1;33m.\u001b[0m\u001b[0mwait\u001b[0m\u001b[1;33m(\u001b[0m\u001b[0mtimeout\u001b[0m\u001b[1;33m)\u001b[0m\u001b[1;33m\u001b[0m\u001b[0m\n\u001b[0m\u001b[0;32m    550\u001b[0m             \u001b[1;32mreturn\u001b[0m \u001b[0msignaled\u001b[0m\u001b[1;33m\u001b[0m\u001b[0m\n\u001b[0;32m    551\u001b[0m \u001b[1;33m\u001b[0m\u001b[0m\n",
      "\u001b[1;32mc:\\users\\zahi\\appdata\\local\\programs\\python\\python35\\lib\\threading.py\u001b[0m in \u001b[0;36mwait\u001b[1;34m(self, timeout)\u001b[0m\n\u001b[0;32m    291\u001b[0m         \u001b[1;32mtry\u001b[0m\u001b[1;33m:\u001b[0m    \u001b[1;31m# restore state no matter what (e.g., KeyboardInterrupt)\u001b[0m\u001b[1;33m\u001b[0m\u001b[0m\n\u001b[0;32m    292\u001b[0m             \u001b[1;32mif\u001b[0m \u001b[0mtimeout\u001b[0m \u001b[1;32mis\u001b[0m \u001b[1;32mNone\u001b[0m\u001b[1;33m:\u001b[0m\u001b[1;33m\u001b[0m\u001b[0m\n\u001b[1;32m--> 293\u001b[1;33m                 \u001b[0mwaiter\u001b[0m\u001b[1;33m.\u001b[0m\u001b[0macquire\u001b[0m\u001b[1;33m(\u001b[0m\u001b[1;33m)\u001b[0m\u001b[1;33m\u001b[0m\u001b[0m\n\u001b[0m\u001b[0;32m    294\u001b[0m                 \u001b[0mgotit\u001b[0m \u001b[1;33m=\u001b[0m \u001b[1;32mTrue\u001b[0m\u001b[1;33m\u001b[0m\u001b[0m\n\u001b[0;32m    295\u001b[0m             \u001b[1;32melse\u001b[0m\u001b[1;33m:\u001b[0m\u001b[1;33m\u001b[0m\u001b[0m\n",
      "\u001b[1;31mKeyboardInterrupt\u001b[0m: "
     ]
    }
   ],
   "source": [
    "import keras\n",
    "from keras.models import Sequential\n",
    "from keras.layers import Dense\n",
    "from keras.regularizers import l2\n",
    "import time\n",
    "callback=[keras.callbacks.ModelCheckpoint(filepath=time.strftime(\"%Y%m%d-%H%M%S\") + '-{epoch:02d}-{val_mean_absolute_error:.4f}.hdf5' \\\n",
    "                                        , save_best_only=True)]\n",
    "net=Sequential()\n",
    "net.add(Dense(128,batch_input_shape=[None, 1070], activation='tanh',kernel_regularizer=l2(0.01)))\n",
    "net.add(Dense(64,activation='tanh',kernel_regularizer=l2(0.01)))\n",
    "net.add(Dense(1))\n",
    "net.compile(optimizer='rmsprop',loss='mse',metrics=['mae'])\n",
    "#net.fit(=np.array(business_data),y=np.array(stars), )\n",
    "X_test_np=np.array(X_test)\n",
    "X_train_np=np.array(X_train)\n",
    "y_test_np=np.array(y_test)\n",
    "y_train_np=np.array(y_train)\n",
    "results=net.fit(batch_size=10,epochs=100,validation_data=(X_test_np,y_test_np),x=X_train_np,y=y_train_np, callbacks=callback)"
   ]
  },
  {
   "cell_type": "code",
   "execution_count": 26,
   "metadata": {
    "collapsed": false
   },
   "outputs": [
    {
     "name": "stdout",
     "output_type": "stream",
     "text": [
      "0.400775574617\n"
     ]
    }
   ],
   "source": [
    "nn=keras.models.load_model(filepath=\"20170928-122245-54-0.4008.hdf5\")\n",
    "predictions_nn=nn.predict(x=X_test)\n",
    "error_nn=np.abs(np.array(y_test)-predictions_nn.transpose())\n",
    "#predictions_nn=np.clip(predictions_nn,a_max=5,a_min=1)\n",
    "print(np.sum(error_nn)/error_nn.shape[1])"
   ]
  },
  {
   "cell_type": "code",
   "execution_count": 27,
   "metadata": {
    "collapsed": false,
    "scrolled": true
   },
   "outputs": [
    {
     "data": {
      "image/png": "[encoded data removed]",
      "text/plain": [
       "<matplotlib.figure.Figure at 0x99ba5b55c0>"
      ]
     },
     "metadata": {},
     "output_type": "display_data"
    }
   ],
   "source": [
    "sns.distplot(error_nn, label='Neural_Network')\n",
    "\n",
    "plt.legend()\n",
    "plt.xlabel(\"Absolute Error\")\n",
    "plt.ylabel(\"Absolute error probability density\")\n",
    "plt.savefig(\"error_nn_dist.jpg\")"
   ]
  },
  {
   "cell_type": "code",
   "execution_count": 28,
   "metadata": {
    "collapsed": false
   },
   "outputs": [
    {
     "data": {
      "image/png": "[encoded data removed]",
      "text/plain": [
       "<matplotlib.figure.Figure at 0x998d733780>"
      ]
     },
     "metadata": {},
     "output_type": "display_data"
    }
   ],
   "source": [
    "#sns.distplot(error_nn, label='Neural_Network')\n",
    "sns.distplot(error_lr, label=\"Linear_Regression\")\n",
    "#sns.distplot(error_dtree, label=\"Decision Tree\")\n",
    "#sns.distplot(error_random_forest, label= \"Random Forest\")\n",
    "plt.legend()\n",
    "plt.xlabel(\"Absolute Error\")\n",
    "plt.ylabel(\"Absolute error probability density\")\n",
    "plt.savefig(\"error_lr_dist.jpg\")"
   ]
  },
  {
   "cell_type": "code",
   "execution_count": 29,
   "metadata": {
    "collapsed": false
   },
   "outputs": [
    {
     "data": {
      "image/png": "[encoded data removed]",
      "text/plain": [
       "<matplotlib.figure.Figure at 0x99c1428b00>"
      ]
     },
     "metadata": {},
     "output_type": "display_data"
    }
   ],
   "source": [
    "#sns.distplot(error_nn, label='Neural_Network')\n",
    "#sns.distplot(error_lr, label=\"Linear_Regression\")\n",
    "sns.distplot(error_dtree, label=\"Decision Tree\")\n",
    "#sns.distplot(error_random_forest, label= \"Random Forest\")\n",
    "plt.legend()\n",
    "plt.xlabel(\"Absolute Error\")\n",
    "plt.ylabel(\"Absolute error probability density\")\n",
    "plt.savefig(\"error_dtree_dist.jpg\")\n"
   ]
  },
  {
   "cell_type": "code",
   "execution_count": 30,
   "metadata": {
    "collapsed": false
   },
   "outputs": [
    {
     "data": {
      "image/png": "[encoded data removed]",
      "text/plain": [
       "<matplotlib.figure.Figure at 0x99abedaf28>"
      ]
     },
     "metadata": {},
     "output_type": "display_data"
    }
   ],
   "source": [
    "#sns.distplot(error_nn, label='Neural_Network')\n",
    "#sns.distplot(error_lr, label=\"Linear_Regression\")\n",
    "#sns.distplot(error_dtree, label=\"Decision Tree\")\n",
    "sns.distplot(error_random_forest, label= \"Random Forest\")\n",
    "plt.legend()\n",
    "plt.xlabel(\"Absolute Error\")\n",
    "plt.ylabel(\"Absolute error probability density\")\n",
    "plt.savefig(\"error_random_forest_dist.jpg\")"
   ]
  }
 ],
 "metadata": {
  "kernelspec": {
   "display_name": "Python 3",
   "language": "python",
   "name": "python3"
  },
  "language_info": {
   "codemirror_mode": {
    "name": "ipython",
    "version": 3
   },
   "file_extension": ".py",
   "mimetype": "text/x-python",
   "name": "python",
   "nbconvert_exporter": "python",
   "pygments_lexer": "ipython3",
   "version": "3.6.1"
  }
 },
 "nbformat": 4,
 "nbformat_minor": 2
}
