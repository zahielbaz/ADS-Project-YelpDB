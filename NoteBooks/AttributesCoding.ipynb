{
 "cells": [
  {
   "cell_type": "markdown",
   "metadata": {
    "collapsed": true
   },
   "source": [
    "# This notebook make a ones hot vector out of every attribute list"
   ]
  },
  {
   "cell_type": "code",
   "execution_count": null,
   "metadata": {
    "collapsed": true
   },
   "outputs": [],
   "source": [
    "import os\n",
    "import sys\n",
    "import numpy as np\n",
    "import json\n",
    "import matplotlib.pylab as plt\n",
    "import pandas as pd\n",
    "import getpass\n",
    "%matplotlib inline \n",
    "sys.path.append(\"..\") # go to parent dir\n",
    "import unicodecsv as csv\n",
    "from sklearn.decomposition import PCA\n",
    "import math"
   ]
  },
  {
   "cell_type": "markdown",
   "metadata": {},
   "source": [
    "Path Locations"
   ]
  },
  {
   "cell_type": "code",
   "execution_count": 4,
   "metadata": {
    "collapsed": true
   },
   "outputs": [],
   "source": [
    "username = getpass.getuser()\n",
    "if username == 'sdekel':\n",
    "    data_path = 'C:\\DataSets\\yelp_dataset\\processed_data'\n",
    "elif username == 'zahi':\n",
    "    data_path = 'D:\\\\users\\\\zahi\\\\OneDrive - Bar-Ilan University\\\\yelp_dataset_challenge_round9\\\\yelp2'\n",
    "else:\n",
    "    data_path = ''  ## TODO: PUT YOUR DATA PATH HERE"
   ]
  },
  {
   "cell_type": "markdown",
   "metadata": {},
   "source": [
    "Dataset Names"
   ]
  },
  {
   "cell_type": "code",
   "execution_count": 5,
   "metadata": {
    "collapsed": true
   },
   "outputs": [],
   "source": [
    "business_data_name = 'yelp_academic_dataset_business_with_Clustered_location_with_Binary_Categories_with_checkins_clean_restaurants.csv'\n",
    "business_fullpath = os.path.join( data_path, business_data_name )"
   ]
  },
  {
   "cell_type": "markdown",
   "metadata": {},
   "source": [
    "Read DataFrame"
   ]
  },
  {
   "cell_type": "code",
   "execution_count": 6,
   "metadata": {
    "collapsed": true
   },
   "outputs": [],
   "source": [
    "business_data = pd.read_csv(business_fullpath, encoding='latin1')"
   ]
  },
  {
   "cell_type": "markdown",
   "metadata": {},
   "source": [
    "Collect Attributes"
   ]
  },
  {
   "cell_type": "code",
   "execution_count": 7,
   "metadata": {
    "collapsed": true
   },
   "outputs": [],
   "source": [
    "attributes=[]\n",
    "for i in business_data.keys():\n",
    "    if not i.find('attribute'):\n",
    "        attributes.append(i)\n",
    "attributes_data = business_data[attributes]\n"
   ]
  },
  {
   "cell_type": "markdown",
   "metadata": {},
   "source": [
    "Look for non-binary attributes"
   ]
  },
  {
   "cell_type": "code",
   "execution_count": 6,
   "metadata": {},
   "outputs": [
    {
     "name": "stdout",
     "output_type": "stream",
     "text": [
      "[False nan True]\n",
      "[False nan 'False' '18plus' 'allages' '19plus' '21plus']\n",
      "['none' 'False' 'full_bar' nan 'beer_and_wine']\n",
      "[False True nan]\n",
      "[False nan True]\n",
      "[False nan True]\n",
      "[False nan True]\n",
      "[False nan True]\n",
      "[False nan True]\n",
      "[False nan True]\n",
      "[False True nan]\n",
      "[False nan True]\n",
      "[False nan True]\n",
      "['False' 'yes_free' nan 'no' 'yes_corkage']\n",
      "[False True nan]\n",
      "[False nan True]\n",
      "[False True nan]\n",
      "[False True nan]\n",
      "[False nan True]\n",
      "[False nan True]\n",
      "[False nan True]\n",
      "[True False nan]\n",
      "[False nan True]\n",
      "[True False nan]\n",
      "[False True nan]\n",
      "[False True nan]\n",
      "[False True nan]\n",
      "[False True nan]\n",
      "[False nan True]\n",
      "[False nan True]\n",
      "[True False nan]\n",
      "[False nan True]\n",
      "[False nan True]\n",
      "[False nan True]\n",
      "[False nan True]\n",
      "[False nan True]\n",
      "[False nan True]\n",
      "[False nan True]\n",
      "[False nan True]\n",
      "[False nan True]\n",
      "[False nan True]\n",
      "[False True nan]\n",
      "[False nan True]\n",
      "[True False nan]\n",
      "[False True nan]\n",
      "[False True nan]\n",
      "[False nan True]\n",
      "[False True nan]\n",
      "[False True nan]\n",
      "[False True nan]\n",
      "[False nan True]\n",
      "[False nan True]\n",
      "[False nan True]\n",
      "[False nan True]\n",
      "[False nan True]\n",
      "[False nan True]\n",
      "[False nan True]\n",
      "[False nan True]\n",
      "[False True nan]\n",
      "[True False nan]\n",
      "[False nan True]\n",
      "[False nan True]\n",
      "[False nan True]\n",
      "[False nan True]\n",
      "[False nan True]\n",
      "[False nan]\n",
      "[False nan True]\n",
      "['quiet' 'False' 'loud' 'average' nan 'very_loud']\n",
      "[False nan True]\n",
      "[False True nan]\n",
      "['casual' 'False' nan 'dressy' 'formal']\n",
      "[False nan True]\n",
      "[True False nan]\n",
      "[True False nan]\n",
      "['1' 'False' '2' nan '3' '4']\n",
      "[False True nan]\n",
      "[False True nan]\n",
      "[True False nan]\n",
      "['False' 'no' nan 'outdoor' 'yes']\n",
      "[False True nan]\n",
      "['free' 'no' 'False' nan 'paid']\n"
     ]
    }
   ],
   "source": [
    "for att in attributes_data.keys():\n",
    "    l=(attributes_data[att])\n",
    "    print(l.unique())\n",
    "    #print(l.name)"
   ]
  },
  {
   "cell_type": "markdown",
   "metadata": {},
   "source": [
    "Remove NaNs and strings"
   ]
  },
  {
   "cell_type": "code",
   "execution_count": 7,
   "metadata": {
    "collapsed": true
   },
   "outputs": [],
   "source": [
    "attributes_data=attributes_data.replace(math.nan,False)\n",
    "attributes_data=attributes_data.replace('False',False)"
   ]
  },
  {
   "cell_type": "markdown",
   "metadata": {},
   "source": [
    "Break non Binary attributes"
   ]
  },
  {
   "cell_type": "code",
   "execution_count": 8,
   "metadata": {
    "collapsed": true
   },
   "outputs": [],
   "source": [
    "attributes_data['attribute_AgesAllowed_18plus']=attributes_data['attribute_AgesAllowed'].apply(lambda x: x=='18plus')\n",
    "attributes_data['attribute_AgesAllowed_allages']=attributes_data['attribute_AgesAllowed'].apply(lambda x: x=='allages')\n",
    "attributes_data['attribute_AgesAllowed_19plus']=attributes_data['attribute_AgesAllowed'].apply(lambda x: x=='19plus')\n",
    "attributes_data['attribute_AgesAllowed_21plus']=attributes_data['attribute_AgesAllowed'].apply(lambda x: x=='21plus')\n",
    "attributes_data=attributes_data.drop('attribute_AgesAllowed', axis=1)"
   ]
  },
  {
   "cell_type": "code",
   "execution_count": 9,
   "metadata": {
    "collapsed": true
   },
   "outputs": [],
   "source": [
    "attributes_data['attribute_Alcohol_none']=attributes_data['attribute_Alcohol'].apply(lambda x: x=='none')\n",
    "attributes_data['attribute_Alcohol_full_bar']=attributes_data['attribute_Alcohol'].apply(lambda x: x=='full_bar')\n",
    "attributes_data['attribute_Alcohol_beer_and_wine']=attributes_data['attribute_Alcohol'].apply(lambda x: x=='beer_and_wine')\n",
    "attributes_data=attributes_data.drop('attribute_Alcohol', axis=1)"
   ]
  },
  {
   "cell_type": "code",
   "execution_count": 10,
   "metadata": {
    "collapsed": true
   },
   "outputs": [],
   "source": [
    "attributes_data['attribute_BYOBCorkage_yes_free']=attributes_data['attribute_BYOBCorkage'].apply(lambda x: x=='yes_free')\n",
    "attributes_data['attribute_BYOBCorkage_no']=attributes_data['attribute_BYOBCorkage'].apply(lambda x: x=='no')\n",
    "attributes_data['attribute_BYOBCorkage_yes_corkage']=attributes_data['attribute_BYOBCorkage'].apply(lambda x: x=='yes_corkage')\n",
    "attributes_data=attributes_data.drop('attribute_BYOBCorkage', axis=1)"
   ]
  },
  {
   "cell_type": "code",
   "execution_count": 11,
   "metadata": {
    "collapsed": true
   },
   "outputs": [],
   "source": [
    "attributes_data['attribute_WiFi_free']=attributes_data['attribute_WiFi'].apply(lambda x: x=='free')\n",
    "attributes_data['attribute_WiFi_no']=attributes_data['attribute_WiFi'].apply(lambda x: x=='no')\n",
    "attributes_data['attribute_WiFi_paid']=attributes_data['attribute_WiFi'].apply(lambda x: x=='paid')\n",
    "attributes_data=attributes_data.drop('attribute_WiFi', axis=1)"
   ]
  },
  {
   "cell_type": "code",
   "execution_count": 12,
   "metadata": {
    "collapsed": true
   },
   "outputs": [],
   "source": [
    "attributes_data['attribute_Smoking_no']=attributes_data['attribute_Smoking'].apply(lambda x: x=='no')\n",
    "attributes_data['attribute_Smoking_outdoor']=attributes_data['attribute_Smoking'].apply(lambda x: x=='outdoor')\n",
    "attributes_data['attribute_Smoking_yes']=attributes_data['attribute_Smoking'].apply(lambda x: x=='yes')\n",
    "attributes_data=attributes_data.drop('attribute_Smoking', axis=1)"
   ]
  },
  {
   "cell_type": "code",
   "execution_count": 13,
   "metadata": {
    "collapsed": true
   },
   "outputs": [],
   "source": [
    "attributes_data['attribute_RestaurantsPriceRange2_1']=attributes_data['attribute_RestaurantsPriceRange2'].apply(lambda x: x=='1')\n",
    "attributes_data['attribute_RestaurantsPriceRange2_2']=attributes_data['attribute_RestaurantsPriceRange2'].apply(lambda x: x=='2')\n",
    "attributes_data['attribute_RestaurantsPriceRange2_3']=attributes_data['attribute_RestaurantsPriceRange2'].apply(lambda x: x=='3')\n",
    "attributes_data['attribute_RestaurantsPriceRange2_4']=attributes_data['attribute_RestaurantsPriceRange2'].apply(lambda x: x=='4')\n",
    "attributes_data=attributes_data.drop('attribute_RestaurantsPriceRange2', axis=1)"
   ]
  },
  {
   "cell_type": "code",
   "execution_count": 14,
   "metadata": {
    "collapsed": true
   },
   "outputs": [],
   "source": [
    "attributes_data['attribute_RestaurantsAttire_casual']=attributes_data['attribute_RestaurantsAttire'].apply(lambda x: x=='casual')\n",
    "attributes_data['attribute_RestaurantsAttire_dressy']=attributes_data['attribute_RestaurantsAttire'].apply(lambda x: x=='dressy')\n",
    "attributes_data['attribute_RestaurantsAttire_formal']=attributes_data['attribute_RestaurantsAttire'].apply(lambda x: x=='formal')\n",
    "attributes_data=attributes_data.drop('attribute_RestaurantsAttire', axis=1)"
   ]
  },
  {
   "cell_type": "code",
   "execution_count": 15,
   "metadata": {
    "collapsed": true
   },
   "outputs": [],
   "source": [
    "attributes_data['attribute_NoiseLevel_quiet']=attributes_data['attribute_NoiseLevel'].apply(lambda x: x=='quiet')\n",
    "attributes_data['attribute_NoiseLevel_loud']=attributes_data['attribute_NoiseLevel'].apply(lambda x: x=='loud')\n",
    "attributes_data['attribute_NoiseLevel_average']=attributes_data['attribute_NoiseLevel'].apply(lambda x: x=='average')\n",
    "attributes_data['attribute_NoiseLevel_very_loud']=attributes_data['attribute_NoiseLevel'].apply(lambda x: x=='very_loud')\n",
    "attributes_data=attributes_data.drop('attribute_NoiseLevel', axis=1)"
   ]
  },
  {
   "cell_type": "markdown",
   "metadata": {},
   "source": [
    "Concat attributes to main DataFrame"
   ]
  },
  {
   "cell_type": "code",
   "execution_count": 16,
   "metadata": {
    "collapsed": true
   },
   "outputs": [],
   "source": [
    "business_data=business_data.drop(attributes,axis=1)\n",
    "business_data=pd.concat([business_data,attributes_data],axis=1)"
   ]
  },
  {
   "cell_type": "markdown",
   "metadata": {},
   "source": [
    "Optional: Replace nans with 0"
   ]
  },
  {
   "cell_type": "code",
   "execution_count": 17,
   "metadata": {
    "collapsed": true
   },
   "outputs": [],
   "source": [
    "business_data=business_data.replace(math.nan,0)"
   ]
  },
  {
   "cell_type": "markdown",
   "metadata": {},
   "source": [
    "Save to new CSV"
   ]
  },
  {
   "cell_type": "code",
   "execution_count": 19,
   "metadata": {
    "collapsed": true
   },
   "outputs": [],
   "source": [
    "business_data_name_to_save = 'yelp_academic_dataset_business_with_Clustered_location_with_Binary_Categories_andAttributes_with_checkins_clean_restaurants.csv'\n",
    "business_fullpath = os.path.join( data_path, business_data_name_to_save )\n",
    "business_data.to_csv(business_fullpath )"
   ]
  },
  {
   "cell_type": "code",
   "execution_count": null,
   "metadata": {
    "collapsed": true
   },
   "outputs": [],
   "source": []
  }
 ],
 "metadata": {
  "kernelspec": {
   "display_name": "Python 3",
   "language": "python",
   "name": "python3"
  },
  "language_info": {
   "codemirror_mode": {
    "name": "ipython",
    "version": 3
   },
   "file_extension": ".py",
   "mimetype": "text/x-python",
   "name": "python",
   "nbconvert_exporter": "python",
   "pygments_lexer": "ipython3",
   "version": "3.5.3"
  }
 },
 "nbformat": 4,
 "nbformat_minor": 2
}
