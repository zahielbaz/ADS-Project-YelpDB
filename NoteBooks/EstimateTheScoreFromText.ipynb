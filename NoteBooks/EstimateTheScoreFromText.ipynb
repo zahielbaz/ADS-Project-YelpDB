{
 "cells": [
  {
   "cell_type": "markdown",
   "metadata": {},
   "source": [
    "# Sentiment Analysis using NLTK using our dataset reviews from YELP"
   ]
  },
  {
   "cell_type": "code",
   "execution_count": 23,
   "metadata": {},
   "outputs": [],
   "source": [
    "import os\n",
    "import getpass\n",
    "import numpy as np\n",
    "import pandas as pd\n",
    "import seaborn as sb\n",
    "import matplotlib.pylab as plt\n",
    "import json\n",
    "import glob\n",
    "import sys\n",
    "from collections import Counter\n",
    "from datetime import datetime as datetime\n",
    "from sklearn.feature_extraction.text import TfidfVectorizer\n",
    "from sklearn.model_selection import train_test_split\n",
    "from sklearn.svm import LinearSVC\n",
    "import nltk\n",
    "sys.path.append(\"..\") # go to parent dir\n",
    "import Code.basic_sentiment_analysis as sentiment_analysis\n",
    "from tqdm import tqdm\n",
    "%matplotlib inline"
   ]
  },
  {
   "cell_type": "markdown",
   "metadata": {},
   "source": [
    "Path Locations"
   ]
  },
  {
   "cell_type": "code",
   "execution_count": 6,
   "metadata": {},
   "outputs": [],
   "source": [
    "username = getpass.getuser()\n",
    "if username == 'sdekel':\n",
    "    text_data_path = 'C:\\DataSets\\yelp_dataset\\dataset_restaurants'\n",
    "    data_path = 'C:\\DataSets\\yelp_dataset\\processed_data'\n",
    "    dictionary_path = 'C:\\\\Users\\\\sdekel.TA7SHAYDE-L\\\\Dropbox\\\\PythonCourse\\\\Project\\\\Code\\\\dicts'\n",
    "elif username == 'zahi':\n",
    "    text_data_path ='D:\\\\users\\\\zahi\\\\OneDrive - Bar-Ilan University\\\\yelp_dataset_challenge_round9\\\\yelp2'\n",
    "    data_path = 'D:\\\\users\\\\zahi\\\\OneDrive - Bar-Ilan University\\\\yelp_dataset_challenge_round9\\\\yelp2'\n",
    "    dictionary_path = 'C:\\\\Users\\\\zahi\\\\Dropbox\\\\Project\\\\Code\\\\dicts'\n",
    "else:\n",
    "    data_path = ''  ## TODO: PUT YOUR DATA PATH HERE"
   ]
  },
  {
   "cell_type": "markdown",
   "metadata": {},
   "source": [
    "Dataset Names"
   ]
  },
  {
   "cell_type": "code",
   "execution_count": 9,
   "metadata": {},
   "outputs": [],
   "source": [
    "# text_data_name = 'yelp_academic_dataset_review_restaurants.json'\n",
    "text_data_name = 'yelp_academic_dataset_review_restaurants.json'\n",
    "text_data_fullpath = os.path.join( text_data_path, text_data_name )\n",
    "\n",
    "business_data_name = 'yelp_academic_dataset_business_with_Clustered_location_with_Binary_Categories_andAttributes_with_checkins_clean_restaurants.csv'    \n",
    "business_fullpath = os.path.join( data_path, business_data_name )\n",
    "\n",
    "dict_dec_name = 'dec.yml'\n",
    "dict_inc_name = 'inc.yml'\n",
    "dict_inv_name = 'inv.yml'\n",
    "dict_negative_name = 'negative.yml'\n",
    "dict_positive_name = 'positive.yml'\n",
    "\n",
    "dict_dec_name_fullpath = os.path.join( dictionary_path, dict_dec_name )\n",
    "dict_inc_name_fullpath = os.path.join( dictionary_path, dict_inc_name )\n",
    "dict_inv_name_fullpath = os.path.join( dictionary_path, dict_inv_name )\n",
    "dict_negative_name_fullpath = os.path.join( dictionary_path, dict_negative_name )\n",
    "dict_positive_name_fullpath = os.path.join( dictionary_path, dict_positive_name )\n"
   ]
  },
  {
   "cell_type": "code",
   "execution_count": 10,
   "metadata": {},
   "outputs": [],
   "source": [
    "data_review   = pd.read_json(text_data_fullpath, lines=True )\n",
    "business_data = pd.read_csv(business_fullpath, encoding='latin1')"
   ]
  },
  {
   "cell_type": "code",
   "execution_count": 11,
   "metadata": {},
   "outputs": [
    {
     "data": {
      "text/html": [
       "<div>\n",
       "<table border=\"1\" class=\"dataframe\">\n",
       "  <thead>\n",
       "    <tr style=\"text-align: right;\">\n",
       "      <th></th>\n",
       "      <th>business_id</th>\n",
       "      <th>cool</th>\n",
       "      <th>date</th>\n",
       "      <th>funny</th>\n",
       "      <th>review_id</th>\n",
       "      <th>stars</th>\n",
       "      <th>text</th>\n",
       "      <th>type</th>\n",
       "      <th>useful</th>\n",
       "      <th>user_id</th>\n",
       "    </tr>\n",
       "  </thead>\n",
       "  <tbody>\n",
       "    <tr>\n",
       "      <th>0</th>\n",
       "      <td>4P-vTvE6cncJyUyLh73pxw</td>\n",
       "      <td>0</td>\n",
       "      <td>2014-03-29</td>\n",
       "      <td>0</td>\n",
       "      <td>6-hKBi-6RC3g7Mft0c-6qw</td>\n",
       "      <td>4</td>\n",
       "      <td>This place is a area staple! Been around for y...</td>\n",
       "      <td>review</td>\n",
       "      <td>0</td>\n",
       "      <td>PmgqNO0-5Y3e3UoR61TD7w</td>\n",
       "    </tr>\n",
       "    <tr>\n",
       "      <th>1</th>\n",
       "      <td>4P-vTvE6cncJyUyLh73pxw</td>\n",
       "      <td>0</td>\n",
       "      <td>2014-08-14</td>\n",
       "      <td>0</td>\n",
       "      <td>tRd0-mPa9O1TMJp_dw5khQ</td>\n",
       "      <td>4</td>\n",
       "      <td>Got my mojo back after having a few of their a...</td>\n",
       "      <td>review</td>\n",
       "      <td>0</td>\n",
       "      <td>kXUySHSlRgVrcR4Aa0HtGQ</td>\n",
       "    </tr>\n",
       "    <tr>\n",
       "      <th>2</th>\n",
       "      <td>4P-vTvE6cncJyUyLh73pxw</td>\n",
       "      <td>0</td>\n",
       "      <td>2012-10-20</td>\n",
       "      <td>0</td>\n",
       "      <td>8Mu56iQ-MYEyivqUVss0XA</td>\n",
       "      <td>4</td>\n",
       "      <td>Don't go here for the decor, but the staff is ...</td>\n",
       "      <td>review</td>\n",
       "      <td>1</td>\n",
       "      <td>SYKPwRhnlKrW6yTvm7oPWg</td>\n",
       "    </tr>\n",
       "    <tr>\n",
       "      <th>3</th>\n",
       "      <td>4P-vTvE6cncJyUyLh73pxw</td>\n",
       "      <td>1</td>\n",
       "      <td>2012-08-25</td>\n",
       "      <td>0</td>\n",
       "      <td>ToC77cIEiMas9CPU7dt_fA</td>\n",
       "      <td>5</td>\n",
       "      <td>I believe in awarding stars bearing in mind th...</td>\n",
       "      <td>review</td>\n",
       "      <td>2</td>\n",
       "      <td>7LCG3o2KW2jgKgbKN0DQOg</td>\n",
       "    </tr>\n",
       "    <tr>\n",
       "      <th>4</th>\n",
       "      <td>4P-vTvE6cncJyUyLh73pxw</td>\n",
       "      <td>0</td>\n",
       "      <td>2015-07-27</td>\n",
       "      <td>0</td>\n",
       "      <td>6YC4o9yLc25DK8c6soOlaw</td>\n",
       "      <td>4</td>\n",
       "      <td>If you like fried food and laid back, then thi...</td>\n",
       "      <td>review</td>\n",
       "      <td>0</td>\n",
       "      <td>iSdSNh1hjdE33LOwrFnFrg</td>\n",
       "    </tr>\n",
       "  </tbody>\n",
       "</table>\n",
       "</div>"
      ],
      "text/plain": [
       "              business_id  cool       date  funny               review_id  \\\n",
       "0  4P-vTvE6cncJyUyLh73pxw     0 2014-03-29      0  6-hKBi-6RC3g7Mft0c-6qw   \n",
       "1  4P-vTvE6cncJyUyLh73pxw     0 2014-08-14      0  tRd0-mPa9O1TMJp_dw5khQ   \n",
       "2  4P-vTvE6cncJyUyLh73pxw     0 2012-10-20      0  8Mu56iQ-MYEyivqUVss0XA   \n",
       "3  4P-vTvE6cncJyUyLh73pxw     1 2012-08-25      0  ToC77cIEiMas9CPU7dt_fA   \n",
       "4  4P-vTvE6cncJyUyLh73pxw     0 2015-07-27      0  6YC4o9yLc25DK8c6soOlaw   \n",
       "\n",
       "   stars                                               text    type  useful  \\\n",
       "0      4  This place is a area staple! Been around for y...  review       0   \n",
       "1      4  Got my mojo back after having a few of their a...  review       0   \n",
       "2      4  Don't go here for the decor, but the staff is ...  review       1   \n",
       "3      5  I believe in awarding stars bearing in mind th...  review       2   \n",
       "4      4  If you like fried food and laid back, then thi...  review       0   \n",
       "\n",
       "                  user_id  \n",
       "0  PmgqNO0-5Y3e3UoR61TD7w  \n",
       "1  kXUySHSlRgVrcR4Aa0HtGQ  \n",
       "2  SYKPwRhnlKrW6yTvm7oPWg  \n",
       "3  7LCG3o2KW2jgKgbKN0DQOg  \n",
       "4  iSdSNh1hjdE33LOwrFnFrg  "
      ]
     },
     "execution_count": 11,
     "metadata": {},
     "output_type": "execute_result"
    }
   ],
   "source": [
    "data_review.head()"
   ]
  },
  {
   "cell_type": "code",
   "execution_count": 12,
   "metadata": {},
   "outputs": [
    {
     "data": {
      "text/html": [
       "<div>\n",
       "<table border=\"1\" class=\"dataframe\">\n",
       "  <thead>\n",
       "    <tr style=\"text-align: right;\">\n",
       "      <th></th>\n",
       "      <th>Unnamed: 0</th>\n",
       "      <th>Unnamed: 0.1</th>\n",
       "      <th>Unnamed: 0.1.1</th>\n",
       "      <th>business_id</th>\n",
       "      <th>hours_Friday</th>\n",
       "      <th>hours_Monday</th>\n",
       "      <th>hours_Saturday</th>\n",
       "      <th>hours_Sunday</th>\n",
       "      <th>hours_Thursday</th>\n",
       "      <th>hours_Tuesday</th>\n",
       "      <th>...</th>\n",
       "      <th>attribute_RestaurantsPriceRange2_2</th>\n",
       "      <th>attribute_RestaurantsPriceRange2_3</th>\n",
       "      <th>attribute_RestaurantsPriceRange2_4</th>\n",
       "      <th>attribute_RestaurantsAttire_casual</th>\n",
       "      <th>attribute_RestaurantsAttire_dressy</th>\n",
       "      <th>attribute_RestaurantsAttire_formal</th>\n",
       "      <th>attribute_NoiseLevel_quiet</th>\n",
       "      <th>attribute_NoiseLevel_loud</th>\n",
       "      <th>attribute_NoiseLevel_average</th>\n",
       "      <th>attribute_NoiseLevel_very_loud</th>\n",
       "    </tr>\n",
       "  </thead>\n",
       "  <tbody>\n",
       "    <tr>\n",
       "      <th>0</th>\n",
       "      <td>0</td>\n",
       "      <td>0</td>\n",
       "      <td>0</td>\n",
       "      <td>EDqCEAGXVGCH4FJXgqtjqg</td>\n",
       "      <td>16.0</td>\n",
       "      <td>15.0</td>\n",
       "      <td>16.0</td>\n",
       "      <td>15.0</td>\n",
       "      <td>16.0</td>\n",
       "      <td>15.0</td>\n",
       "      <td>...</td>\n",
       "      <td>False</td>\n",
       "      <td>False</td>\n",
       "      <td>False</td>\n",
       "      <td>True</td>\n",
       "      <td>False</td>\n",
       "      <td>False</td>\n",
       "      <td>True</td>\n",
       "      <td>False</td>\n",
       "      <td>False</td>\n",
       "      <td>False</td>\n",
       "    </tr>\n",
       "    <tr>\n",
       "      <th>1</th>\n",
       "      <td>1</td>\n",
       "      <td>1</td>\n",
       "      <td>1</td>\n",
       "      <td>GDnbt3isfhd57T1QqU6flg</td>\n",
       "      <td>12.0</td>\n",
       "      <td>12.0</td>\n",
       "      <td>12.0</td>\n",
       "      <td>12.0</td>\n",
       "      <td>12.0</td>\n",
       "      <td>12.0</td>\n",
       "      <td>...</td>\n",
       "      <td>False</td>\n",
       "      <td>False</td>\n",
       "      <td>False</td>\n",
       "      <td>True</td>\n",
       "      <td>False</td>\n",
       "      <td>False</td>\n",
       "      <td>True</td>\n",
       "      <td>False</td>\n",
       "      <td>False</td>\n",
       "      <td>False</td>\n",
       "    </tr>\n",
       "    <tr>\n",
       "      <th>2</th>\n",
       "      <td>2</td>\n",
       "      <td>2</td>\n",
       "      <td>2</td>\n",
       "      <td>42romV8altAeuZuP2OC1gw</td>\n",
       "      <td>10.5</td>\n",
       "      <td>10.5</td>\n",
       "      <td>10.5</td>\n",
       "      <td>9.5</td>\n",
       "      <td>10.5</td>\n",
       "      <td>10.5</td>\n",
       "      <td>...</td>\n",
       "      <td>False</td>\n",
       "      <td>False</td>\n",
       "      <td>False</td>\n",
       "      <td>True</td>\n",
       "      <td>False</td>\n",
       "      <td>False</td>\n",
       "      <td>True</td>\n",
       "      <td>False</td>\n",
       "      <td>False</td>\n",
       "      <td>False</td>\n",
       "    </tr>\n",
       "    <tr>\n",
       "      <th>3</th>\n",
       "      <td>3</td>\n",
       "      <td>3</td>\n",
       "      <td>3</td>\n",
       "      <td>DNyYOxVAfu0oUcPNL1ljCQ</td>\n",
       "      <td>0.0</td>\n",
       "      <td>0.0</td>\n",
       "      <td>0.0</td>\n",
       "      <td>0.0</td>\n",
       "      <td>0.0</td>\n",
       "      <td>0.0</td>\n",
       "      <td>...</td>\n",
       "      <td>False</td>\n",
       "      <td>False</td>\n",
       "      <td>False</td>\n",
       "      <td>True</td>\n",
       "      <td>False</td>\n",
       "      <td>False</td>\n",
       "      <td>False</td>\n",
       "      <td>False</td>\n",
       "      <td>False</td>\n",
       "      <td>False</td>\n",
       "    </tr>\n",
       "    <tr>\n",
       "      <th>4</th>\n",
       "      <td>4</td>\n",
       "      <td>4</td>\n",
       "      <td>4</td>\n",
       "      <td>a1Ba6XeIOP48e64YFD0dMw</td>\n",
       "      <td>10.5</td>\n",
       "      <td>10.5</td>\n",
       "      <td>0.0</td>\n",
       "      <td>0.0</td>\n",
       "      <td>10.5</td>\n",
       "      <td>10.5</td>\n",
       "      <td>...</td>\n",
       "      <td>False</td>\n",
       "      <td>False</td>\n",
       "      <td>False</td>\n",
       "      <td>False</td>\n",
       "      <td>False</td>\n",
       "      <td>False</td>\n",
       "      <td>False</td>\n",
       "      <td>False</td>\n",
       "      <td>False</td>\n",
       "      <td>False</td>\n",
       "    </tr>\n",
       "  </tbody>\n",
       "</table>\n",
       "<p>5 rows × 1075 columns</p>\n",
       "</div>"
      ],
      "text/plain": [
       "   Unnamed: 0  Unnamed: 0.1  Unnamed: 0.1.1             business_id  \\\n",
       "0           0             0               0  EDqCEAGXVGCH4FJXgqtjqg   \n",
       "1           1             1               1  GDnbt3isfhd57T1QqU6flg   \n",
       "2           2             2               2  42romV8altAeuZuP2OC1gw   \n",
       "3           3             3               3  DNyYOxVAfu0oUcPNL1ljCQ   \n",
       "4           4             4               4  a1Ba6XeIOP48e64YFD0dMw   \n",
       "\n",
       "   hours_Friday  hours_Monday  hours_Saturday  hours_Sunday  hours_Thursday  \\\n",
       "0          16.0          15.0            16.0          15.0            16.0   \n",
       "1          12.0          12.0            12.0          12.0            12.0   \n",
       "2          10.5          10.5            10.5           9.5            10.5   \n",
       "3           0.0           0.0             0.0           0.0             0.0   \n",
       "4          10.5          10.5             0.0           0.0            10.5   \n",
       "\n",
       "   hours_Tuesday               ...                \\\n",
       "0           15.0               ...                 \n",
       "1           12.0               ...                 \n",
       "2           10.5               ...                 \n",
       "3            0.0               ...                 \n",
       "4           10.5               ...                 \n",
       "\n",
       "   attribute_RestaurantsPriceRange2_2  attribute_RestaurantsPriceRange2_3  \\\n",
       "0                               False                               False   \n",
       "1                               False                               False   \n",
       "2                               False                               False   \n",
       "3                               False                               False   \n",
       "4                               False                               False   \n",
       "\n",
       "  attribute_RestaurantsPriceRange2_4  attribute_RestaurantsAttire_casual  \\\n",
       "0                              False                                True   \n",
       "1                              False                                True   \n",
       "2                              False                                True   \n",
       "3                              False                                True   \n",
       "4                              False                               False   \n",
       "\n",
       "   attribute_RestaurantsAttire_dressy  attribute_RestaurantsAttire_formal  \\\n",
       "0                               False                               False   \n",
       "1                               False                               False   \n",
       "2                               False                               False   \n",
       "3                               False                               False   \n",
       "4                               False                               False   \n",
       "\n",
       "   attribute_NoiseLevel_quiet  attribute_NoiseLevel_loud  \\\n",
       "0                        True                      False   \n",
       "1                        True                      False   \n",
       "2                        True                      False   \n",
       "3                       False                      False   \n",
       "4                       False                      False   \n",
       "\n",
       "   attribute_NoiseLevel_average  attribute_NoiseLevel_very_loud  \n",
       "0                         False                           False  \n",
       "1                         False                           False  \n",
       "2                         False                           False  \n",
       "3                         False                           False  \n",
       "4                         False                           False  \n",
       "\n",
       "[5 rows x 1075 columns]"
      ]
     },
     "execution_count": 12,
     "metadata": {},
     "output_type": "execute_result"
    }
   ],
   "source": [
    "business_data.head()"
   ]
  },
  {
   "cell_type": "code",
   "execution_count": 13,
   "metadata": {
    "collapsed": true
   },
   "outputs": [],
   "source": [
    "texts       = data_review['text']\n",
    "business_id = business_data['business_id']"
   ]
  },
  {
   "cell_type": "code",
   "execution_count": 15,
   "metadata": {},
   "outputs": [],
   "source": [
    "splitter = sentiment_analysis.Splitter()\n",
    "postagger = sentiment_analysis.POSTagger()\n",
    "dicttagger = sentiment_analysis.DictionaryTagger([ dict_positive_name_fullpath, dict_negative_name_fullpath,\n",
    "                                                   dict_inc_name_fullpath     , dict_dec_name_fullpath      ,\n",
    "                                                   dict_inv_name_fullpath ])                            "
   ]
  },
  {
   "cell_type": "markdown",
   "metadata": {},
   "source": [
    "Check one exmaple"
   ]
  },
  {
   "cell_type": "code",
   "execution_count": 16,
   "metadata": {},
   "outputs": [
    {
     "name": "stdout",
     "output_type": "stream",
     "text": [
      "I was not impressed with how gross this place is - I wasn't sure I wanted to order anything. The food was not outstanding. I think I would go across the street to the Tavern!!\n",
      "-3.0\n"
     ]
    }
   ],
   "source": [
    "ind = 6\n",
    "splitted_sentences = splitter.split(texts[ind])\n",
    "pos_tagged_sentences = postagger.pos_tag(splitted_sentences)\n",
    "dict_tagged_sentences = dicttagger.tag(pos_tagged_sentences)\n",
    "score = sentiment_analysis.sentiment_score(dict_tagged_sentences)\n",
    "print(texts[ind])\n",
    "print(score)"
   ]
  },
  {
   "cell_type": "markdown",
   "metadata": {
    "collapsed": true
   },
   "source": [
    "Run on the whole dataset"
   ]
  },
  {
   "cell_type": "code",
   "execution_count": 17,
   "metadata": {},
   "outputs": [
    {
     "name": "stdout",
     "output_type": "stream",
     "text": [
      "DNyYOxVAfu0oUcPNL1ljCQ\n"
     ]
    }
   ],
   "source": [
    "ind =3;\n",
    "business_id_name =  business_id[ind]\n",
    "# business_name = data_review['business_id'][0] \n",
    "\n",
    "print(business_id_name)\n",
    "item_text = data_review[data_review['business_id'] == business_id_name ]"
   ]
  },
  {
   "cell_type": "code",
   "execution_count": 18,
   "metadata": {},
   "outputs": [
    {
     "name": "stdout",
     "output_type": "stream",
     "text": [
      "7\n"
     ]
    }
   ],
   "source": [
    "print(len(item_text.values))"
   ]
  },
  {
   "cell_type": "code",
   "execution_count": 19,
   "metadata": {},
   "outputs": [
    {
     "name": "stderr",
     "output_type": "stream",
     "text": [
      "c:\\users\\zahi\\appdata\\local\\programs\\python\\python35\\lib\\site-packages\\ipykernel_launcher.py:21: SettingWithCopyWarning: \n",
      "A value is trying to be set on a copy of a slice from a DataFrame\n",
      "\n",
      "See the caveats in the documentation: http://pandas.pydata.org/pandas-docs/stable/indexing.html#indexing-view-versus-copy\n",
      "c:\\users\\zahi\\appdata\\local\\programs\\python\\python35\\lib\\site-packages\\pandas\\core\\indexing.py:141: SettingWithCopyWarning: \n",
      "A value is trying to be set on a copy of a slice from a DataFrame\n",
      "\n",
      "See the caveats in the documentation: http://pandas.pydata.org/pandas-docs/stable/indexing.html#indexing-view-versus-copy\n",
      "  self._setitem_with_indexer(indexer, value)\n"
     ]
    }
   ],
   "source": [
    "# BusinessScore_df = pd.DataFrame( columns=['business_id', 'Score'] )\n",
    "# BusinessScore_df = pd.DataFrame()\n",
    "\n",
    "# BusinessScore_df = business_data[['business_id']]\n",
    "# BusinessScore_df[['Score']] = []\n",
    "sLength = len(business_id )\n",
    "# business_data['Scores'] = pd.Series(np.zeros(sLength) )\n",
    "business_id_name =  business_id[3]\n",
    "BusinessScore_df = pd.DataFrame(  np.zeros((sLength,2)), columns=['business_id', 'Scores'])\n",
    "# df3 = pd.DataFrame(np.random.randn(sLength, 2),columns=['a', 'b'])\n",
    "BusinessScore_df['business_id'][3]= business_id_name\n",
    "item_text = data_review[data_review['business_id'] == business_id_name ]\n",
    "texts = item_text['text']\n",
    "score = []\n",
    "for text_item in texts:\n",
    "     splitted_sentences = splitter.split(text_item)\n",
    "     pos_tagged_sentences = postagger.pos_tag(splitted_sentences)\n",
    "     dict_tagged_sentences = dicttagger.tag(pos_tagged_sentences)\n",
    "     score.append(sentiment_analysis.sentiment_score(dict_tagged_sentences))\n",
    "    \n",
    "BusinessScore_df['Scores'][3] = str(score)\n",
    "        \n",
    "        "
   ]
  },
  {
   "cell_type": "code",
   "execution_count": 30,
   "metadata": {
    "scrolled": true
   },
   "outputs": [
    {
     "name": "stderr",
     "output_type": "stream",
     "text": [
      "  0%|                                                                                                    | 0/46417 [00:00<?, ?it/s]c:\\users\\zahi\\appdata\\local\\programs\\python\\python35\\lib\\site-packages\\ipykernel_launcher.py:14: SettingWithCopyWarning: \n",
      "A value is trying to be set on a copy of a slice from a DataFrame\n",
      "\n",
      "See the caveats in the documentation: http://pandas.pydata.org/pandas-docs/stable/indexing.html#indexing-view-versus-copy\n",
      "  \n",
      "c:\\users\\zahi\\appdata\\local\\programs\\python\\python35\\lib\\site-packages\\pandas\\core\\indexing.py:141: SettingWithCopyWarning: \n",
      "A value is trying to be set on a copy of a slice from a DataFrame\n",
      "\n",
      "See the caveats in the documentation: http://pandas.pydata.org/pandas-docs/stable/indexing.html#indexing-view-versus-copy\n",
      "  self._setitem_with_indexer(indexer, value)\n",
      "100%|█████████████████████████████████████████████████████████████████████████████████████| 46417/46417 [38:26:11<00:00,  3.21s/it]\n"
     ]
    }
   ],
   "source": [
    "index = 0;\n",
    "BusinessScore_df = pd.DataFrame(  np.zeros((sLength,2)), columns=['business_id', 'Scores'])\n",
    "for business_id_name in tqdm(business_id):\n",
    "    BusinessScore_df['business_id'][index] = business_id_name\n",
    "    item_text = data_review[data_review['business_id'] == business_id_name ]\n",
    "    texts = item_text['text']\n",
    "    score = []\n",
    "    for text_item in texts:\n",
    "        splitted_sentences = splitter.split(text_item)\n",
    "        pos_tagged_sentences = postagger.pos_tag(splitted_sentences)\n",
    "        dict_tagged_sentences = dicttagger.tag(pos_tagged_sentences)\n",
    "        score.append(sentiment_analysis.sentiment_score(dict_tagged_sentences))\n",
    "        \n",
    "    BusinessScore_df['Scores'][index] = str(score)\n",
    "    index = index + 1\n",
    "\n",
    "BusinessScore_df.to_csv(\"BusinessScore_df.csv\")\n",
    "    \n",
    "        \n"
   ]
  },
  {
   "cell_type": "code",
   "execution_count": 96,
   "metadata": {},
   "outputs": [
    {
     "data": {
      "text/html": [
       "<div>\n",
       "<table border=\"1\" class=\"dataframe\">\n",
       "  <thead>\n",
       "    <tr style=\"text-align: right;\">\n",
       "      <th></th>\n",
       "      <th>business_id</th>\n",
       "      <th>Scores</th>\n",
       "      <th>Scores1</th>\n",
       "      <th>Scores2</th>\n",
       "      <th>ScoresAvg</th>\n",
       "    </tr>\n",
       "  </thead>\n",
       "  <tbody>\n",
       "    <tr>\n",
       "      <th>0</th>\n",
       "      <td>EDqCEAGXVGCH4FJXgqtjqg</td>\n",
       "      <td>[-1.0, 10.0, -1.0, 1.0, 0.0, 1.5, 3.0]</td>\n",
       "      <td>[-1.0, 10.0, -1.0, 1.0, 0.0, 1.5, 3.0]</td>\n",
       "      <td>[-1.0, 10.0, -1.0, 1.0, 0.0, 1.5, 3.0]</td>\n",
       "      <td>1.928571</td>\n",
       "    </tr>\n",
       "    <tr>\n",
       "      <th>1</th>\n",
       "      <td>GDnbt3isfhd57T1QqU6flg</td>\n",
       "      <td>[10.0, 0.0, 0.0, -3.0, -5.0, 4.0, 4.0, 5.0, 6.0]</td>\n",
       "      <td>[10.0, 0.0, 0.0, -3.0, -5.0, 4.0, 4.0, 5.0, 6.0]</td>\n",
       "      <td>[10.0, 0.0, 0.0, -3.0, -5.0, 4.0, 4.0, 5.0, 6.0]</td>\n",
       "      <td>2.333333</td>\n",
       "    </tr>\n",
       "    <tr>\n",
       "      <th>2</th>\n",
       "      <td>42romV8altAeuZuP2OC1gw</td>\n",
       "      <td>[1.0, 1.0, 5.0, -1.0, 3.0, 6.0, -3.0, 16.0, 5....</td>\n",
       "      <td>[1.0, 1.0, 5.0, -1.0, 3.0, 6.0, -3.0, 16.0, 5....</td>\n",
       "      <td>[1.0, 1.0, 5.0, -1.0, 3.0, 6.0, -3.0, 16.0, 5....</td>\n",
       "      <td>4.078947</td>\n",
       "    </tr>\n",
       "    <tr>\n",
       "      <th>3</th>\n",
       "      <td>DNyYOxVAfu0oUcPNL1ljCQ</td>\n",
       "      <td>[1.0, 1.0, 2.0, 0.0, 1.0, -1.0, -1.0]</td>\n",
       "      <td>[1.0, 1.0, 2.0, 0.0, 1.0, -1.0, -1.0]</td>\n",
       "      <td>[1.0, 1.0, 2.0, 0.0, 1.0, -1.0, -1.0]</td>\n",
       "      <td>0.428571</td>\n",
       "    </tr>\n",
       "    <tr>\n",
       "      <th>4</th>\n",
       "      <td>a1Ba6XeIOP48e64YFD0dMw</td>\n",
       "      <td>[5.0, 2.0, 9.0]</td>\n",
       "      <td>[5.0, 2.0, 9.0]</td>\n",
       "      <td>[5.0, 2.0, 9.0]</td>\n",
       "      <td>5.333333</td>\n",
       "    </tr>\n",
       "  </tbody>\n",
       "</table>\n",
       "</div>"
      ],
      "text/plain": [
       "              business_id                                             Scores  \\\n",
       "0  EDqCEAGXVGCH4FJXgqtjqg             [-1.0, 10.0, -1.0, 1.0, 0.0, 1.5, 3.0]   \n",
       "1  GDnbt3isfhd57T1QqU6flg   [10.0, 0.0, 0.0, -3.0, -5.0, 4.0, 4.0, 5.0, 6.0]   \n",
       "2  42romV8altAeuZuP2OC1gw  [1.0, 1.0, 5.0, -1.0, 3.0, 6.0, -3.0, 16.0, 5....   \n",
       "3  DNyYOxVAfu0oUcPNL1ljCQ              [1.0, 1.0, 2.0, 0.0, 1.0, -1.0, -1.0]   \n",
       "4  a1Ba6XeIOP48e64YFD0dMw                                    [5.0, 2.0, 9.0]   \n",
       "\n",
       "                                             Scores1  \\\n",
       "0             [-1.0, 10.0, -1.0, 1.0, 0.0, 1.5, 3.0]   \n",
       "1   [10.0, 0.0, 0.0, -3.0, -5.0, 4.0, 4.0, 5.0, 6.0]   \n",
       "2  [1.0, 1.0, 5.0, -1.0, 3.0, 6.0, -3.0, 16.0, 5....   \n",
       "3              [1.0, 1.0, 2.0, 0.0, 1.0, -1.0, -1.0]   \n",
       "4                                    [5.0, 2.0, 9.0]   \n",
       "\n",
       "                                             Scores2  ScoresAvg  \n",
       "0             [-1.0, 10.0, -1.0, 1.0, 0.0, 1.5, 3.0]   1.928571  \n",
       "1   [10.0, 0.0, 0.0, -3.0, -5.0, 4.0, 4.0, 5.0, 6.0]   2.333333  \n",
       "2  [1.0, 1.0, 5.0, -1.0, 3.0, 6.0, -3.0, 16.0, 5....   4.078947  \n",
       "3              [1.0, 1.0, 2.0, 0.0, 1.0, -1.0, -1.0]   0.428571  \n",
       "4                                    [5.0, 2.0, 9.0]   5.333333  "
      ]
     },
     "execution_count": 96,
     "metadata": {},
     "output_type": "execute_result"
    }
   ],
   "source": [
    "BusinessScore_df['Scores1']=BusinessScore_df['Scores'].apply(lambda x: x[1:-1].split(\", \"))\n",
    "BusinessScore_df['Scores2']=BusinessScore_df['Scores1'].apply(lambda x:[float(item) for item in x] )\n",
    "BusinessScore_df['ScoresAvg']=BusinessScore_df['Scores2'].apply(lambda x:sum(x)/len(x))\n",
    "BusinessScore_df.head()"
   ]
  },
  {
   "cell_type": "code",
   "execution_count": 89,
   "metadata": {},
   "outputs": [],
   "source": [
    "business_data_and_scores=pd.concat([business_data,BusinessScore_df[['ScoresAvg']]], axis=1)"
   ]
  },
  {
   "cell_type": "code",
   "execution_count": 90,
   "metadata": {
    "collapsed": true
   },
   "outputs": [],
   "source": [
    "business_data_name_to_save = 'yelp_academic_dataset_business_with_Clustered_location_with_Binary_Categories_andAttributes_with_checkins_reviewsScore_clean_restaurants.csv'\n",
    "business_fullpath = os.path.join( data_path, business_data_name_to_save )\n",
    "business_data_and_scores.to_csv(business_fullpath )"
   ]
  }
 ],
 "metadata": {
  "kernelspec": {
   "display_name": "Python 3",
   "language": "python",
   "name": "python3"
  },
  "language_info": {
   "codemirror_mode": {
    "name": "ipython",
    "version": 3
   },
   "file_extension": ".py",
   "mimetype": "text/x-python",
   "name": "python",
   "nbconvert_exporter": "python",
   "pygments_lexer": "ipython3",
   "version": "3.5.3"
  }
 },
 "nbformat": 4,
 "nbformat_minor": 2
}
