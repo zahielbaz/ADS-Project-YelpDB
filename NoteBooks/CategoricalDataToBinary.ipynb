{
 "cells": [
  {
   "cell_type": "markdown",
   "metadata": {},
   "source": [
    "## This file converts the catgorized data to a new binary columns "
   ]
  },
  {
   "cell_type": "code",
   "execution_count": 1,
   "metadata": {
    "collapsed": true
   },
   "outputs": [],
   "source": [
    "import os\n",
    "import sys\n",
    "import numpy as np\n",
    "import json\n",
    "import matplotlib.pylab as plt\n",
    "import pandas as pd\n",
    "import getpass\n",
    "%matplotlib inline \n",
    "sys.path.append(\"..\") # go to parent dir\n",
    "import Code.DataReviewFunctions as DataReviewUtils\n",
    "import Code.DataCollect as DataCollectUtils\n",
    "from __future__ import print_function\n",
    "from tqdm import tqdm\n",
    "import unicodecsv as csv\n",
    "import random"
   ]
  },
  {
   "cell_type": "markdown",
   "metadata": {},
   "source": [
    "Path Locations"
   ]
  },
  {
   "cell_type": "code",
   "execution_count": 19,
   "metadata": {
    "collapsed": true
   },
   "outputs": [],
   "source": [
    "username = getpass.getuser()\n",
    "if username == 'sdekel':\n",
    "    data_path = 'C:\\DataSets\\yelp_dataset\\processed_data'\n",
    "elif username == 'zahi':\n",
    "    data_path = 'D:\\\\users\\\\zahi\\\\OneDrive - Bar-Ilan University\\\\yelp_dataset_challenge_round9\\\\yelp2'\n",
    "else:\n",
    "    data_path = ''  ## TODO: PUT YOUR DATA PATH HERE"
   ]
  },
  {
   "cell_type": "markdown",
   "metadata": {},
   "source": [
    "Dataset Names"
   ]
  },
  {
   "cell_type": "code",
   "execution_count": 20,
   "metadata": {
    "collapsed": true
   },
   "outputs": [],
   "source": [
    "business_data_name = 'yelp_academic_dataset_business_with_Clustered_location_restaurants.csv'\n",
    "business_fullpath = os.path.join( data_path, business_data_name )"
   ]
  },
  {
   "cell_type": "markdown",
   "metadata": {},
   "source": [
    "Read DataFrame"
   ]
  },
  {
   "cell_type": "code",
   "execution_count": 21,
   "metadata": {
    "collapsed": true
   },
   "outputs": [],
   "source": [
    "business_data = pd.read_csv(business_fullpath, encoding='latin1')"
   ]
  },
  {
   "cell_type": "code",
   "execution_count": 22,
   "metadata": {},
   "outputs": [
    {
     "data": {
      "text/plain": [
       "117"
      ]
     },
     "execution_count": 22,
     "metadata": {},
     "output_type": "execute_result"
    }
   ],
   "source": [
    "len(business_data.columns)"
   ]
  },
  {
   "cell_type": "code",
   "execution_count": 23,
   "metadata": {
    "collapsed": true
   },
   "outputs": [],
   "source": [
    "load_json = False\n",
    "if load_json:\n",
    "    business_data_name = 'yelp_academic_dataset_business_with_Clustered_location.json'\n",
    "    business_fullpath = os.path.join( data_path, business_data_name )\n",
    "    business_data = pd.read_json(business_fullpath, encoding='latin1', lines=True)"
   ]
  },
  {
   "cell_type": "code",
   "execution_count": 24,
   "metadata": {
    "collapsed": true
   },
   "outputs": [],
   "source": [
    "# pd.get_dummies(  business_data['categories'])  ### A METHOD THAT WORKS BUT IN THIS CASE DOESN\"T SINCE WE HAVE MULTIPULE CATEGORIES PER BUSINESS"
   ]
  },
  {
   "cell_type": "code",
   "execution_count": 25,
   "metadata": {},
   "outputs": [
    {
     "data": {
      "text/plain": [
       "48485"
      ]
     },
     "execution_count": 25,
     "metadata": {},
     "output_type": "execute_result"
    }
   ],
   "source": [
    "categories_list = business_data['categories'].values.tolist()\n",
    "len(categories_list)"
   ]
  },
  {
   "cell_type": "code",
   "execution_count": 26,
   "metadata": {},
   "outputs": [
    {
     "name": "stdout",
     "output_type": "stream",
     "text": [
      "Calculating all categories represented in the data...\n"
     ]
    }
   ],
   "source": [
    "print(\"Calculating all categories represented in the data...\")\n",
    "all_categories = []\n",
    "for ind,item in enumerate(categories_list):\n",
    "       if not pd.isnull(categories_list[ind]):\n",
    "           all_categories.append( categories_list[ind].split(',') )\n",
    "        \n",
    "flattened_all_categories = [ val for sublist in all_categories for val in sublist ]\n",
    "flattened_all_categories_set = set(flattened_all_categories)"
   ]
  },
  {
   "cell_type": "code",
   "execution_count": 27,
   "metadata": {},
   "outputs": [
    {
     "data": {
      "text/plain": [
       "776"
      ]
     },
     "execution_count": 27,
     "metadata": {},
     "output_type": "execute_result"
    }
   ],
   "source": [
    "len(set(flattened_all_categories))"
   ]
  },
  {
   "cell_type": "code",
   "execution_count": 28,
   "metadata": {
    "collapsed": true
   },
   "outputs": [],
   "source": [
    "binary_categories_data = pd.get_dummies(flattened_all_categories)"
   ]
  },
  {
   "cell_type": "code",
   "execution_count": 29,
   "metadata": {},
   "outputs": [
    {
     "data": {
      "text/html": [
       "<div>\n",
       "<table border=\"1\" class=\"dataframe\">\n",
       "  <thead>\n",
       "    <tr style=\"text-align: right;\">\n",
       "      <th></th>\n",
       "      <th>African</th>\n",
       "      <th>Air Duct Cleaning</th>\n",
       "      <th>Aircraft Repairs</th>\n",
       "      <th>Airports</th>\n",
       "      <th>Airsoft</th>\n",
       "      <th>Amateur Sports Teams</th>\n",
       "      <th>American (New)</th>\n",
       "      <th>American (Traditional)</th>\n",
       "      <th>Amusement Parks</th>\n",
       "      <th>Animal Shelters</th>\n",
       "      <th>...</th>\n",
       "      <th>Peruvian</th>\n",
       "      <th>Pet Boarding/Pet Sitting</th>\n",
       "      <th>Pet Stores</th>\n",
       "      <th>Pets</th>\n",
       "      <th>Pita</th>\n",
       "      <th>Pizza</th>\n",
       "      <th>Polish</th>\n",
       "      <th>Portuguese</th>\n",
       "      <th>Poutineries</th>\n",
       "      <th>Restaurants</th>\n",
       "    </tr>\n",
       "  </thead>\n",
       "  <tbody>\n",
       "    <tr>\n",
       "      <th>0</th>\n",
       "      <td>0</td>\n",
       "      <td>0</td>\n",
       "      <td>0</td>\n",
       "      <td>0</td>\n",
       "      <td>0</td>\n",
       "      <td>0</td>\n",
       "      <td>0</td>\n",
       "      <td>0</td>\n",
       "      <td>0</td>\n",
       "      <td>0</td>\n",
       "      <td>...</td>\n",
       "      <td>0</td>\n",
       "      <td>0</td>\n",
       "      <td>0</td>\n",
       "      <td>0</td>\n",
       "      <td>0</td>\n",
       "      <td>0</td>\n",
       "      <td>0</td>\n",
       "      <td>0</td>\n",
       "      <td>0</td>\n",
       "      <td>0</td>\n",
       "    </tr>\n",
       "    <tr>\n",
       "      <th>1</th>\n",
       "      <td>0</td>\n",
       "      <td>0</td>\n",
       "      <td>0</td>\n",
       "      <td>0</td>\n",
       "      <td>0</td>\n",
       "      <td>0</td>\n",
       "      <td>0</td>\n",
       "      <td>0</td>\n",
       "      <td>0</td>\n",
       "      <td>0</td>\n",
       "      <td>...</td>\n",
       "      <td>0</td>\n",
       "      <td>0</td>\n",
       "      <td>0</td>\n",
       "      <td>0</td>\n",
       "      <td>0</td>\n",
       "      <td>0</td>\n",
       "      <td>0</td>\n",
       "      <td>0</td>\n",
       "      <td>0</td>\n",
       "      <td>0</td>\n",
       "    </tr>\n",
       "    <tr>\n",
       "      <th>2</th>\n",
       "      <td>0</td>\n",
       "      <td>0</td>\n",
       "      <td>0</td>\n",
       "      <td>0</td>\n",
       "      <td>0</td>\n",
       "      <td>0</td>\n",
       "      <td>0</td>\n",
       "      <td>0</td>\n",
       "      <td>0</td>\n",
       "      <td>0</td>\n",
       "      <td>...</td>\n",
       "      <td>0</td>\n",
       "      <td>0</td>\n",
       "      <td>0</td>\n",
       "      <td>0</td>\n",
       "      <td>0</td>\n",
       "      <td>0</td>\n",
       "      <td>0</td>\n",
       "      <td>0</td>\n",
       "      <td>0</td>\n",
       "      <td>0</td>\n",
       "    </tr>\n",
       "    <tr>\n",
       "      <th>3</th>\n",
       "      <td>0</td>\n",
       "      <td>0</td>\n",
       "      <td>0</td>\n",
       "      <td>0</td>\n",
       "      <td>0</td>\n",
       "      <td>0</td>\n",
       "      <td>0</td>\n",
       "      <td>0</td>\n",
       "      <td>0</td>\n",
       "      <td>0</td>\n",
       "      <td>...</td>\n",
       "      <td>0</td>\n",
       "      <td>0</td>\n",
       "      <td>0</td>\n",
       "      <td>0</td>\n",
       "      <td>0</td>\n",
       "      <td>0</td>\n",
       "      <td>0</td>\n",
       "      <td>0</td>\n",
       "      <td>0</td>\n",
       "      <td>0</td>\n",
       "    </tr>\n",
       "    <tr>\n",
       "      <th>4</th>\n",
       "      <td>0</td>\n",
       "      <td>0</td>\n",
       "      <td>0</td>\n",
       "      <td>0</td>\n",
       "      <td>0</td>\n",
       "      <td>0</td>\n",
       "      <td>0</td>\n",
       "      <td>0</td>\n",
       "      <td>0</td>\n",
       "      <td>0</td>\n",
       "      <td>...</td>\n",
       "      <td>0</td>\n",
       "      <td>0</td>\n",
       "      <td>0</td>\n",
       "      <td>0</td>\n",
       "      <td>0</td>\n",
       "      <td>0</td>\n",
       "      <td>0</td>\n",
       "      <td>0</td>\n",
       "      <td>0</td>\n",
       "      <td>0</td>\n",
       "    </tr>\n",
       "  </tbody>\n",
       "</table>\n",
       "<p>5 rows × 776 columns</p>\n",
       "</div>"
      ],
      "text/plain": [
       "    African   Air Duct Cleaning   Aircraft Repairs   Airports   Airsoft  \\\n",
       "0         0                   0                  0          0         0   \n",
       "1         0                   0                  0          0         0   \n",
       "2         0                   0                  0          0         0   \n",
       "3         0                   0                  0          0         0   \n",
       "4         0                   0                  0          0         0   \n",
       "\n",
       "    Amateur Sports Teams   American (New)   American (Traditional)  \\\n",
       "0                      0                0                        0   \n",
       "1                      0                0                        0   \n",
       "2                      0                0                        0   \n",
       "3                      0                0                        0   \n",
       "4                      0                0                        0   \n",
       "\n",
       "    Amusement Parks   Animal Shelters     ...       Peruvian  \\\n",
       "0                 0                 0     ...              0   \n",
       "1                 0                 0     ...              0   \n",
       "2                 0                 0     ...              0   \n",
       "3                 0                 0     ...              0   \n",
       "4                 0                 0     ...              0   \n",
       "\n",
       "   Pet Boarding/Pet Sitting  Pet Stores  Pets  Pita  Pizza  Polish  \\\n",
       "0                         0           0     0     0      0       0   \n",
       "1                         0           0     0     0      0       0   \n",
       "2                         0           0     0     0      0       0   \n",
       "3                         0           0     0     0      0       0   \n",
       "4                         0           0     0     0      0       0   \n",
       "\n",
       "   Portuguese  Poutineries  Restaurants  \n",
       "0           0            0            0  \n",
       "1           0            0            0  \n",
       "2           0            0            0  \n",
       "3           0            0            0  \n",
       "4           0            0            0  \n",
       "\n",
       "[5 rows x 776 columns]"
      ]
     },
     "execution_count": 29,
     "metadata": {},
     "output_type": "execute_result"
    }
   ],
   "source": [
    "binary_categories_data.head()"
   ]
  },
  {
   "cell_type": "markdown",
   "metadata": {},
   "source": [
    "Create a new DataFrame that contians the new binary categories"
   ]
  },
  {
   "cell_type": "code",
   "execution_count": 30,
   "metadata": {},
   "outputs": [
    {
     "data": {
      "text/html": [
       "<div>\n",
       "<table border=\"1\" class=\"dataframe\">\n",
       "  <thead>\n",
       "    <tr style=\"text-align: right;\">\n",
       "      <th></th>\n",
       "      <th>Creperies</th>\n",
       "      <th>Tapas Bars</th>\n",
       "      <th>Wigs</th>\n",
       "      <th>Hawaiian</th>\n",
       "      <th>Public Services &amp; Government</th>\n",
       "      <th>Adult Entertainment</th>\n",
       "      <th>General Dentistry</th>\n",
       "      <th>Dance Schools</th>\n",
       "      <th>Bakeries</th>\n",
       "      <th>International Grocery</th>\n",
       "      <th>...</th>\n",
       "      <th>Armenian</th>\n",
       "      <th>Water Heater Installation/Repair</th>\n",
       "      <th>Cooking Schools</th>\n",
       "      <th>Permanent Makeup</th>\n",
       "      <th>Wraps</th>\n",
       "      <th>Beer</th>\n",
       "      <th>Limos</th>\n",
       "      <th>Cambodian</th>\n",
       "      <th>Pool Halls</th>\n",
       "      <th>South African</th>\n",
       "    </tr>\n",
       "  </thead>\n",
       "  <tbody>\n",
       "    <tr>\n",
       "      <th>0</th>\n",
       "      <td>0</td>\n",
       "      <td>0</td>\n",
       "      <td>0</td>\n",
       "      <td>0</td>\n",
       "      <td>0</td>\n",
       "      <td>0</td>\n",
       "      <td>0</td>\n",
       "      <td>0</td>\n",
       "      <td>0</td>\n",
       "      <td>0</td>\n",
       "      <td>...</td>\n",
       "      <td>0</td>\n",
       "      <td>0</td>\n",
       "      <td>0</td>\n",
       "      <td>0</td>\n",
       "      <td>0</td>\n",
       "      <td>0</td>\n",
       "      <td>0</td>\n",
       "      <td>0</td>\n",
       "      <td>0</td>\n",
       "      <td>0</td>\n",
       "    </tr>\n",
       "    <tr>\n",
       "      <th>1</th>\n",
       "      <td>0</td>\n",
       "      <td>0</td>\n",
       "      <td>0</td>\n",
       "      <td>0</td>\n",
       "      <td>0</td>\n",
       "      <td>0</td>\n",
       "      <td>0</td>\n",
       "      <td>0</td>\n",
       "      <td>0</td>\n",
       "      <td>0</td>\n",
       "      <td>...</td>\n",
       "      <td>0</td>\n",
       "      <td>0</td>\n",
       "      <td>0</td>\n",
       "      <td>0</td>\n",
       "      <td>0</td>\n",
       "      <td>0</td>\n",
       "      <td>0</td>\n",
       "      <td>0</td>\n",
       "      <td>0</td>\n",
       "      <td>0</td>\n",
       "    </tr>\n",
       "    <tr>\n",
       "      <th>2</th>\n",
       "      <td>0</td>\n",
       "      <td>0</td>\n",
       "      <td>0</td>\n",
       "      <td>0</td>\n",
       "      <td>0</td>\n",
       "      <td>0</td>\n",
       "      <td>0</td>\n",
       "      <td>0</td>\n",
       "      <td>0</td>\n",
       "      <td>0</td>\n",
       "      <td>...</td>\n",
       "      <td>0</td>\n",
       "      <td>0</td>\n",
       "      <td>0</td>\n",
       "      <td>0</td>\n",
       "      <td>0</td>\n",
       "      <td>0</td>\n",
       "      <td>0</td>\n",
       "      <td>0</td>\n",
       "      <td>0</td>\n",
       "      <td>0</td>\n",
       "    </tr>\n",
       "    <tr>\n",
       "      <th>3</th>\n",
       "      <td>0</td>\n",
       "      <td>0</td>\n",
       "      <td>0</td>\n",
       "      <td>0</td>\n",
       "      <td>0</td>\n",
       "      <td>0</td>\n",
       "      <td>0</td>\n",
       "      <td>0</td>\n",
       "      <td>0</td>\n",
       "      <td>0</td>\n",
       "      <td>...</td>\n",
       "      <td>0</td>\n",
       "      <td>0</td>\n",
       "      <td>0</td>\n",
       "      <td>0</td>\n",
       "      <td>0</td>\n",
       "      <td>0</td>\n",
       "      <td>0</td>\n",
       "      <td>0</td>\n",
       "      <td>0</td>\n",
       "      <td>0</td>\n",
       "    </tr>\n",
       "    <tr>\n",
       "      <th>4</th>\n",
       "      <td>0</td>\n",
       "      <td>0</td>\n",
       "      <td>0</td>\n",
       "      <td>0</td>\n",
       "      <td>0</td>\n",
       "      <td>0</td>\n",
       "      <td>0</td>\n",
       "      <td>0</td>\n",
       "      <td>0</td>\n",
       "      <td>0</td>\n",
       "      <td>...</td>\n",
       "      <td>0</td>\n",
       "      <td>0</td>\n",
       "      <td>0</td>\n",
       "      <td>0</td>\n",
       "      <td>0</td>\n",
       "      <td>0</td>\n",
       "      <td>0</td>\n",
       "      <td>0</td>\n",
       "      <td>0</td>\n",
       "      <td>0</td>\n",
       "    </tr>\n",
       "  </tbody>\n",
       "</table>\n",
       "<p>5 rows × 776 columns</p>\n",
       "</div>"
      ],
      "text/plain": [
       "    Creperies   Tapas Bars   Wigs  Hawaiian   Public Services & Government  \\\n",
       "0           0            0      0         0                              0   \n",
       "1           0            0      0         0                              0   \n",
       "2           0            0      0         0                              0   \n",
       "3           0            0      0         0                              0   \n",
       "4           0            0      0         0                              0   \n",
       "\n",
       "   Adult Entertainment   General Dentistry   Dance Schools  Bakeries  \\\n",
       "0                    0                   0               0         0   \n",
       "1                    0                   0               0         0   \n",
       "2                    0                   0               0         0   \n",
       "3                    0                   0               0         0   \n",
       "4                    0                   0               0         0   \n",
       "\n",
       "    International Grocery       ...         Armenian  \\\n",
       "0                       0       ...                0   \n",
       "1                       0       ...                0   \n",
       "2                       0       ...                0   \n",
       "3                       0       ...                0   \n",
       "4                       0       ...                0   \n",
       "\n",
       "    Water Heater Installation/Repair   Cooking Schools   Permanent Makeup  \\\n",
       "0                                  0                 0                  0   \n",
       "1                                  0                 0                  0   \n",
       "2                                  0                 0                  0   \n",
       "3                                  0                 0                  0   \n",
       "4                                  0                 0                  0   \n",
       "\n",
       "    Wraps  Beer   Limos   Cambodian   Pool Halls   South African  \n",
       "0       0     0       0           0            0               0  \n",
       "1       0     0       0           0            0               0  \n",
       "2       0     0       0           0            0               0  \n",
       "3       0     0       0           0            0               0  \n",
       "4       0     0       0           0            0               0  \n",
       "\n",
       "[5 rows x 776 columns]"
      ]
     },
     "execution_count": 30,
     "metadata": {},
     "output_type": "execute_result"
    }
   ],
   "source": [
    "binary_categories_df = pd.DataFrame(0,index=range(len(business_data)) , columns=flattened_all_categories_set)\n",
    "binary_categories_df.head()"
   ]
  },
  {
   "cell_type": "code",
   "execution_count": 31,
   "metadata": {
    "collapsed": true
   },
   "outputs": [],
   "source": [
    "# business_data.pivot_table(index= range( 144072), columns=['categories'], aggfunc=[len], fill_value=0)\n",
    "# cleaned = business_data.set_index('categories').split(',', expand=True).stack()\n",
    "# business_data['categories']\n",
    "# pd.get_dummies(business_data['categories'])\n",
    "# pd.get_dummies(  business_data['categories']).groupby(level=0)"
   ]
  },
  {
   "cell_type": "code",
   "execution_count": 32,
   "metadata": {
    "collapsed": true
   },
   "outputs": [],
   "source": [
    "# binary_categories_df[['Nightlife', ' Shopping']]  \n",
    "# binary_categories_df.iloc[8][['Nightlife', ' Shopping']]  "
   ]
  },
  {
   "cell_type": "code",
   "execution_count": 33,
   "metadata": {
    "collapsed": true
   },
   "outputs": [],
   "source": [
    "# binary_categories_df[business_data['categories'][0].split(',') ] = 1\n",
    "# binary_categories_df[[' Shopping','Nightlife']]\n",
    "# binary_categories_df.iloc[0][[' Shopping','Nightlife']]\n",
    "# binary_categories_df.iloc[3][business_data['categories'][0].split(',') ] = 0"
   ]
  },
  {
   "cell_type": "markdown",
   "metadata": {},
   "source": [
    "Create the binary categories"
   ]
  },
  {
   "cell_type": "code",
   "execution_count": 34,
   "metadata": {
    "collapsed": true
   },
   "outputs": [],
   "source": [
    "business_data['categories'] = business_data['categories'].dropna()\n",
    "for i in range(len(categories_list)):\n",
    "    if not pd.isnull(business_data['categories'][i]):\n",
    "        binary_categories_df.iloc[i][ business_data['categories'][i].split(',') ] = 1"
   ]
  },
  {
   "cell_type": "code",
   "execution_count": 35,
   "metadata": {},
   "outputs": [
    {
     "data": {
      "text/html": [
       "<div>\n",
       "<table border=\"1\" class=\"dataframe\">\n",
       "  <thead>\n",
       "    <tr style=\"text-align: right;\">\n",
       "      <th></th>\n",
       "      <th>Creperies</th>\n",
       "      <th>Tapas Bars</th>\n",
       "      <th>Wigs</th>\n",
       "      <th>Hawaiian</th>\n",
       "      <th>Public Services &amp; Government</th>\n",
       "      <th>Adult Entertainment</th>\n",
       "      <th>General Dentistry</th>\n",
       "      <th>Dance Schools</th>\n",
       "      <th>Bakeries</th>\n",
       "      <th>International Grocery</th>\n",
       "      <th>...</th>\n",
       "      <th>Armenian</th>\n",
       "      <th>Water Heater Installation/Repair</th>\n",
       "      <th>Cooking Schools</th>\n",
       "      <th>Permanent Makeup</th>\n",
       "      <th>Wraps</th>\n",
       "      <th>Beer</th>\n",
       "      <th>Limos</th>\n",
       "      <th>Cambodian</th>\n",
       "      <th>Pool Halls</th>\n",
       "      <th>South African</th>\n",
       "    </tr>\n",
       "  </thead>\n",
       "  <tbody>\n",
       "    <tr>\n",
       "      <th>0</th>\n",
       "      <td>0</td>\n",
       "      <td>0</td>\n",
       "      <td>0</td>\n",
       "      <td>0</td>\n",
       "      <td>0</td>\n",
       "      <td>0</td>\n",
       "      <td>0</td>\n",
       "      <td>0</td>\n",
       "      <td>0</td>\n",
       "      <td>0</td>\n",
       "      <td>...</td>\n",
       "      <td>0</td>\n",
       "      <td>0</td>\n",
       "      <td>0</td>\n",
       "      <td>0</td>\n",
       "      <td>0</td>\n",
       "      <td>0</td>\n",
       "      <td>0</td>\n",
       "      <td>0</td>\n",
       "      <td>0</td>\n",
       "      <td>0</td>\n",
       "    </tr>\n",
       "    <tr>\n",
       "      <th>1</th>\n",
       "      <td>0</td>\n",
       "      <td>0</td>\n",
       "      <td>0</td>\n",
       "      <td>0</td>\n",
       "      <td>0</td>\n",
       "      <td>0</td>\n",
       "      <td>0</td>\n",
       "      <td>0</td>\n",
       "      <td>0</td>\n",
       "      <td>0</td>\n",
       "      <td>...</td>\n",
       "      <td>0</td>\n",
       "      <td>0</td>\n",
       "      <td>0</td>\n",
       "      <td>0</td>\n",
       "      <td>0</td>\n",
       "      <td>0</td>\n",
       "      <td>0</td>\n",
       "      <td>0</td>\n",
       "      <td>0</td>\n",
       "      <td>0</td>\n",
       "    </tr>\n",
       "    <tr>\n",
       "      <th>2</th>\n",
       "      <td>0</td>\n",
       "      <td>0</td>\n",
       "      <td>0</td>\n",
       "      <td>0</td>\n",
       "      <td>0</td>\n",
       "      <td>0</td>\n",
       "      <td>0</td>\n",
       "      <td>0</td>\n",
       "      <td>0</td>\n",
       "      <td>0</td>\n",
       "      <td>...</td>\n",
       "      <td>0</td>\n",
       "      <td>0</td>\n",
       "      <td>0</td>\n",
       "      <td>0</td>\n",
       "      <td>0</td>\n",
       "      <td>0</td>\n",
       "      <td>0</td>\n",
       "      <td>0</td>\n",
       "      <td>0</td>\n",
       "      <td>0</td>\n",
       "    </tr>\n",
       "    <tr>\n",
       "      <th>3</th>\n",
       "      <td>0</td>\n",
       "      <td>0</td>\n",
       "      <td>0</td>\n",
       "      <td>0</td>\n",
       "      <td>0</td>\n",
       "      <td>0</td>\n",
       "      <td>0</td>\n",
       "      <td>0</td>\n",
       "      <td>0</td>\n",
       "      <td>0</td>\n",
       "      <td>...</td>\n",
       "      <td>0</td>\n",
       "      <td>0</td>\n",
       "      <td>0</td>\n",
       "      <td>0</td>\n",
       "      <td>0</td>\n",
       "      <td>0</td>\n",
       "      <td>0</td>\n",
       "      <td>0</td>\n",
       "      <td>0</td>\n",
       "      <td>0</td>\n",
       "    </tr>\n",
       "    <tr>\n",
       "      <th>4</th>\n",
       "      <td>0</td>\n",
       "      <td>0</td>\n",
       "      <td>0</td>\n",
       "      <td>0</td>\n",
       "      <td>0</td>\n",
       "      <td>0</td>\n",
       "      <td>0</td>\n",
       "      <td>0</td>\n",
       "      <td>0</td>\n",
       "      <td>0</td>\n",
       "      <td>...</td>\n",
       "      <td>0</td>\n",
       "      <td>0</td>\n",
       "      <td>0</td>\n",
       "      <td>0</td>\n",
       "      <td>0</td>\n",
       "      <td>0</td>\n",
       "      <td>0</td>\n",
       "      <td>0</td>\n",
       "      <td>0</td>\n",
       "      <td>0</td>\n",
       "    </tr>\n",
       "  </tbody>\n",
       "</table>\n",
       "<p>5 rows × 776 columns</p>\n",
       "</div>"
      ],
      "text/plain": [
       "    Creperies   Tapas Bars   Wigs  Hawaiian   Public Services & Government  \\\n",
       "0           0            0      0         0                              0   \n",
       "1           0            0      0         0                              0   \n",
       "2           0            0      0         0                              0   \n",
       "3           0            0      0         0                              0   \n",
       "4           0            0      0         0                              0   \n",
       "\n",
       "   Adult Entertainment   General Dentistry   Dance Schools  Bakeries  \\\n",
       "0                    0                   0               0         0   \n",
       "1                    0                   0               0         0   \n",
       "2                    0                   0               0         0   \n",
       "3                    0                   0               0         0   \n",
       "4                    0                   0               0         0   \n",
       "\n",
       "    International Grocery       ...         Armenian  \\\n",
       "0                       0       ...                0   \n",
       "1                       0       ...                0   \n",
       "2                       0       ...                0   \n",
       "3                       0       ...                0   \n",
       "4                       0       ...                0   \n",
       "\n",
       "    Water Heater Installation/Repair   Cooking Schools   Permanent Makeup  \\\n",
       "0                                  0                 0                  0   \n",
       "1                                  0                 0                  0   \n",
       "2                                  0                 0                  0   \n",
       "3                                  0                 0                  0   \n",
       "4                                  0                 0                  0   \n",
       "\n",
       "    Wraps  Beer   Limos   Cambodian   Pool Halls   South African  \n",
       "0       0     0       0           0            0               0  \n",
       "1       0     0       0           0            0               0  \n",
       "2       0     0       0           0            0               0  \n",
       "3       0     0       0           0            0               0  \n",
       "4       0     0       0           0            0               0  \n",
       "\n",
       "[5 rows x 776 columns]"
      ]
     },
     "execution_count": 35,
     "metadata": {},
     "output_type": "execute_result"
    }
   ],
   "source": [
    "binary_categories_df.head()"
   ]
  },
  {
   "cell_type": "markdown",
   "metadata": {},
   "source": [
    "Checking if the binary lables was succeeded "
   ]
  },
  {
   "cell_type": "code",
   "execution_count": 36,
   "metadata": {},
   "outputs": [
    {
     "name": "stdout",
     "output_type": "stream",
     "text": [
      "The original business_data[categories] at index 3255 is: Asian Fusion, Restaurants, Thai\n",
      "SUM = 3\n",
      "The Binary labels binary_categories_df at index 3255 is:\n",
      " Thai\n",
      "Asian Fusion\n",
      " Restaurants\n",
      "SUM = 3\n"
     ]
    }
   ],
   "source": [
    "index = random.randint(0,len( binary_categories_df))\n",
    "print( 'The original business_data[categories] at index %d is: %s' % (index,business_data['categories'][index]))\n",
    "print('SUM = %d' % len(business_data['categories'][index].split(',')))\n",
    "print( 'The Binary labels binary_categories_df at index %d is:' % index )\n",
    "count = 0 \n",
    "for i in range(len( binary_categories_df.iloc[index] )):\n",
    "    if binary_categories_df.iloc[index][i] == 1:\n",
    "        print(binary_categories_df.columns[i] )\n",
    "        count = count + 1\n",
    "print('SUM = %d' % count )\n",
    "assert( count == len(business_data['categories'][index].split(',')))"
   ]
  },
  {
   "cell_type": "markdown",
   "metadata": {
    "collapsed": true
   },
   "source": [
    "Insert the new labels as a new feature in the CSV business data file"
   ]
  },
  {
   "cell_type": "code",
   "execution_count": 41,
   "metadata": {},
   "outputs": [
    {
     "data": {
      "text/plain": [
       "893"
      ]
     },
     "execution_count": 41,
     "metadata": {},
     "output_type": "execute_result"
    }
   ],
   "source": [
    "binary_categories_df.shape[1] + business_data.shape[1]"
   ]
  },
  {
   "cell_type": "code",
   "execution_count": 18,
   "metadata": {
    "collapsed": true
   },
   "outputs": [],
   "source": [
    "business_data.drop('categories',axis=1, inplace=True)\n",
    "business_data = business_data.join(binary_categories_df)"
   ]
  },
  {
   "cell_type": "code",
   "execution_count": 19,
   "metadata": {},
   "outputs": [
    {
     "name": "stdout",
     "output_type": "stream",
     "text": [
      "The number of columns of the new data frame is: 892\n"
     ]
    },
    {
     "data": {
      "text/html": [
       "<div>\n",
       "<table border=\"1\" class=\"dataframe\">\n",
       "  <thead>\n",
       "    <tr style=\"text-align: right;\">\n",
       "      <th></th>\n",
       "      <th>Unnamed: 0</th>\n",
       "      <th>address</th>\n",
       "      <th>attribute_AcceptsInsurance</th>\n",
       "      <th>attribute_AgesAllowed</th>\n",
       "      <th>attribute_Alcohol</th>\n",
       "      <th>attribute_Ambience_casual</th>\n",
       "      <th>attribute_Ambience_classy</th>\n",
       "      <th>attribute_Ambience_divey</th>\n",
       "      <th>attribute_Ambience_hipster</th>\n",
       "      <th>attribute_Ambience_intimate</th>\n",
       "      <th>...</th>\n",
       "      <th>Acupuncture</th>\n",
       "      <th>Kids Activities</th>\n",
       "      <th>Bagels</th>\n",
       "      <th>Pan Asian</th>\n",
       "      <th>Gay Bars</th>\n",
       "      <th>Opera &amp; Ballet</th>\n",
       "      <th>Financial Services</th>\n",
       "      <th>Pakistani</th>\n",
       "      <th>Oil Change Stations</th>\n",
       "      <th>Trainers</th>\n",
       "    </tr>\n",
       "  </thead>\n",
       "  <tbody>\n",
       "    <tr>\n",
       "      <th>0</th>\n",
       "      <td>0</td>\n",
       "      <td>979 Bloor Street W</td>\n",
       "      <td>False</td>\n",
       "      <td>False</td>\n",
       "      <td>none</td>\n",
       "      <td>False</td>\n",
       "      <td>False</td>\n",
       "      <td>False</td>\n",
       "      <td>False</td>\n",
       "      <td>False</td>\n",
       "      <td>...</td>\n",
       "      <td>0</td>\n",
       "      <td>0</td>\n",
       "      <td>0</td>\n",
       "      <td>0</td>\n",
       "      <td>0</td>\n",
       "      <td>0</td>\n",
       "      <td>0</td>\n",
       "      <td>0</td>\n",
       "      <td>0</td>\n",
       "      <td>0</td>\n",
       "    </tr>\n",
       "    <tr>\n",
       "      <th>1</th>\n",
       "      <td>1</td>\n",
       "      <td>11072 No Frank Lloyd Wright</td>\n",
       "      <td>False</td>\n",
       "      <td>False</td>\n",
       "      <td>none</td>\n",
       "      <td>False</td>\n",
       "      <td>False</td>\n",
       "      <td>False</td>\n",
       "      <td>False</td>\n",
       "      <td>False</td>\n",
       "      <td>...</td>\n",
       "      <td>0</td>\n",
       "      <td>0</td>\n",
       "      <td>0</td>\n",
       "      <td>0</td>\n",
       "      <td>0</td>\n",
       "      <td>0</td>\n",
       "      <td>0</td>\n",
       "      <td>0</td>\n",
       "      <td>0</td>\n",
       "      <td>0</td>\n",
       "    </tr>\n",
       "    <tr>\n",
       "      <th>2</th>\n",
       "      <td>2</td>\n",
       "      <td>1500 N Green Valley Pkwy, Ste 230</td>\n",
       "      <td>False</td>\n",
       "      <td>False</td>\n",
       "      <td>none</td>\n",
       "      <td>True</td>\n",
       "      <td>False</td>\n",
       "      <td>False</td>\n",
       "      <td>False</td>\n",
       "      <td>False</td>\n",
       "      <td>...</td>\n",
       "      <td>0</td>\n",
       "      <td>0</td>\n",
       "      <td>0</td>\n",
       "      <td>0</td>\n",
       "      <td>0</td>\n",
       "      <td>0</td>\n",
       "      <td>0</td>\n",
       "      <td>0</td>\n",
       "      <td>0</td>\n",
       "      <td>0</td>\n",
       "    </tr>\n",
       "    <tr>\n",
       "      <th>3</th>\n",
       "      <td>3</td>\n",
       "      <td>1052 Lionel-Daunais, Suite 302</td>\n",
       "      <td>False</td>\n",
       "      <td>False</td>\n",
       "      <td>False</td>\n",
       "      <td>False</td>\n",
       "      <td>False</td>\n",
       "      <td>False</td>\n",
       "      <td>False</td>\n",
       "      <td>False</td>\n",
       "      <td>...</td>\n",
       "      <td>0</td>\n",
       "      <td>0</td>\n",
       "      <td>0</td>\n",
       "      <td>0</td>\n",
       "      <td>0</td>\n",
       "      <td>0</td>\n",
       "      <td>0</td>\n",
       "      <td>0</td>\n",
       "      <td>0</td>\n",
       "      <td>0</td>\n",
       "    </tr>\n",
       "    <tr>\n",
       "      <th>4</th>\n",
       "      <td>4</td>\n",
       "      <td>2000 Mansfield Street, Suite 104</td>\n",
       "      <td>False</td>\n",
       "      <td>False</td>\n",
       "      <td>False</td>\n",
       "      <td>False</td>\n",
       "      <td>False</td>\n",
       "      <td>False</td>\n",
       "      <td>False</td>\n",
       "      <td>False</td>\n",
       "      <td>...</td>\n",
       "      <td>0</td>\n",
       "      <td>0</td>\n",
       "      <td>0</td>\n",
       "      <td>0</td>\n",
       "      <td>0</td>\n",
       "      <td>0</td>\n",
       "      <td>0</td>\n",
       "      <td>0</td>\n",
       "      <td>0</td>\n",
       "      <td>0</td>\n",
       "    </tr>\n",
       "  </tbody>\n",
       "</table>\n",
       "<p>5 rows × 892 columns</p>\n",
       "</div>"
      ],
      "text/plain": [
       "   Unnamed: 0                            address attribute_AcceptsInsurance  \\\n",
       "0           0                 979 Bloor Street W                      False   \n",
       "1           1        11072 No Frank Lloyd Wright                      False   \n",
       "2           2  1500 N Green Valley Pkwy, Ste 230                      False   \n",
       "3           3     1052 Lionel-Daunais, Suite 302                      False   \n",
       "4           4   2000 Mansfield Street, Suite 104                      False   \n",
       "\n",
       "  attribute_AgesAllowed attribute_Alcohol attribute_Ambience_casual  \\\n",
       "0                 False              none                     False   \n",
       "1                 False              none                     False   \n",
       "2                 False              none                      True   \n",
       "3                 False             False                     False   \n",
       "4                 False             False                     False   \n",
       "\n",
       "  attribute_Ambience_classy attribute_Ambience_divey  \\\n",
       "0                     False                    False   \n",
       "1                     False                    False   \n",
       "2                     False                    False   \n",
       "3                     False                    False   \n",
       "4                     False                    False   \n",
       "\n",
       "  attribute_Ambience_hipster attribute_Ambience_intimate    ...     \\\n",
       "0                      False                       False    ...      \n",
       "1                      False                       False    ...      \n",
       "2                      False                       False    ...      \n",
       "3                      False                       False    ...      \n",
       "4                      False                       False    ...      \n",
       "\n",
       "  Acupuncture  Kids Activities Bagels Pan Asian  Gay Bars  Opera & Ballet  \\\n",
       "0           0                0      0         0         0               0   \n",
       "1           0                0      0         0         0               0   \n",
       "2           0                0      0         0         0               0   \n",
       "3           0                0      0         0         0               0   \n",
       "4           0                0      0         0         0               0   \n",
       "\n",
       "   Financial Services  Pakistani  Oil Change Stations  Trainers  \n",
       "0                   0          0                    0         0  \n",
       "1                   0          0                    0         0  \n",
       "2                   0          0                    0         0  \n",
       "3                   0          0                    0         0  \n",
       "4                   0          0                    0         0  \n",
       "\n",
       "[5 rows x 892 columns]"
      ]
     },
     "execution_count": 19,
     "metadata": {},
     "output_type": "execute_result"
    }
   ],
   "source": [
    "print ( 'The number of columns of the new data frame is: %d' % len(business_data.columns))\n",
    "business_data.head()"
   ]
  },
  {
   "cell_type": "markdown",
   "metadata": {},
   "source": [
    "Save the file"
   ]
  },
  {
   "cell_type": "code",
   "execution_count": 20,
   "metadata": {
    "collapsed": true
   },
   "outputs": [],
   "source": [
    "business_data_name_to_save = 'yelp_academic_dataset_business_with_Clustered_location_with_Binary_Categories_restaurants.csv'\n",
    "business_fullpath = os.path.join( data_path, business_data_name_to_save )\n",
    "business_data.to_csv(business_fullpath )"
   ]
  },
  {
   "cell_type": "code",
   "execution_count": 54,
   "metadata": {
    "collapsed": true
   },
   "outputs": [],
   "source": [
    "save_json = False\n",
    "if save_json:\n",
    "    business_data_name_to_save = 'yelp_academic_dataset_business_with_Clustered_location_with_Binary_Categories.json'\n",
    "    business_fullpath = os.path.join( data_path, business_data_name_to_save )\n",
    "    business_data.to_json(business_fullpath, lines=True, orient='records')"
   ]
  }
 ],
 "metadata": {
  "kernelspec": {
   "display_name": "Python 3",
   "language": "python",
   "name": "python3"
  },
  "language_info": {
   "codemirror_mode": {
    "name": "ipython",
    "version": 3
   },
   "file_extension": ".py",
   "mimetype": "text/x-python",
   "name": "python",
   "nbconvert_exporter": "python",
   "pygments_lexer": "ipython3",
   "version": "3.5.3"
  }
 },
 "nbformat": 4,
 "nbformat_minor": 2
}
